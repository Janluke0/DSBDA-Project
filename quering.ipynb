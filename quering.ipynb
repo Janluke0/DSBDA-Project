{
 "metadata": {
  "language_info": {
   "codemirror_mode": {
    "name": "ipython",
    "version": 3
   },
   "file_extension": ".py",
   "mimetype": "text/x-python",
   "name": "python",
   "nbconvert_exporter": "python",
   "pygments_lexer": "ipython3",
   "version": "3.7.5-final"
  },
  "orig_nbformat": 2,
  "kernelspec": {
   "name": "python3",
   "display_name": "Python 3"
  }
 },
 "nbformat": 4,
 "nbformat_minor": 2,
 "cells": [
  {
   "cell_type": "code",
   "execution_count": 2,
   "metadata": {},
   "outputs": [],
   "source": [
    "import pymongo\n",
    "import json \n",
    "import pandas as pd"
   ]
  },
  {
   "cell_type": "code",
   "execution_count": 3,
   "metadata": {},
   "outputs": [],
   "source": [
    "URI = \"mongodb://127.0.0.1:27017/?readPreference=primary&ssl=false\"\n",
    "client = pymongo.MongoClient(URI)\n",
    "db = client['movie_dataset']"
   ]
  },
  {
   "cell_type": "code",
   "execution_count": 4,
   "metadata": {},
   "outputs": [
    {
     "output_type": "execute_result",
     "data": {
      "text/plain": "       _id  movies_count\n0    66968             2\n1  1066132             2\n2   581074             2\n3   582186             2\n4   558955             2",
      "text/html": "<div>\n<style scoped>\n    .dataframe tbody tr th:only-of-type {\n        vertical-align: middle;\n    }\n\n    .dataframe tbody tr th {\n        vertical-align: top;\n    }\n\n    .dataframe thead th {\n        text-align: right;\n    }\n</style>\n<table border=\"1\" class=\"dataframe\">\n  <thead>\n    <tr style=\"text-align: right;\">\n      <th></th>\n      <th>_id</th>\n      <th>movies_count</th>\n    </tr>\n  </thead>\n  <tbody>\n    <tr>\n      <th>0</th>\n      <td>66968</td>\n      <td>2</td>\n    </tr>\n    <tr>\n      <th>1</th>\n      <td>1066132</td>\n      <td>2</td>\n    </tr>\n    <tr>\n      <th>2</th>\n      <td>581074</td>\n      <td>2</td>\n    </tr>\n    <tr>\n      <th>3</th>\n      <td>582186</td>\n      <td>2</td>\n    </tr>\n    <tr>\n      <th>4</th>\n      <td>558955</td>\n      <td>2</td>\n    </tr>\n  </tbody>\n</table>\n</div>"
     },
     "metadata": {},
     "execution_count": 4
    }
   ],
   "source": [
    "#query examples\n",
    "#people that act in at least 2 movies\n",
    "tmp = pd.DataFrame(\n",
    "        db.cast.aggregate([\n",
    "            {'$group':{ '_id':'$person_id', 'count': {'$sum': 1}}},#count(*) group by person_id\n",
    "            {'$match':{'count': {'$gt': 1}}},#where count > 1\n",
    "            {'$project':{'movies_count':'$count'}}# count as movies_count\n",
    "        ])\n",
    "    , dtype=int)\n",
    "tmp.head()"
   ]
  },
  {
   "cell_type": "code",
   "execution_count": 4,
   "metadata": {},
   "outputs": [
    {
     "output_type": "execute_result",
     "data": {
      "text/plain": "      _id  count  avg_rate\n0  171221      1       5.0\n1  147827      1       5.0\n2  145078      1       1.0\n3  142903      1       5.0\n4  141286      1       3.0",
      "text/html": "<div>\n<style scoped>\n    .dataframe tbody tr th:only-of-type {\n        vertical-align: middle;\n    }\n\n    .dataframe tbody tr th {\n        vertical-align: top;\n    }\n\n    .dataframe thead th {\n        text-align: right;\n    }\n</style>\n<table border=\"1\" class=\"dataframe\">\n  <thead>\n    <tr style=\"text-align: right;\">\n      <th></th>\n      <th>_id</th>\n      <th>count</th>\n      <th>avg_rate</th>\n    </tr>\n  </thead>\n  <tbody>\n    <tr>\n      <th>0</th>\n      <td>171221</td>\n      <td>1</td>\n      <td>5.0</td>\n    </tr>\n    <tr>\n      <th>1</th>\n      <td>147827</td>\n      <td>1</td>\n      <td>5.0</td>\n    </tr>\n    <tr>\n      <th>2</th>\n      <td>145078</td>\n      <td>1</td>\n      <td>1.0</td>\n    </tr>\n    <tr>\n      <th>3</th>\n      <td>142903</td>\n      <td>1</td>\n      <td>5.0</td>\n    </tr>\n    <tr>\n      <th>4</th>\n      <td>141286</td>\n      <td>1</td>\n      <td>3.0</td>\n    </tr>\n  </tbody>\n</table>\n</div>"
     },
     "metadata": {},
     "execution_count": 4
    }
   ],
   "source": [
    "tmp = pd.DataFrame(\n",
    "        db.ratings.aggregate([\n",
    "            {'$group':{ '_id':'$movieId', 'count': {'$sum': 1}, 'avg_rate':{'$avg':'$rating'}}},\n",
    "            #{'$match':{'count': {'$gt': 1}}},\n",
    "            #{'$project':{'movies_count':'$count'}}\n",
    "        ])\n",
    "    , dtype=int)\n",
    "tmp.head()"
   ]
  },
  {
   "cell_type": "code",
   "execution_count": 9,
   "metadata": {},
   "outputs": [
    {
     "output_type": "execute_result",
     "data": {
      "text/plain": "_id         176275.0\ncount        91921.0\navg_rate         5.0\ndtype: float64"
     },
     "metadata": {},
     "execution_count": 9
    }
   ],
   "source": [
    "tmp.max()"
   ]
  },
  {
   "cell_type": "code",
   "execution_count": null,
   "metadata": {},
   "outputs": [],
   "source": []
  }
 ]
}