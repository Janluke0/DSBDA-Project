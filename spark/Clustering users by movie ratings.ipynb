{
 "cells": [
  {
   "cell_type": "markdown",
   "metadata": {},
   "source": [
    "# cluster users by ratings "
   ]
  },
  {
   "cell_type": "code",
   "execution_count": 76,
   "metadata": {},
   "outputs": [],
   "source": [
    "import helper as h\n",
    "import pyspark.sql.functions as F\n",
    "import pymongo\n",
    "\n",
    "from pyspark.mllib.clustering import KMeans\n",
    "from pyspark.ml.feature import VectorAssembler\n",
    "\n",
    "import matplotlib.pyplot as plt\n",
    "import pandas as pd\n",
    "\n",
    "from pyspark.mllib.linalg import Vectors\n",
    "from pyspark.mllib.linalg.distributed import RowMatrix"
   ]
  },
  {
   "cell_type": "markdown",
   "metadata": {},
   "source": [
    "# Grep data"
   ]
  },
  {
   "cell_type": "code",
   "execution_count": 3,
   "metadata": {},
   "outputs": [],
   "source": [
    "# Requires the PyMongo package.\n",
    "# https://api.mongodb.com/python/current\n",
    "top_mv = 20\n",
    "client = pymongo.MongoClient('mongodb://127.0.0.1:27017/?readPreference=primary&appname=MongoDB%20Compass&ssl=false')\n",
    "db = client['movie_dataset']\n",
    "result = db['ratings'].aggregate([\n",
    "    {'$group': {\n",
    "            '_id': '$movieId', \n",
    "            'count': {'$sum': 1}\n",
    "    }}, \n",
    "    {'$sort': {'count': -1}}, \n",
    "    {'$limit': top_mv}, \n",
    "    {'$project': {'_id': 1}}\n",
    "])\n",
    "fields = {str(r['_id']):1 for r in result}"
   ]
  },
  {
   "cell_type": "code",
   "execution_count": 4,
   "metadata": {},
   "outputs": [],
   "source": [
    "TOT = 270896 \n",
    "limit = TOT//3\n",
    "#take the first 1/3 of the users and the top 2k voted films\n",
    "pipeline = [\n",
    "    {\"$limit\":limit},\n",
    "    {\"$project\":fields}\n",
    "]\n",
    "\n",
    "#pipeline"
   ]
  },
  {
   "cell_type": "code",
   "execution_count": 23,
   "metadata": {},
   "outputs": [],
   "source": [
    "spark = h.get_session(\"movie_dataset\", \"reshaped_ratings\")\n",
    "df = spark.read.format(h.FORMAT).option(\"pipeline\",pipeline).load().na.fill(0)\n",
    "df.createOrReplaceTempView(\"ratings\")"
   ]
  },
  {
   "cell_type": "markdown",
   "metadata": {},
   "source": [
    "## Split dataset"
   ]
  },
  {
   "cell_type": "code",
   "execution_count": 40,
   "metadata": {},
   "outputs": [],
   "source": [
    "#USE_PERCENTAGE = 0.3\n",
    "#train, test, consider later\n",
    "#split = [.7*USE_PERCENTAGE, .3*USE_PERCENTAGE, 1-USE_PERCENTAGE]\n",
    "split = [.7, .3]\n",
    "df_train, df_test = df.randomSplit(split, 42)"
   ]
  },
  {
   "cell_type": "code",
   "execution_count": 130,
   "metadata": {},
   "outputs": [],
   "source": [
    "rdd_test = df_test.select(*df_test.columns[:-1]).rdd.map(lambda x: (*x,))"
   ]
  },
  {
   "cell_type": "code",
   "execution_count": 131,
   "metadata": {},
   "outputs": [],
   "source": [
    "rdd = df_train.select(*df_train.columns[:-2]).rdd.map(lambda x: (*x,))"
   ]
  },
  {
   "cell_type": "markdown",
   "metadata": {},
   "source": [
    "## KMeans"
   ]
  },
  {
   "cell_type": "code",
   "execution_count": 132,
   "metadata": {},
   "outputs": [],
   "source": [
    "kmeans = KMeans.train(rdd, 15,seed=42)"
   ]
  },
  {
   "cell_type": "code",
   "execution_count": 141,
   "metadata": {},
   "outputs": [],
   "source": [
    "pred_df = kmeans.predict(rdd_test).map(lambda x: (x, )).toDF().toPandas()"
   ]
  },
  {
   "cell_type": "code",
   "execution_count": 142,
   "metadata": {},
   "outputs": [
    {
     "data": {
      "text/html": [
       "<div>\n",
       "<style scoped>\n",
       "    .dataframe tbody tr th:only-of-type {\n",
       "        vertical-align: middle;\n",
       "    }\n",
       "\n",
       "    .dataframe tbody tr th {\n",
       "        vertical-align: top;\n",
       "    }\n",
       "\n",
       "    .dataframe thead th {\n",
       "        text-align: right;\n",
       "    }\n",
       "</style>\n",
       "<table border=\"1\" class=\"dataframe\">\n",
       "  <thead>\n",
       "    <tr style=\"text-align: right;\">\n",
       "      <th></th>\n",
       "      <th>_1</th>\n",
       "    </tr>\n",
       "  </thead>\n",
       "  <tbody>\n",
       "    <tr>\n",
       "      <th>0</th>\n",
       "      <td>8</td>\n",
       "    </tr>\n",
       "    <tr>\n",
       "      <th>1</th>\n",
       "      <td>1</td>\n",
       "    </tr>\n",
       "    <tr>\n",
       "      <th>2</th>\n",
       "      <td>5</td>\n",
       "    </tr>\n",
       "    <tr>\n",
       "      <th>3</th>\n",
       "      <td>1</td>\n",
       "    </tr>\n",
       "    <tr>\n",
       "      <th>4</th>\n",
       "      <td>2</td>\n",
       "    </tr>\n",
       "    <tr>\n",
       "      <th>...</th>\n",
       "      <td>...</td>\n",
       "    </tr>\n",
       "    <tr>\n",
       "      <th>79866</th>\n",
       "      <td>5</td>\n",
       "    </tr>\n",
       "    <tr>\n",
       "      <th>79867</th>\n",
       "      <td>5</td>\n",
       "    </tr>\n",
       "    <tr>\n",
       "      <th>79868</th>\n",
       "      <td>5</td>\n",
       "    </tr>\n",
       "    <tr>\n",
       "      <th>79869</th>\n",
       "      <td>5</td>\n",
       "    </tr>\n",
       "    <tr>\n",
       "      <th>79870</th>\n",
       "      <td>5</td>\n",
       "    </tr>\n",
       "  </tbody>\n",
       "</table>\n",
       "<p>79871 rows × 1 columns</p>\n",
       "</div>"
      ],
      "text/plain": [
       "       _1\n",
       "0       8\n",
       "1       1\n",
       "2       5\n",
       "3       1\n",
       "4       2\n",
       "...    ..\n",
       "79866   5\n",
       "79867   5\n",
       "79868   5\n",
       "79869   5\n",
       "79870   5\n",
       "\n",
       "[79871 rows x 1 columns]"
      ]
     },
     "execution_count": 142,
     "metadata": {},
     "output_type": "execute_result"
    }
   ],
   "source": [
    "c = pred_df._1.values\n",
    "pred_df"
   ]
  },
  {
   "cell_type": "markdown",
   "metadata": {},
   "source": [
    "## Principal components"
   ]
  },
  {
   "cell_type": "code",
   "execution_count": 135,
   "metadata": {},
   "outputs": [],
   "source": [
    "mat = RowMatrix(rdd)\n",
    "mat_test = RowMatrix(rdd_test)\n",
    "pc = mat.computePrincipalComponents(2)"
   ]
  },
  {
   "cell_type": "code",
   "execution_count": 136,
   "metadata": {},
   "outputs": [],
   "source": [
    "projected = mat_test.multiply(pc)"
   ]
  },
  {
   "cell_type": "code",
   "execution_count": 137,
   "metadata": {},
   "outputs": [],
   "source": [
    "projected_df = projected.rows.map(lambda x: (x, )).toDF().toPandas()"
   ]
  },
  {
   "cell_type": "code",
   "execution_count": 138,
   "metadata": {},
   "outputs": [],
   "source": [
    "x = projected_df._1.apply(lambda v: v[0]).values\n",
    "y = projected_df._1.apply(lambda v: v[1]).values"
   ]
  },
  {
   "cell_type": "code",
   "execution_count": 139,
   "metadata": {},
   "outputs": [],
   "source": [
    "x -= x.mean()\n",
    "x /= x.max()"
   ]
  },
  {
   "cell_type": "code",
   "execution_count": 147,
   "metadata": {},
   "outputs": [
    {
     "data": {
      "text/plain": [
       "array([-0.01299552, -0.17779811,  0.        , ..., -0.28409648,\n",
       "       -0.28409648, -0.31893968])"
      ]
     },
     "execution_count": 147,
     "metadata": {},
     "output_type": "execute_result"
    }
   ],
   "source": [
    "y[c==1]"
   ]
  },
  {
   "cell_type": "code",
   "execution_count": 163,
   "metadata": {},
   "outputs": [
    {
     "data": {
      "text/plain": [
       "<matplotlib.collections.PathCollection at 0x7f0b9c4595d0>"
      ]
     },
     "execution_count": 163,
     "metadata": {},
     "output_type": "execute_result"
    },
    {
     "data": {
      "image/png": "[encoded data removed]",
      "text/plain": [
       "<Figure size 720x576 with 16 Axes>"
      ]
     },
     "metadata": {
      "needs_background": "light"
     },
     "output_type": "display_data"
    }
   ],
   "source": [
    "plt.figure(figsize=(10,8))\n",
    "\n",
    "for i in range(15):\n",
    "    ax = plt.subplot(4,4,i+1)\n",
    "    plt.ylim([-2,2])\n",
    "    plt.xlim([-2,2])\n",
    "    plt.scatter(x[c==i], y[c==i])\n",
    "\n",
    "plt.subplot(4,4,16)\n",
    "plt.scatter(x, y, c=c)"
   ]
  },
  {
   "cell_type": "code",
   "execution_count": 114,
   "metadata": {},
   "outputs": [
    {
     "data": {
      "text/plain": [
       "array([ 1.02530670e+00, -1.24010890e+00,  4.37521760e-04, ...,\n",
       "       -4.41888529e+00, -4.41888522e+00, -4.41888475e+00])"
      ]
     },
     "execution_count": 114,
     "metadata": {},
     "output_type": "execute_result"
    }
   ],
   "source": [
    "y"
   ]
  }
 ],
 "metadata": {
  "kernelspec": {
   "display_name": "Python 3",
   "language": "python",
   "name": "python3"
  },
  "language_info": {
   "codemirror_mode": {
    "name": "ipython",
    "version": 3
   },
   "file_extension": ".py",
   "mimetype": "text/x-python",
   "name": "python",
   "nbconvert_exporter": "python",
   "pygments_lexer": "ipython3",
   "version": "3.7.6"
  }
 },
 "nbformat": 4,
 "nbformat_minor": 4
}
