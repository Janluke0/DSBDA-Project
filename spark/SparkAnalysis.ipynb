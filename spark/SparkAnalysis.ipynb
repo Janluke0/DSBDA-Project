{
 "cells": [
  {
   "cell_type": "code",
   "execution_count": 1,
   "metadata": {},
   "outputs": [],
   "source": [
    "#importo la libreria di gianluca\n",
    "import helper\n"
   ]
  },
  {
   "cell_type": "code",
   "execution_count": 2,
   "metadata": {},
   "outputs": [],
   "source": [
    "#importo le librerie che mi seriranno\n",
    "from pyspark.ml.feature import HashingTF, IDF, Tokenizer, CountVectorizer\n",
    "from pyspark.ml.feature import StringIndexer\n",
    "from pyspark.ml import Pipeline\n",
    "from pyspark.ml.classification import LogisticRegression\n",
    "\n",
    "from pyspark.ml.evaluation import MulticlassClassificationEvaluator"
   ]
  },
  {
   "cell_type": "code",
   "execution_count": 3,
   "metadata": {},
   "outputs": [],
   "source": [
    "#apro sessione con la collection metadata\n",
    "spark1 = helper.get_session(\"MPST\",\"metadata\")"
   ]
  },
  {
   "cell_type": "code",
   "execution_count": 4,
   "metadata": {},
   "outputs": [],
   "source": [
    "#leggo il formato mongodb\n",
    "df = spark1.read.format(\"com.mongodb.spark.sql.DefaultSource\").load()"
   ]
  },
  {
   "cell_type": "code",
   "execution_count": 5,
   "metadata": {},
   "outputs": [
    {
     "name": "stdout",
     "output_type": "stream",
     "text": [
      "+---------+-----+---------------+\n",
      "|      _id|split|synopsis_source|\n",
      "+---------+-----+---------------+\n",
      "|tt0000091|train|      wikipedia|\n",
      "|tt0000225|train|      wikipedia|\n",
      "|tt0000230|train|      wikipedia|\n",
      "|tt0000417|train|           imdb|\n",
      "|tt0000488|train|      wikipedia|\n",
      "+---------+-----+---------------+\n",
      "only showing top 5 rows\n",
      "\n"
     ]
    }
   ],
   "source": [
    "df.show(5)"
   ]
  },
  {
   "cell_type": "code",
   "execution_count": 6,
   "metadata": {},
   "outputs": [],
   "source": [
    "#apro sessione con la collection tags\n",
    "spark = helper.get_session(\"MPST\",\"tags\")"
   ]
  },
  {
   "cell_type": "code",
   "execution_count": 7,
   "metadata": {},
   "outputs": [],
   "source": [
    "df2 = spark.read.format(\"com.mongodb.spark.sql.DefaultSource\").load()"
   ]
  },
  {
   "cell_type": "code",
   "execution_count": 8,
   "metadata": {},
   "outputs": [
    {
     "name": "stdout",
     "output_type": "stream",
     "text": [
      "+---------+--------------------+\n",
      "|      _id|                tags|\n",
      "+---------+--------------------+\n",
      "|tt0000091|  paranormal, gothic|\n",
      "|tt0000225|             fantasy|\n",
      "|tt0000230|             fantasy|\n",
      "|tt0000417| psychedelic, satire|\n",
      "|tt0000488|fantasy, storytel...|\n",
      "+---------+--------------------+\n",
      "only showing top 5 rows\n",
      "\n"
     ]
    }
   ],
   "source": [
    "df2.show(5)"
   ]
  },
  {
   "cell_type": "code",
   "execution_count": 9,
   "metadata": {},
   "outputs": [
    {
     "name": "stdout",
     "output_type": "stream",
     "text": [
      "+---------+-----+---------------+--------------------+\n",
      "|      _id|split|synopsis_source|                tags|\n",
      "+---------+-----+---------------+--------------------+\n",
      "|tt0021156|train|      wikipedia|   revenge, romantic|\n",
      "|tt0032553|train|           imdb|comedy, anti war,...|\n",
      "|tt0034269|  val|      wikipedia|    romantic, murder|\n",
      "|tt0038958|train|      wikipedia|              murder|\n",
      "|tt0039305| test|      wikipedia|plot twist, murde...|\n",
      "|tt0039431|train|      wikipedia|       psychological|\n",
      "|tt0039896|train|      wikipedia|   murder, flashback|\n",
      "|tt0042475| test|      wikipedia|         psychedelic|\n",
      "|tt0042899|train|      wikipedia|            violence|\n",
      "|tt0043973| test|      wikipedia|              murder|\n",
      "|tt0052811| test|      wikipedia|     revenge, murder|\n",
      "|tt0053320|train|      wikipedia|           melodrama|\n",
      "|tt0054152|train|           imdb|      comedy, murder|\n",
      "|tt0054289| test|           imdb|              murder|\n",
      "|tt0054446|train|      wikipedia|            romantic|\n",
      "|tt0057261|train|      wikipedia|good versus evil,...|\n",
      "|tt0059776|train|      wikipedia|psychedelic, avan...|\n",
      "|tt0061758|train|      wikipedia|cult, murder, mel...|\n",
      "|tt0066735|train|           imdb|neo noir, murder,...|\n",
      "|tt0066995|train|           imdb|cult, revenge, mu...|\n",
      "+---------+-----+---------------+--------------------+\n",
      "only showing top 20 rows\n",
      "\n"
     ]
    }
   ],
   "source": [
    "#faccio join tra i due dataframe\n",
    "da =  df.join(df2, on=['_id'])\n",
    "da.show()"
   ]
  },
  {
   "cell_type": "code",
   "execution_count": 10,
   "metadata": {},
   "outputs": [],
   "source": [
    "#apro sessione con la collection plots\n",
    "spark2 = helper.get_session(\"MPST\",\"plots\")"
   ]
  },
  {
   "cell_type": "code",
   "execution_count": 11,
   "metadata": {},
   "outputs": [],
   "source": [
    "df3 = spark2.read.format(\"com.mongodb.spark.sql.DefaultSource\").load()"
   ]
  },
  {
   "cell_type": "code",
   "execution_count": 12,
   "metadata": {},
   "outputs": [
    {
     "name": "stdout",
     "output_type": "stream",
     "text": [
      "+---------+--------------------+--------------------+\n",
      "|      _id|       plot_synopsis|               title|\n",
      "+---------+--------------------+--------------------+\n",
      "|tt0000091|The film opens wi...| Le manoir du diable|\n",
      "|tt0000225|A widower merchan...| La belle et la bête|\n",
      "|tt0000230|A prologue in fro...|          Cendrillon|\n",
      "|tt0000417|At a meeting of t...|Le voyage dans la...|\n",
      "|tt0000488|Joe is an impover...|The Land Beyond t...|\n",
      "+---------+--------------------+--------------------+\n",
      "only showing top 5 rows\n",
      "\n"
     ]
    }
   ],
   "source": [
    "df3.show(5)"
   ]
  },
  {
   "cell_type": "code",
   "execution_count": 13,
   "metadata": {},
   "outputs": [],
   "source": [
    "#faccio il join tra dataframe plots e quello di prima\n",
    "data =  da.join(df3, on=['_id'])"
   ]
  },
  {
   "cell_type": "code",
   "execution_count": 14,
   "metadata": {},
   "outputs": [
    {
     "name": "stdout",
     "output_type": "stream",
     "text": [
      "+---------+-----+---------------+---------------+--------------------+--------------------+\n",
      "|      _id|split|synopsis_source|           tags|       plot_synopsis|               title|\n",
      "+---------+-----+---------------+---------------+--------------------+--------------------+\n",
      "|tt0052811| test|      wikipedia|revenge, murder|In 1828 Edinburgh...|The Flesh and the...|\n",
      "|tt0053320|train|      wikipedia|      melodrama|Alcoholic Bart Hu...|      A Summer Place|\n",
      "|tt0054152|train|           imdb| comedy, murder|In the first shot...|   Our Man in Havana|\n",
      "|tt0054289| test|           imdb|         murder|After the death o...|  Il sepolcro dei re|\n",
      "|tt0054446|train|      wikipedia|       romantic|Kreton (Jerry Lew...|Visit to a Small ...|\n",
      "+---------+-----+---------------+---------------+--------------------+--------------------+\n",
      "only showing top 5 rows\n",
      "\n"
     ]
    }
   ],
   "source": [
    "data.show(5)"
   ]
  },
  {
   "cell_type": "code",
   "execution_count": 15,
   "metadata": {},
   "outputs": [
    {
     "name": "stdout",
     "output_type": "stream",
     "text": [
      "root\n",
      " |-- _id: string (nullable = true)\n",
      " |-- split: string (nullable = true)\n",
      " |-- synopsis_source: string (nullable = true)\n",
      " |-- tags: string (nullable = true)\n",
      " |-- plot_synopsis: string (nullable = true)\n",
      " |-- title: string (nullable = true)\n",
      "\n"
     ]
    }
   ],
   "source": [
    "data.printSchema()"
   ]
  },
  {
   "cell_type": "code",
   "execution_count": 16,
   "metadata": {},
   "outputs": [
    {
     "name": "stdout",
     "output_type": "stream",
     "text": [
      "+---------+-----+---------------+--------------------+------------------+--------------------+---+--------+\n",
      "|      _id|split|synopsis_source|       plot_synopsis|             title|             letters|pos|     val|\n",
      "+---------+-----+---------------+--------------------+------------------+--------------------+---+--------+\n",
      "|tt0021156|train|      wikipedia|The film is set i...|           Morocco| [revenge, romantic]|  0| revenge|\n",
      "|tt0021156|train|      wikipedia|The film is set i...|           Morocco| [revenge, romantic]|  1|romantic|\n",
      "|tt0032553|train|           imdb|During a battle i...|The Great Dictator|[comedy, anti war...|  0|  comedy|\n",
      "|tt0032553|train|           imdb|During a battle i...|The Great Dictator|[comedy, anti war...|  1|anti war|\n",
      "|tt0032553|train|           imdb|During a battle i...|The Great Dictator|[comedy, anti war...|  2|    cult|\n",
      "+---------+-----+---------------+--------------------+------------------+--------------------+---+--------+\n",
      "only showing top 5 rows\n",
      "\n"
     ]
    }
   ],
   "source": [
    "#sistemo la colonna tags andando a far esplodere gli elementi di quella colonna\n",
    "import pyspark.sql.functions as f\n",
    "\n",
    "data = data.select(\n",
    "        \"_id\",\"split\",\"synopsis_source\",\"plot_synopsis\",\"title\",\n",
    "        f.split(\"tags\", \", \").alias(\"letters\"),\n",
    "        f.posexplode(f.split(\"tags\", \", \")).alias(\"pos\", \"val\")\n",
    "    )\n",
    "data.show(5)"
   ]
  },
  {
   "cell_type": "code",
   "execution_count": 17,
   "metadata": {},
   "outputs": [
    {
     "name": "stdout",
     "output_type": "stream",
     "text": [
      "+---------+-----+---------------+--------------------+--------------------+---------------+\n",
      "|      _id|split|synopsis_source|       plot_synopsis|               title|            val|\n",
      "+---------+-----+---------------+--------------------+--------------------+---------------+\n",
      "|tt0061758|train|      wikipedia|The Angels first ...|Hells Angels on W...|           cult|\n",
      "|tt0061758|train|      wikipedia|The Angels first ...|Hells Angels on W...|         murder|\n",
      "|tt0061758|train|      wikipedia|The Angels first ...|Hells Angels on W...|      melodrama|\n",
      "|tt0066735|train|           imdb|Roberto Tobias (M...|4 mosche di vellu...|       neo noir|\n",
      "|tt0066735|train|           imdb|Roberto Tobias (M...|4 mosche di vellu...|         murder|\n",
      "|tt0066735|train|           imdb|Roberto Tobias (M...|4 mosche di vellu...|       allegory|\n",
      "|tt0066735|train|           imdb|Roberto Tobias (M...|4 mosche di vellu...|           cult|\n",
      "|tt0066735|train|           imdb|Roberto Tobias (M...|4 mosche di vellu...|         horror|\n",
      "|tt0066735|train|           imdb|Roberto Tobias (M...|4 mosche di vellu...|       violence|\n",
      "|tt0066735|train|           imdb|Roberto Tobias (M...|4 mosche di vellu...|       haunting|\n",
      "|tt0066735|train|           imdb|Roberto Tobias (M...|4 mosche di vellu...|      flashback|\n",
      "|tt0066735|train|           imdb|Roberto Tobias (M...|4 mosche di vellu...|       insanity|\n",
      "|tt0066735|train|           imdb|Roberto Tobias (M...|4 mosche di vellu...|        tragedy|\n",
      "|tt0066735|train|           imdb|Roberto Tobias (M...|4 mosche di vellu...|       romantic|\n",
      "|tt0066995|train|           imdb|After the murder ...|Diamonds Are Forever|           cult|\n",
      "|tt0066995|train|           imdb|After the murder ...|Diamonds Are Forever|        revenge|\n",
      "|tt0066995|train|           imdb|After the murder ...|Diamonds Are Forever|         murder|\n",
      "|tt0068615|train|           imdb|Wildlife photogra...|               Frogs|           cult|\n",
      "|tt0068615|train|           imdb|Wildlife photogra...|               Frogs|        revenge|\n",
      "|tt0068615|train|           imdb|Wildlife photogra...|               Frogs|grindhouse film|\n",
      "+---------+-----+---------------+--------------------+--------------------+---------------+\n",
      "only showing top 20 rows\n",
      "\n"
     ]
    }
   ],
   "source": [
    "#elimino le colonne che non mi servono\n",
    "columns_to_drop = ['letters', 'pos']\n",
    "data1 = data.drop(*columns_to_drop)\n",
    "data1.show()"
   ]
  },
  {
   "cell_type": "code",
   "execution_count": 18,
   "metadata": {},
   "outputs": [],
   "source": [
    "#creo il dataframe per train\n",
    "train = data1.filter(data1.split == \"train\")\n"
   ]
  },
  {
   "cell_type": "code",
   "execution_count": 19,
   "metadata": {},
   "outputs": [
    {
     "name": "stdout",
     "output_type": "stream",
     "text": [
      "+---------+-----+---------------+--------------------+--------------------+----------------+\n",
      "|      _id|split|synopsis_source|       plot_synopsis|               title|             val|\n",
      "+---------+-----+---------------+--------------------+--------------------+----------------+\n",
      "|tt0053320|train|      wikipedia|Alcoholic Bart Hu...|      A Summer Place|       melodrama|\n",
      "|tt0054152|train|           imdb|In the first shot...|   Our Man in Havana|          comedy|\n",
      "|tt0054152|train|           imdb|In the first shot...|   Our Man in Havana|          murder|\n",
      "|tt0054446|train|      wikipedia|Kreton (Jerry Lew...|Visit to a Small ...|        romantic|\n",
      "|tt0057261|train|      wikipedia|In the midst of a...|   Lord of the Flies|good versus evil|\n",
      "+---------+-----+---------------+--------------------+--------------------+----------------+\n",
      "only showing top 5 rows\n",
      "\n"
     ]
    }
   ],
   "source": [
    "train.show(5)"
   ]
  },
  {
   "cell_type": "code",
   "execution_count": 20,
   "metadata": {},
   "outputs": [
    {
     "data": {
      "text/plain": [
       "26318"
      ]
     },
     "execution_count": 20,
     "metadata": {},
     "output_type": "execute_result"
    }
   ],
   "source": [
    "#vedo quante colonne ha\n",
    "train.count()"
   ]
  },
  {
   "cell_type": "code",
   "execution_count": 21,
   "metadata": {},
   "outputs": [],
   "source": [
    "#creo il dataframe per il test\n",
    "test = data1.filter(data.split == \"test\")"
   ]
  },
  {
   "cell_type": "code",
   "execution_count": 22,
   "metadata": {},
   "outputs": [
    {
     "name": "stdout",
     "output_type": "stream",
     "text": [
      "+---------+-----+---------------+--------------------+-------------------+-----------+\n",
      "|      _id|split|synopsis_source|       plot_synopsis|              title|        val|\n",
      "+---------+-----+---------------+--------------------+-------------------+-----------+\n",
      "|tt0039305| test|      wikipedia|Leaving a church,...|     Dead Reckoning| plot twist|\n",
      "|tt0039305| test|      wikipedia|Leaving a church,...|     Dead Reckoning|     murder|\n",
      "|tt0039305| test|      wikipedia|Leaving a church,...|     Dead Reckoning|  flashback|\n",
      "|tt0042475| test|      wikipedia|The cat is fishin...|A Fractured Leghorn|psychedelic|\n",
      "|tt0043973| test|      wikipedia|Insurance investi...|          Roadblock|     murder|\n",
      "+---------+-----+---------------+--------------------+-------------------+-----------+\n",
      "only showing top 5 rows\n",
      "\n"
     ]
    }
   ],
   "source": [
    "test.show(5)"
   ]
  },
  {
   "cell_type": "code",
   "execution_count": 23,
   "metadata": {},
   "outputs": [
    {
     "data": {
      "text/plain": [
       "7479"
      ]
     },
     "execution_count": 23,
     "metadata": {},
     "output_type": "execute_result"
    }
   ],
   "source": [
    "test.count()"
   ]
  },
  {
   "cell_type": "code",
   "execution_count": 24,
   "metadata": {},
   "outputs": [
    {
     "name": "stdout",
     "output_type": "stream",
     "text": [
      "+---------+-----+---------------+--------------------+--------------------+---------+--------------------+--------------------+--------------------+------+\n",
      "|      _id|split|synopsis_source|       plot_synopsis|               title|      val|               words|                  tf|            features|target|\n",
      "+---------+-----+---------------+--------------------+--------------------+---------+--------------------+--------------------+--------------------+------+\n",
      "|tt0042899|train|      wikipedia|A car pulls up to...|      Rocky Mountain| violence|[a, car, pulls, u...|(65536,[14,137,53...|(65536,[14,137,53...|   1.0|\n",
      "|tt0053320|train|      wikipedia|Alcoholic Bart Hu...|      A Summer Place|melodrama|[alcoholic, bart,...|(65536,[120,158,3...|(65536,[120,158,3...|  25.0|\n",
      "|tt0054152|train|           imdb|In the first shot...|   Our Man in Havana|   comedy|[in, the, first, ...|(65536,[101,223,3...|(65536,[101,223,3...|   7.0|\n",
      "|tt0054152|train|           imdb|In the first shot...|   Our Man in Havana|   murder|[in, the, first, ...|(65536,[101,223,3...|(65536,[101,223,3...|   0.0|\n",
      "|tt0054446|train|      wikipedia|Kreton (Jerry Lew...|Visit to a Small ...| romantic|[kreton, (jerry, ...|(65536,[358,672,1...|(65536,[358,672,1...|   3.0|\n",
      "+---------+-----+---------------+--------------------+--------------------+---------+--------------------+--------------------+--------------------+------+\n",
      "only showing top 5 rows\n",
      "\n"
     ]
    }
   ],
   "source": [
    "#divido la trama in parole e uso le funzioni hastf e idf per transformare le parole in una sequenza di numeri a dimensione fissa\n",
    "#ogni parola con una diversa importanza\n",
    "tokenizer = Tokenizer(inputCol=\"plot_synopsis\", outputCol=\"words\")\n",
    "hashtf = HashingTF(numFeatures=2**16, inputCol=\"words\", outputCol='tf'\n",
    ")\n",
    "idf = IDF(inputCol='tf', outputCol=\"features\", minDocFreq=5)\n",
    "label_stringIdx = StringIndexer(inputCol = \"val\", outputCol = \"target\")\n",
    "pipeline = Pipeline(stages=[tokenizer, hashtf, idf, label_stringIdx])\n",
    "#pipeline = Pipeline(stages=[tokenizer, hashtf, idf])\n",
    "pipelineFit = pipeline.fit(train)\n",
    "train_df = pipelineFit.transform(train)\n",
    "val_df = pipelineFit.transform(test)\n",
    "train_df.show(5)\n"
   ]
  },
  {
   "cell_type": "code",
   "execution_count": 25,
   "metadata": {},
   "outputs": [],
   "source": [
    "#train_df.limit(2).toPandas()"
   ]
  },
  {
   "cell_type": "code",
   "execution_count": 26,
   "metadata": {
    "scrolled": true
   },
   "outputs": [],
   "source": [
    "#utilizzo la logistic regression per addestrare il modello\n",
    "#lr = LogisticRegression(maxIter=1, labelCol=\"target\")\n",
    "#lrModel = lr.fit(train_df)\n",
    "#predictions = lrModel.transform(val_df)\n"
   ]
  },
  {
   "cell_type": "code",
   "execution_count": null,
   "metadata": {},
   "outputs": [],
   "source": [
    "#utilizzo la logistic regression per addestrare il modello\n",
    "lr = LogisticRegression(maxIter=1, labelCol=\"target\")\n",
    "lrModel = lr.fit(train_df)\n",
    "predictions = lrModel.transform(val_df)"
   ]
  },
  {
   "cell_type": "code",
   "execution_count": null,
   "metadata": {},
   "outputs": [],
   "source": [
    "\n",
    "evaluator = MulticlassClassificationEvaluator(predictionCol=\"prediction\", labelCol=\"target\")\n",
    "evaluator.evaluate(predictions)"
   ]
  },
  {
   "cell_type": "code",
   "execution_count": null,
   "metadata": {},
   "outputs": [],
   "source": []
  }
 ],
 "metadata": {
  "kernelspec": {
   "display_name": "Python 3",
   "language": "python",
   "name": "python3"
  },
  "language_info": {
   "codemirror_mode": {
    "name": "ipython",
    "version": 3
   },
   "file_extension": ".py",
   "mimetype": "text/x-python",
   "name": "python",
   "nbconvert_exporter": "python",
   "pygments_lexer": "ipython3",
   "version": "3.7.9"
  }
 },
 "nbformat": 4,
 "nbformat_minor": 4
}
