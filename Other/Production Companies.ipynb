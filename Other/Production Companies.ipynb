{
 "cells": [
  {
   "cell_type": "code",
   "execution_count": 2,
   "metadata": {},
   "outputs": [],
   "source": [
    "#importo e librerie che mi serviranno\n",
    "import pymongo\n",
    "import matplotlib.pyplot as plt \n",
    "import pandas as pd\n",
    "import seaborn as sns\n",
    "\n",
    "URI = \"mongodb://127.0.0.1:27017/?readPreference=primary&ssl=false\"\n",
    "client = pymongo.MongoClient(URI)\n",
    "db = client['movie_dataset']\n",
    "num_votazioni = 50\n",
    "num_film = 5"
   ]
  },
  {
   "cell_type": "code",
   "execution_count": 3,
   "metadata": {},
   "outputs": [
    {
     "data": {
      "text/html": [
       "<div>\n",
       "<style scoped>\n",
       "    .dataframe tbody tr th:only-of-type {\n",
       "        vertical-align: middle;\n",
       "    }\n",
       "\n",
       "    .dataframe tbody tr th {\n",
       "        vertical-align: top;\n",
       "    }\n",
       "\n",
       "    .dataframe thead th {\n",
       "        text-align: right;\n",
       "    }\n",
       "</style>\n",
       "<table border=\"1\" class=\"dataframe\">\n",
       "  <thead>\n",
       "    <tr style=\"text-align: right;\">\n",
       "      <th></th>\n",
       "      <th>_id</th>\n",
       "      <th>name</th>\n",
       "    </tr>\n",
       "  </thead>\n",
       "  <tbody>\n",
       "    <tr>\n",
       "      <th>0</th>\n",
       "      <td>3</td>\n",
       "      <td>Pixar Animation Studios</td>\n",
       "    </tr>\n",
       "    <tr>\n",
       "      <th>1</th>\n",
       "      <td>559</td>\n",
       "      <td>TriStar Pictures</td>\n",
       "    </tr>\n",
       "    <tr>\n",
       "      <th>2</th>\n",
       "      <td>2550</td>\n",
       "      <td>Teitler Film</td>\n",
       "    </tr>\n",
       "    <tr>\n",
       "      <th>3</th>\n",
       "      <td>10201</td>\n",
       "      <td>Interscope Communications</td>\n",
       "    </tr>\n",
       "    <tr>\n",
       "      <th>4</th>\n",
       "      <td>6194</td>\n",
       "      <td>Warner Bros.</td>\n",
       "    </tr>\n",
       "  </tbody>\n",
       "</table>\n",
       "</div>"
      ],
      "text/plain": [
       "     _id                       name\n",
       "0      3    Pixar Animation Studios\n",
       "1    559           TriStar Pictures\n",
       "2   2550               Teitler Film\n",
       "3  10201  Interscope Communications\n",
       "4   6194               Warner Bros."
      ]
     },
     "execution_count": 3,
     "metadata": {},
     "output_type": "execute_result"
    }
   ],
   "source": [
    "#PRELEVO LE VARIE PRODUZIONI \n",
    "df_production = pd.DataFrame(db.production_companies.find({}))\n",
    "df_production.head()"
   ]
  },
  {
   "cell_type": "code",
   "execution_count": 4,
   "metadata": {},
   "outputs": [],
   "source": [
    "df_production = df_production.rename(columns= {'_id' : 'production_companies'})"
   ]
  },
  {
   "cell_type": "code",
   "execution_count": 5,
   "metadata": {},
   "outputs": [
    {
     "data": {
      "text/html": [
       "<div>\n",
       "<style scoped>\n",
       "    .dataframe tbody tr th:only-of-type {\n",
       "        vertical-align: middle;\n",
       "    }\n",
       "\n",
       "    .dataframe tbody tr th {\n",
       "        vertical-align: top;\n",
       "    }\n",
       "\n",
       "    .dataframe thead th {\n",
       "        text-align: right;\n",
       "    }\n",
       "</style>\n",
       "<table border=\"1\" class=\"dataframe\">\n",
       "  <thead>\n",
       "    <tr style=\"text-align: right;\">\n",
       "      <th></th>\n",
       "      <th>_id</th>\n",
       "      <th>budget</th>\n",
       "      <th>original_title</th>\n",
       "      <th>production_companies</th>\n",
       "      <th>vote_average</th>\n",
       "      <th>vote_count</th>\n",
       "    </tr>\n",
       "  </thead>\n",
       "  <tbody>\n",
       "    <tr>\n",
       "      <th>0</th>\n",
       "      <td>862</td>\n",
       "      <td>30000000</td>\n",
       "      <td>Toy Story</td>\n",
       "      <td>[3]</td>\n",
       "      <td>7.7</td>\n",
       "      <td>5415.0</td>\n",
       "    </tr>\n",
       "    <tr>\n",
       "      <th>1</th>\n",
       "      <td>8844</td>\n",
       "      <td>65000000</td>\n",
       "      <td>Jumanji</td>\n",
       "      <td>[559, 2550, 10201]</td>\n",
       "      <td>6.9</td>\n",
       "      <td>2413.0</td>\n",
       "    </tr>\n",
       "    <tr>\n",
       "      <th>2</th>\n",
       "      <td>15602</td>\n",
       "      <td>0</td>\n",
       "      <td>Grumpier Old Men</td>\n",
       "      <td>[6194, 19464]</td>\n",
       "      <td>6.5</td>\n",
       "      <td>92.0</td>\n",
       "    </tr>\n",
       "    <tr>\n",
       "      <th>3</th>\n",
       "      <td>31357</td>\n",
       "      <td>16000000</td>\n",
       "      <td>Waiting to Exhale</td>\n",
       "      <td>[306]</td>\n",
       "      <td>6.1</td>\n",
       "      <td>34.0</td>\n",
       "    </tr>\n",
       "    <tr>\n",
       "      <th>4</th>\n",
       "      <td>11862</td>\n",
       "      <td>0</td>\n",
       "      <td>Father of the Bride Part II</td>\n",
       "      <td>[5842, 9195]</td>\n",
       "      <td>5.7</td>\n",
       "      <td>173.0</td>\n",
       "    </tr>\n",
       "    <tr>\n",
       "      <th>...</th>\n",
       "      <td>...</td>\n",
       "      <td>...</td>\n",
       "      <td>...</td>\n",
       "      <td>...</td>\n",
       "      <td>...</td>\n",
       "      <td>...</td>\n",
       "    </tr>\n",
       "    <tr>\n",
       "      <th>45428</th>\n",
       "      <td>439050</td>\n",
       "      <td>0</td>\n",
       "      <td>رگ خواب</td>\n",
       "      <td>None</td>\n",
       "      <td>4.0</td>\n",
       "      <td>1.0</td>\n",
       "    </tr>\n",
       "    <tr>\n",
       "      <th>45429</th>\n",
       "      <td>111109</td>\n",
       "      <td>0</td>\n",
       "      <td>Siglo ng Pagluluwal</td>\n",
       "      <td>[19653]</td>\n",
       "      <td>9.0</td>\n",
       "      <td>3.0</td>\n",
       "    </tr>\n",
       "    <tr>\n",
       "      <th>45430</th>\n",
       "      <td>67758</td>\n",
       "      <td>0</td>\n",
       "      <td>Betrayal</td>\n",
       "      <td>[6165]</td>\n",
       "      <td>3.8</td>\n",
       "      <td>6.0</td>\n",
       "    </tr>\n",
       "    <tr>\n",
       "      <th>45431</th>\n",
       "      <td>227506</td>\n",
       "      <td>0</td>\n",
       "      <td>Satana likuyushchiy</td>\n",
       "      <td>[88753]</td>\n",
       "      <td>0.0</td>\n",
       "      <td>0.0</td>\n",
       "    </tr>\n",
       "    <tr>\n",
       "      <th>45432</th>\n",
       "      <td>461257</td>\n",
       "      <td>0</td>\n",
       "      <td>Queerama</td>\n",
       "      <td>None</td>\n",
       "      <td>0.0</td>\n",
       "      <td>0.0</td>\n",
       "    </tr>\n",
       "  </tbody>\n",
       "</table>\n",
       "<p>45433 rows × 6 columns</p>\n",
       "</div>"
      ],
      "text/plain": [
       "          _id    budget               original_title production_companies  \\\n",
       "0         862  30000000                    Toy Story                  [3]   \n",
       "1        8844  65000000                      Jumanji   [559, 2550, 10201]   \n",
       "2       15602         0             Grumpier Old Men        [6194, 19464]   \n",
       "3       31357  16000000            Waiting to Exhale                [306]   \n",
       "4       11862         0  Father of the Bride Part II         [5842, 9195]   \n",
       "...       ...       ...                          ...                  ...   \n",
       "45428  439050         0                      رگ خواب                 None   \n",
       "45429  111109         0          Siglo ng Pagluluwal              [19653]   \n",
       "45430   67758         0                     Betrayal               [6165]   \n",
       "45431  227506         0          Satana likuyushchiy              [88753]   \n",
       "45432  461257         0                     Queerama                 None   \n",
       "\n",
       "       vote_average  vote_count  \n",
       "0               7.7      5415.0  \n",
       "1               6.9      2413.0  \n",
       "2               6.5        92.0  \n",
       "3               6.1        34.0  \n",
       "4               5.7       173.0  \n",
       "...             ...         ...  \n",
       "45428           4.0         1.0  \n",
       "45429           9.0         3.0  \n",
       "45430           3.8         6.0  \n",
       "45431           0.0         0.0  \n",
       "45432           0.0         0.0  \n",
       "\n",
       "[45433 rows x 6 columns]"
      ]
     },
     "execution_count": 5,
     "metadata": {},
     "output_type": "execute_result"
    }
   ],
   "source": [
    "#PRELEVO I VARI FILM\n",
    "df_film= pd.DataFrame( db.metadata.aggregate([ {'$project': {'_id': 1, 'production_companies': 1,'vote_average':1,'vote_count':1,'budget':1,'original_title':1}\n",
    "    }]))\n",
    "df_film"
   ]
  },
  {
   "cell_type": "code",
   "execution_count": 6,
   "metadata": {},
   "outputs": [],
   "source": [
    "#CONVERTO BUDGET IN INTERO\n",
    "df_film.budget = df_film.budget.astype(str).astype(int)"
   ]
  },
  {
   "cell_type": "code",
   "execution_count": 7,
   "metadata": {},
   "outputs": [],
   "source": [
    "#CONVERTO _ID IN INTERO\n",
    "df_film._id = df_film._id.astype(str).astype(int)"
   ]
  },
  {
   "cell_type": "code",
   "execution_count": 8,
   "metadata": {},
   "outputs": [],
   "source": [
    "#utilizzo funzione explode, per creare nuove righe dagli elementi dell' array presenti nella colonna genres\n",
    "df_film = df_film.explode('production_companies')\n",
    "\n"
   ]
  },
  {
   "cell_type": "code",
   "execution_count": 9,
   "metadata": {},
   "outputs": [
    {
     "name": "stderr",
     "output_type": "stream",
     "text": [
      "C:\\Users\\monob\\anaconda3\\envs\\py37\\lib\\site-packages\\pandas\\core\\computation\\expressions.py:68: FutureWarning: elementwise comparison failed; returning scalar instead, but in the future will perform elementwise comparison\n",
      "  return op(a, b)\n",
      "C:\\Users\\monob\\anaconda3\\envs\\py37\\lib\\site-packages\\pandas\\core\\computation\\expressions.py:68: FutureWarning: elementwise comparison failed; returning scalar instead, but in the future will perform elementwise comparison\n",
      "  return op(a, b)\n"
     ]
    }
   ],
   "source": [
    "#FILTRO, PRELEVANDO SOLO I FILM CHE HANNO AVUTO UN CERTO NUMERO DI VOTI\n",
    "df_film = df_film.mask(df_film.eq('None')).dropna()\n",
    "df_film = df_film.loc[df_film['vote_count'] >= num_votazioni]    "
   ]
  },
  {
   "cell_type": "code",
   "execution_count": 10,
   "metadata": {},
   "outputs": [
    {
     "data": {
      "text/plain": [
       "_id                     0\n",
       "budget                  0\n",
       "original_title          0\n",
       "production_companies    0\n",
       "vote_average            0\n",
       "vote_count              0\n",
       "dtype: int64"
      ]
     },
     "execution_count": 10,
     "metadata": {},
     "output_type": "execute_result"
    }
   ],
   "source": [
    "#CONTROLLO CHE NON CI SIANO NULL \n",
    "df_film.isna().sum()"
   ]
  },
  {
   "cell_type": "code",
   "execution_count": 11,
   "metadata": {},
   "outputs": [
    {
     "data": {
      "text/plain": [
       "False    25940\n",
       "Name: production_companies, dtype: int64"
      ]
     },
     "execution_count": 11,
     "metadata": {},
     "output_type": "execute_result"
    }
   ],
   "source": [
    "(df_film.production_companies==\"None\").value_counts()"
   ]
  },
  {
   "cell_type": "code",
   "execution_count": 12,
   "metadata": {},
   "outputs": [],
   "source": [
    "#ELIMINO LE RIGHE CHE HANNO BUDGET 0\n",
    "index_target = df_film[ df_film.budget == 0 ].index"
   ]
  },
  {
   "cell_type": "code",
   "execution_count": 13,
   "metadata": {},
   "outputs": [],
   "source": [
    " df_film.drop(index_target , inplace=True)"
   ]
  },
  {
   "cell_type": "code",
   "execution_count": 14,
   "metadata": {},
   "outputs": [
    {
     "data": {
      "text/html": [
       "<div>\n",
       "<style scoped>\n",
       "    .dataframe tbody tr th:only-of-type {\n",
       "        vertical-align: middle;\n",
       "    }\n",
       "\n",
       "    .dataframe tbody tr th {\n",
       "        vertical-align: top;\n",
       "    }\n",
       "\n",
       "    .dataframe thead th {\n",
       "        text-align: right;\n",
       "    }\n",
       "</style>\n",
       "<table border=\"1\" class=\"dataframe\">\n",
       "  <thead>\n",
       "    <tr style=\"text-align: right;\">\n",
       "      <th></th>\n",
       "      <th>_id</th>\n",
       "      <th>budget</th>\n",
       "      <th>original_title</th>\n",
       "      <th>production_companies</th>\n",
       "      <th>vote_average</th>\n",
       "      <th>vote_count</th>\n",
       "    </tr>\n",
       "  </thead>\n",
       "  <tbody>\n",
       "    <tr>\n",
       "      <th>0</th>\n",
       "      <td>862</td>\n",
       "      <td>30000000</td>\n",
       "      <td>Toy Story</td>\n",
       "      <td>3</td>\n",
       "      <td>7.7</td>\n",
       "      <td>5415.0</td>\n",
       "    </tr>\n",
       "    <tr>\n",
       "      <th>1</th>\n",
       "      <td>8844</td>\n",
       "      <td>65000000</td>\n",
       "      <td>Jumanji</td>\n",
       "      <td>559</td>\n",
       "      <td>6.9</td>\n",
       "      <td>2413.0</td>\n",
       "    </tr>\n",
       "    <tr>\n",
       "      <th>1</th>\n",
       "      <td>8844</td>\n",
       "      <td>65000000</td>\n",
       "      <td>Jumanji</td>\n",
       "      <td>2550</td>\n",
       "      <td>6.9</td>\n",
       "      <td>2413.0</td>\n",
       "    </tr>\n",
       "    <tr>\n",
       "      <th>1</th>\n",
       "      <td>8844</td>\n",
       "      <td>65000000</td>\n",
       "      <td>Jumanji</td>\n",
       "      <td>10201</td>\n",
       "      <td>6.9</td>\n",
       "      <td>2413.0</td>\n",
       "    </tr>\n",
       "    <tr>\n",
       "      <th>5</th>\n",
       "      <td>949</td>\n",
       "      <td>60000000</td>\n",
       "      <td>Heat</td>\n",
       "      <td>508</td>\n",
       "      <td>7.7</td>\n",
       "      <td>1886.0</td>\n",
       "    </tr>\n",
       "    <tr>\n",
       "      <th>...</th>\n",
       "      <td>...</td>\n",
       "      <td>...</td>\n",
       "      <td>...</td>\n",
       "      <td>...</td>\n",
       "      <td>...</td>\n",
       "      <td>...</td>\n",
       "    </tr>\n",
       "    <tr>\n",
       "      <th>45174</th>\n",
       "      <td>407448</td>\n",
       "      <td>34000000</td>\n",
       "      <td>Detroit</td>\n",
       "      <td>8411</td>\n",
       "      <td>7.3</td>\n",
       "      <td>67.0</td>\n",
       "    </tr>\n",
       "    <tr>\n",
       "      <th>45174</th>\n",
       "      <td>407448</td>\n",
       "      <td>34000000</td>\n",
       "      <td>Detroit</td>\n",
       "      <td>13184</td>\n",
       "      <td>7.3</td>\n",
       "      <td>67.0</td>\n",
       "    </tr>\n",
       "    <tr>\n",
       "      <th>45174</th>\n",
       "      <td>407448</td>\n",
       "      <td>34000000</td>\n",
       "      <td>Detroit</td>\n",
       "      <td>20344</td>\n",
       "      <td>7.3</td>\n",
       "      <td>67.0</td>\n",
       "    </tr>\n",
       "    <tr>\n",
       "      <th>45235</th>\n",
       "      <td>277839</td>\n",
       "      <td>5402000</td>\n",
       "      <td>Pattaya</td>\n",
       "      <td>57294</td>\n",
       "      <td>5.3</td>\n",
       "      <td>153.0</td>\n",
       "    </tr>\n",
       "    <tr>\n",
       "      <th>45310</th>\n",
       "      <td>248705</td>\n",
       "      <td>25868826</td>\n",
       "      <td>Les Visiteurs: La Révolution</td>\n",
       "      <td>9</td>\n",
       "      <td>4.0</td>\n",
       "      <td>167.0</td>\n",
       "    </tr>\n",
       "  </tbody>\n",
       "</table>\n",
       "<p>17024 rows × 6 columns</p>\n",
       "</div>"
      ],
      "text/plain": [
       "          _id    budget                original_title production_companies  \\\n",
       "0         862  30000000                     Toy Story                    3   \n",
       "1        8844  65000000                       Jumanji                  559   \n",
       "1        8844  65000000                       Jumanji                 2550   \n",
       "1        8844  65000000                       Jumanji                10201   \n",
       "5         949  60000000                          Heat                  508   \n",
       "...       ...       ...                           ...                  ...   \n",
       "45174  407448  34000000                       Detroit                 8411   \n",
       "45174  407448  34000000                       Detroit                13184   \n",
       "45174  407448  34000000                       Detroit                20344   \n",
       "45235  277839   5402000                       Pattaya                57294   \n",
       "45310  248705  25868826  Les Visiteurs: La Révolution                    9   \n",
       "\n",
       "       vote_average  vote_count  \n",
       "0               7.7      5415.0  \n",
       "1               6.9      2413.0  \n",
       "1               6.9      2413.0  \n",
       "1               6.9      2413.0  \n",
       "5               7.7      1886.0  \n",
       "...             ...         ...  \n",
       "45174           7.3        67.0  \n",
       "45174           7.3        67.0  \n",
       "45174           7.3        67.0  \n",
       "45235           5.3       153.0  \n",
       "45310           4.0       167.0  \n",
       "\n",
       "[17024 rows x 6 columns]"
      ]
     },
     "execution_count": 14,
     "metadata": {},
     "output_type": "execute_result"
    }
   ],
   "source": [
    "df_film"
   ]
  },
  {
   "cell_type": "code",
   "execution_count": 15,
   "metadata": {},
   "outputs": [
    {
     "data": {
      "text/html": [
       "<div>\n",
       "<style scoped>\n",
       "    .dataframe tbody tr th:only-of-type {\n",
       "        vertical-align: middle;\n",
       "    }\n",
       "\n",
       "    .dataframe tbody tr th {\n",
       "        vertical-align: top;\n",
       "    }\n",
       "\n",
       "    .dataframe thead th {\n",
       "        text-align: right;\n",
       "    }\n",
       "</style>\n",
       "<table border=\"1\" class=\"dataframe\">\n",
       "  <thead>\n",
       "    <tr style=\"text-align: right;\">\n",
       "      <th></th>\n",
       "      <th>_id</th>\n",
       "      <th>budget</th>\n",
       "      <th>original_title</th>\n",
       "      <th>production_companies</th>\n",
       "      <th>vote_average</th>\n",
       "      <th>vote_count</th>\n",
       "      <th>name</th>\n",
       "    </tr>\n",
       "  </thead>\n",
       "  <tbody>\n",
       "    <tr>\n",
       "      <th>0</th>\n",
       "      <td>862</td>\n",
       "      <td>30000000</td>\n",
       "      <td>Toy Story</td>\n",
       "      <td>3</td>\n",
       "      <td>7.7</td>\n",
       "      <td>5415.0</td>\n",
       "      <td>Pixar Animation Studios</td>\n",
       "    </tr>\n",
       "    <tr>\n",
       "      <th>1</th>\n",
       "      <td>9487</td>\n",
       "      <td>120000000</td>\n",
       "      <td>A Bug's Life</td>\n",
       "      <td>3</td>\n",
       "      <td>6.8</td>\n",
       "      <td>2379.0</td>\n",
       "      <td>Pixar Animation Studios</td>\n",
       "    </tr>\n",
       "    <tr>\n",
       "      <th>2</th>\n",
       "      <td>863</td>\n",
       "      <td>90000000</td>\n",
       "      <td>Toy Story 2</td>\n",
       "      <td>3</td>\n",
       "      <td>7.3</td>\n",
       "      <td>3914.0</td>\n",
       "      <td>Pixar Animation Studios</td>\n",
       "    </tr>\n",
       "    <tr>\n",
       "      <th>3</th>\n",
       "      <td>585</td>\n",
       "      <td>115000000</td>\n",
       "      <td>Monsters, Inc.</td>\n",
       "      <td>3</td>\n",
       "      <td>7.5</td>\n",
       "      <td>6150.0</td>\n",
       "      <td>Pixar Animation Studios</td>\n",
       "    </tr>\n",
       "    <tr>\n",
       "      <th>4</th>\n",
       "      <td>12</td>\n",
       "      <td>94000000</td>\n",
       "      <td>Finding Nemo</td>\n",
       "      <td>3</td>\n",
       "      <td>7.6</td>\n",
       "      <td>6292.0</td>\n",
       "      <td>Pixar Animation Studios</td>\n",
       "    </tr>\n",
       "    <tr>\n",
       "      <th>...</th>\n",
       "      <td>...</td>\n",
       "      <td>...</td>\n",
       "      <td>...</td>\n",
       "      <td>...</td>\n",
       "      <td>...</td>\n",
       "      <td>...</td>\n",
       "      <td>...</td>\n",
       "    </tr>\n",
       "    <tr>\n",
       "      <th>17019</th>\n",
       "      <td>452068</td>\n",
       "      <td>4000000</td>\n",
       "      <td>Drone</td>\n",
       "      <td>92103</td>\n",
       "      <td>5.7</td>\n",
       "      <td>55.0</td>\n",
       "      <td>Daylight Media</td>\n",
       "    </tr>\n",
       "    <tr>\n",
       "      <th>17020</th>\n",
       "      <td>341013</td>\n",
       "      <td>30000000</td>\n",
       "      <td>Atomic Blonde</td>\n",
       "      <td>87733</td>\n",
       "      <td>6.1</td>\n",
       "      <td>748.0</td>\n",
       "      <td>Closed on Mondays Entertainment</td>\n",
       "    </tr>\n",
       "    <tr>\n",
       "      <th>17021</th>\n",
       "      <td>374720</td>\n",
       "      <td>100000000</td>\n",
       "      <td>Dunkirk</td>\n",
       "      <td>67254</td>\n",
       "      <td>7.5</td>\n",
       "      <td>2712.0</td>\n",
       "      <td>Kaap Holland Film</td>\n",
       "    </tr>\n",
       "    <tr>\n",
       "      <th>17022</th>\n",
       "      <td>395834</td>\n",
       "      <td>11000000</td>\n",
       "      <td>Wind River</td>\n",
       "      <td>27497</td>\n",
       "      <td>7.4</td>\n",
       "      <td>181.0</td>\n",
       "      <td>Star Thrower Entertainment</td>\n",
       "    </tr>\n",
       "    <tr>\n",
       "      <th>17023</th>\n",
       "      <td>395834</td>\n",
       "      <td>11000000</td>\n",
       "      <td>Wind River</td>\n",
       "      <td>68413</td>\n",
       "      <td>7.4</td>\n",
       "      <td>181.0</td>\n",
       "      <td>Acacia Filmed Entertainment</td>\n",
       "    </tr>\n",
       "  </tbody>\n",
       "</table>\n",
       "<p>17024 rows × 7 columns</p>\n",
       "</div>"
      ],
      "text/plain": [
       "          _id     budget  original_title production_companies  vote_average  \\\n",
       "0         862   30000000       Toy Story                    3           7.7   \n",
       "1        9487  120000000    A Bug's Life                    3           6.8   \n",
       "2         863   90000000     Toy Story 2                    3           7.3   \n",
       "3         585  115000000  Monsters, Inc.                    3           7.5   \n",
       "4          12   94000000    Finding Nemo                    3           7.6   \n",
       "...       ...        ...             ...                  ...           ...   \n",
       "17019  452068    4000000           Drone                92103           5.7   \n",
       "17020  341013   30000000   Atomic Blonde                87733           6.1   \n",
       "17021  374720  100000000         Dunkirk                67254           7.5   \n",
       "17022  395834   11000000      Wind River                27497           7.4   \n",
       "17023  395834   11000000      Wind River                68413           7.4   \n",
       "\n",
       "       vote_count                             name  \n",
       "0          5415.0          Pixar Animation Studios  \n",
       "1          2379.0          Pixar Animation Studios  \n",
       "2          3914.0          Pixar Animation Studios  \n",
       "3          6150.0          Pixar Animation Studios  \n",
       "4          6292.0          Pixar Animation Studios  \n",
       "...           ...                              ...  \n",
       "17019        55.0                   Daylight Media  \n",
       "17020       748.0  Closed on Mondays Entertainment  \n",
       "17021      2712.0                Kaap Holland Film  \n",
       "17022       181.0       Star Thrower Entertainment  \n",
       "17023       181.0      Acacia Filmed Entertainment  \n",
       "\n",
       "[17024 rows x 7 columns]"
      ]
     },
     "execution_count": 15,
     "metadata": {},
     "output_type": "execute_result"
    }
   ],
   "source": [
    "#FACCIO JOIN CON IL DATAFRAME CONTENENTE LE PRODUZIONI\n",
    "df_H1 = pd.merge(df_film, df_production, on='production_companies')\n",
    "\n",
    "df_H1\n"
   ]
  },
  {
   "cell_type": "code",
   "execution_count": 16,
   "metadata": {},
   "outputs": [
    {
     "data": {
      "text/html": [
       "<div>\n",
       "<style scoped>\n",
       "    .dataframe tbody tr th:only-of-type {\n",
       "        vertical-align: middle;\n",
       "    }\n",
       "\n",
       "    .dataframe tbody tr th {\n",
       "        vertical-align: top;\n",
       "    }\n",
       "\n",
       "    .dataframe thead th {\n",
       "        text-align: right;\n",
       "    }\n",
       "</style>\n",
       "<table border=\"1\" class=\"dataframe\">\n",
       "  <thead>\n",
       "    <tr style=\"text-align: right;\">\n",
       "      <th></th>\n",
       "      <th>production_companies</th>\n",
       "      <th>count</th>\n",
       "    </tr>\n",
       "  </thead>\n",
       "  <tbody>\n",
       "    <tr>\n",
       "      <th>3</th>\n",
       "      <td>4</td>\n",
       "      <td>340</td>\n",
       "    </tr>\n",
       "    <tr>\n",
       "      <th>23</th>\n",
       "      <td>33</td>\n",
       "      <td>385</td>\n",
       "    </tr>\n",
       "    <tr>\n",
       "      <th>177</th>\n",
       "      <td>306</td>\n",
       "      <td>284</td>\n",
       "    </tr>\n",
       "    <tr>\n",
       "      <th>1762</th>\n",
       "      <td>6194</td>\n",
       "      <td>412</td>\n",
       "    </tr>\n",
       "  </tbody>\n",
       "</table>\n",
       "</div>"
      ],
      "text/plain": [
       "      production_companies  count\n",
       "3                        4    340\n",
       "23                      33    385\n",
       "177                    306    284\n",
       "1762                  6194    412"
      ]
     },
     "execution_count": 16,
     "metadata": {},
     "output_type": "execute_result"
    }
   ],
   "source": [
    "#produzioni che hanno fatto più film\n",
    "target = df_H1.groupby('production_companies').count()\n",
    "target.reset_index(inplace=True)\n",
    "target =  target.rename(columns = {'name' : 'count'})\n",
    "target = target.loc[target['count'] >= 250]\n",
    "target = target.drop(['_id','budget','original_title','vote_average','vote_count'], axis=1)\n",
    "target"
   ]
  },
  {
   "cell_type": "code",
   "execution_count": 17,
   "metadata": {},
   "outputs": [],
   "source": [
    "df_H = pd.merge(df_H1, target, on='production_companies')\n",
    "df_H.loc[df_H['vote_average'] < 7.5, 'label'] = 0\n",
    "df_H.loc[df_H['vote_average'] >= 7.5, 'label'] = 1\n"
   ]
  },
  {
   "cell_type": "code",
   "execution_count": 18,
   "metadata": {},
   "outputs": [],
   "source": [
    "df_H.label =  df_H.label.astype(int)"
   ]
  },
  {
   "cell_type": "code",
   "execution_count": 19,
   "metadata": {},
   "outputs": [
    {
     "data": {
      "text/html": [
       "<div>\n",
       "<style scoped>\n",
       "    .dataframe tbody tr th:only-of-type {\n",
       "        vertical-align: middle;\n",
       "    }\n",
       "\n",
       "    .dataframe tbody tr th {\n",
       "        vertical-align: top;\n",
       "    }\n",
       "\n",
       "    .dataframe thead th {\n",
       "        text-align: right;\n",
       "    }\n",
       "</style>\n",
       "<table border=\"1\" class=\"dataframe\">\n",
       "  <thead>\n",
       "    <tr style=\"text-align: right;\">\n",
       "      <th></th>\n",
       "      <th>budget</th>\n",
       "      <th>vote_average</th>\n",
       "      <th>name</th>\n",
       "      <th>label</th>\n",
       "    </tr>\n",
       "  </thead>\n",
       "  <tbody>\n",
       "    <tr>\n",
       "      <th>752</th>\n",
       "      <td>35000000</td>\n",
       "      <td>5.5</td>\n",
       "      <td>Universal Pictures</td>\n",
       "      <td>0</td>\n",
       "    </tr>\n",
       "    <tr>\n",
       "      <th>753</th>\n",
       "      <td>52000000</td>\n",
       "      <td>7.8</td>\n",
       "      <td>Universal Pictures</td>\n",
       "      <td>1</td>\n",
       "    </tr>\n",
       "    <tr>\n",
       "      <th>754</th>\n",
       "      <td>29500000</td>\n",
       "      <td>7.4</td>\n",
       "      <td>Universal Pictures</td>\n",
       "      <td>0</td>\n",
       "    </tr>\n",
       "    <tr>\n",
       "      <th>755</th>\n",
       "      <td>30000000</td>\n",
       "      <td>6.0</td>\n",
       "      <td>Universal Pictures</td>\n",
       "      <td>0</td>\n",
       "    </tr>\n",
       "    <tr>\n",
       "      <th>756</th>\n",
       "      <td>12000000</td>\n",
       "      <td>6.5</td>\n",
       "      <td>Universal Pictures</td>\n",
       "      <td>0</td>\n",
       "    </tr>\n",
       "    <tr>\n",
       "      <th>...</th>\n",
       "      <td>...</td>\n",
       "      <td>...</td>\n",
       "      <td>...</td>\n",
       "      <td>...</td>\n",
       "    </tr>\n",
       "    <tr>\n",
       "      <th>1132</th>\n",
       "      <td>75000000</td>\n",
       "      <td>6.8</td>\n",
       "      <td>Universal Pictures</td>\n",
       "      <td>0</td>\n",
       "    </tr>\n",
       "    <tr>\n",
       "      <th>1133</th>\n",
       "      <td>22000000</td>\n",
       "      <td>6.6</td>\n",
       "      <td>Universal Pictures</td>\n",
       "      <td>0</td>\n",
       "    </tr>\n",
       "    <tr>\n",
       "      <th>1134</th>\n",
       "      <td>55000000</td>\n",
       "      <td>6.0</td>\n",
       "      <td>Universal Pictures</td>\n",
       "      <td>0</td>\n",
       "    </tr>\n",
       "    <tr>\n",
       "      <th>1135</th>\n",
       "      <td>125000000</td>\n",
       "      <td>5.4</td>\n",
       "      <td>Universal Pictures</td>\n",
       "      <td>0</td>\n",
       "    </tr>\n",
       "    <tr>\n",
       "      <th>1136</th>\n",
       "      <td>250000000</td>\n",
       "      <td>6.8</td>\n",
       "      <td>Universal Pictures</td>\n",
       "      <td>0</td>\n",
       "    </tr>\n",
       "  </tbody>\n",
       "</table>\n",
       "<p>385 rows × 4 columns</p>\n",
       "</div>"
      ],
      "text/plain": [
       "         budget  vote_average                name  label\n",
       "752    35000000           5.5  Universal Pictures      0\n",
       "753    52000000           7.8  Universal Pictures      1\n",
       "754    29500000           7.4  Universal Pictures      0\n",
       "755    30000000           6.0  Universal Pictures      0\n",
       "756    12000000           6.5  Universal Pictures      0\n",
       "...         ...           ...                 ...    ...\n",
       "1132   75000000           6.8  Universal Pictures      0\n",
       "1133   22000000           6.6  Universal Pictures      0\n",
       "1134   55000000           6.0  Universal Pictures      0\n",
       "1135  125000000           5.4  Universal Pictures      0\n",
       "1136  250000000           6.8  Universal Pictures      0\n",
       "\n",
       "[385 rows x 4 columns]"
      ]
     },
     "execution_count": 19,
     "metadata": {},
     "output_type": "execute_result"
    }
   ],
   "source": [
    "data=df_H[df_H['production_companies'] == 33]\n",
    "data=data[['budget','vote_average','name','label']]\n",
    "data"
   ]
  },
  {
   "cell_type": "code",
   "execution_count": 20,
   "metadata": {},
   "outputs": [],
   "source": [
    "#METTENDO LA SOGLIA DI UN BUDGET ALTO A PIù DI 100M VEDIAMO CHE PER LA UNIVERSAL PICTURES ABBIAMO CHE \n",
    "#la possibilità di produrre UN FILM BELLO AVENDO A DISPOSIZIONE UN BUDGET MINORE è maggiore\n",
    "test_low =  data.loc[data['budget'] < 100000000\t ]\n",
    "t_low = test_low.loc[test_low['label']==1]\n",
    "test_high =  data.loc[data['budget'] >= 100000000\t ]\n",
    "t_high = test_high.loc[test_high['label']== 1]\n"
   ]
  },
  {
   "cell_type": "code",
   "execution_count": 21,
   "metadata": {},
   "outputs": [
    {
     "data": {
      "text/plain": [
       "7.670454545454546"
      ]
     },
     "execution_count": 21,
     "metadata": {},
     "output_type": "execute_result"
    }
   ],
   "source": [
    "#PERCENTUALE DI TROVARE UN FILM CON VALUTAZIONE ALTA AVENDO UN BUDGET  BASSO\n",
    "low_budget = (t_low.shape[0]/test_low.shape[0])*100\n",
    "low_budget"
   ]
  },
  {
   "cell_type": "code",
   "execution_count": 22,
   "metadata": {},
   "outputs": [
    {
     "data": {
      "text/plain": [
       "3.0303030303030303"
      ]
     },
     "execution_count": 22,
     "metadata": {},
     "output_type": "execute_result"
    }
   ],
   "source": [
    "#PERCENTUALE DI TROVARE UN FILM CON VALUTAZIONE ALTA AVENDO UN BUDGET  ALTO\n",
    "high_budget = (t_high.shape[0]/test_high.shape[0])*100\n",
    "high_budget"
   ]
  },
  {
   "cell_type": "code",
   "execution_count": 40,
   "metadata": {},
   "outputs": [
    {
     "data": {
      "text/plain": [
       "Text(0.5, 1.0, 'Universal Pictures')"
      ]
     },
     "execution_count": 40,
     "metadata": {},
     "output_type": "execute_result"
    },
    {
     "data": {
      "image/png": "[encoded data removed]",
      "text/plain": [
       "<Figure size 1440x648 with 1 Axes>"
      ]
     },
     "metadata": {
      "needs_background": "light"
     },
     "output_type": "display_data"
    }
   ],
   "source": [
    "plt.figure(figsize=(20,9))\n",
    "plt.grid()\n",
    "sns.scatterplot(data=data, x=\"budget\", y=\"vote_average\", hue= data.label.tolist())\n",
    "plt.axvline(x=100000000, color='red',linestyle='--')\n",
    "plt.title('Universal Pictures',fontsize=25)"
   ]
  },
  {
   "cell_type": "code",
   "execution_count": 24,
   "metadata": {},
   "outputs": [
    {
     "data": {
      "text/html": [
       "<div>\n",
       "<style scoped>\n",
       "    .dataframe tbody tr th:only-of-type {\n",
       "        vertical-align: middle;\n",
       "    }\n",
       "\n",
       "    .dataframe tbody tr th {\n",
       "        vertical-align: top;\n",
       "    }\n",
       "\n",
       "    .dataframe thead th {\n",
       "        text-align: right;\n",
       "    }\n",
       "</style>\n",
       "<table border=\"1\" class=\"dataframe\">\n",
       "  <thead>\n",
       "    <tr style=\"text-align: right;\">\n",
       "      <th></th>\n",
       "      <th>budget</th>\n",
       "      <th>vote_average</th>\n",
       "      <th>name</th>\n",
       "      <th>label</th>\n",
       "    </tr>\n",
       "  </thead>\n",
       "  <tbody>\n",
       "    <tr>\n",
       "      <th>0</th>\n",
       "      <td>60000000</td>\n",
       "      <td>7.7</td>\n",
       "      <td>Warner Bros.</td>\n",
       "      <td>1</td>\n",
       "    </tr>\n",
       "    <tr>\n",
       "      <th>1</th>\n",
       "      <td>30000000</td>\n",
       "      <td>6.1</td>\n",
       "      <td>Warner Bros.</td>\n",
       "      <td>0</td>\n",
       "    </tr>\n",
       "    <tr>\n",
       "      <th>2</th>\n",
       "      <td>50000000</td>\n",
       "      <td>6.0</td>\n",
       "      <td>Warner Bros.</td>\n",
       "      <td>0</td>\n",
       "    </tr>\n",
       "    <tr>\n",
       "      <th>3</th>\n",
       "      <td>50000000</td>\n",
       "      <td>4.1</td>\n",
       "      <td>Warner Bros.</td>\n",
       "      <td>0</td>\n",
       "    </tr>\n",
       "    <tr>\n",
       "      <th>4</th>\n",
       "      <td>24000000</td>\n",
       "      <td>7.3</td>\n",
       "      <td>Warner Bros.</td>\n",
       "      <td>0</td>\n",
       "    </tr>\n",
       "    <tr>\n",
       "      <th>...</th>\n",
       "      <td>...</td>\n",
       "      <td>...</td>\n",
       "      <td>...</td>\n",
       "      <td>...</td>\n",
       "    </tr>\n",
       "    <tr>\n",
       "      <th>407</th>\n",
       "      <td>185000000</td>\n",
       "      <td>6.2</td>\n",
       "      <td>Warner Bros.</td>\n",
       "      <td>0</td>\n",
       "    </tr>\n",
       "    <tr>\n",
       "      <th>408</th>\n",
       "      <td>175000000</td>\n",
       "      <td>6.5</td>\n",
       "      <td>Warner Bros.</td>\n",
       "      <td>0</td>\n",
       "    </tr>\n",
       "    <tr>\n",
       "      <th>409</th>\n",
       "      <td>25000000</td>\n",
       "      <td>6.2</td>\n",
       "      <td>Warner Bros.</td>\n",
       "      <td>0</td>\n",
       "    </tr>\n",
       "    <tr>\n",
       "      <th>410</th>\n",
       "      <td>25000000</td>\n",
       "      <td>6.6</td>\n",
       "      <td>Warner Bros.</td>\n",
       "      <td>0</td>\n",
       "    </tr>\n",
       "    <tr>\n",
       "      <th>411</th>\n",
       "      <td>100000000</td>\n",
       "      <td>7.5</td>\n",
       "      <td>Warner Bros.</td>\n",
       "      <td>1</td>\n",
       "    </tr>\n",
       "  </tbody>\n",
       "</table>\n",
       "<p>412 rows × 4 columns</p>\n",
       "</div>"
      ],
      "text/plain": [
       "        budget  vote_average          name  label\n",
       "0     60000000           7.7  Warner Bros.      1\n",
       "1     30000000           6.1  Warner Bros.      0\n",
       "2     50000000           6.0  Warner Bros.      0\n",
       "3     50000000           4.1  Warner Bros.      0\n",
       "4     24000000           7.3  Warner Bros.      0\n",
       "..         ...           ...           ...    ...\n",
       "407  185000000           6.2  Warner Bros.      0\n",
       "408  175000000           6.5  Warner Bros.      0\n",
       "409   25000000           6.2  Warner Bros.      0\n",
       "410   25000000           6.6  Warner Bros.      0\n",
       "411  100000000           7.5  Warner Bros.      1\n",
       "\n",
       "[412 rows x 4 columns]"
      ]
     },
     "execution_count": 24,
     "metadata": {},
     "output_type": "execute_result"
    }
   ],
   "source": [
    "data1=df_H[df_H['production_companies'] == 6194]\n",
    "data1=data1[['budget','vote_average','name', 'label']]\n",
    "data1"
   ]
  },
  {
   "cell_type": "code",
   "execution_count": 25,
   "metadata": {},
   "outputs": [],
   "source": [
    "#METTENDO LA SOGLIA DI UN BUDGET ALTO A PIù DI 100M VEDIAMO CHE PER LA WARNER BROS ABBIAMO CHE \n",
    "#LA POSSIBILTà DI PRODURRE UN BEL FILM è ALTA CON QUALSIASI BUDGET\n",
    "test1_low =  data1.loc[data1['budget'] < 100000000\t ]\n",
    "t1_low = test1_low.loc[test1_low['label']==1]\n",
    "test1_high =  data1.loc[data1['budget'] >= 100000000\t ]\n",
    "t1_high = test1_high.loc[test1_high['label']== 1]\n"
   ]
  },
  {
   "cell_type": "code",
   "execution_count": 26,
   "metadata": {},
   "outputs": [
    {
     "data": {
      "text/plain": [
       "13.78299120234604"
      ]
     },
     "execution_count": 26,
     "metadata": {},
     "output_type": "execute_result"
    }
   ],
   "source": [
    "#PERCENTUALE DI TROVARE UN FILM CON VALUTAZIONE ALTA AVENDO UN BUDGET  BASSO\n",
    "low1_budget = (t1_low.shape[0]/test1_low.shape[0])*100\n",
    "low1_budget"
   ]
  },
  {
   "cell_type": "code",
   "execution_count": 27,
   "metadata": {},
   "outputs": [
    {
     "data": {
      "text/plain": [
       "16.901408450704224"
      ]
     },
     "execution_count": 27,
     "metadata": {},
     "output_type": "execute_result"
    }
   ],
   "source": [
    "#PERCENTUALE DI TROVARE UN FILM CON VALUTAZIONE ALTA AVENDO UN BUDGET  ALTO\n",
    "high1_budget = (t1_high.shape[0]/test1_high.shape[0])*100\n",
    "high1_budget"
   ]
  },
  {
   "cell_type": "code",
   "execution_count": 41,
   "metadata": {},
   "outputs": [
    {
     "data": {
      "text/plain": [
       "Text(0.5, 1.0, 'Warner Bros')"
      ]
     },
     "execution_count": 41,
     "metadata": {},
     "output_type": "execute_result"
    },
    {
     "data": {
      "image/png": "[encoded data removed]",
      "text/plain": [
       "<Figure size 1440x648 with 1 Axes>"
      ]
     },
     "metadata": {
      "needs_background": "light"
     },
     "output_type": "display_data"
    }
   ],
   "source": [
    "plt.figure(figsize=(20,9))\n",
    "plt.grid()\n",
    "sns.scatterplot(data=data1, x=\"budget\", y=\"vote_average\", hue= data1.label.tolist())\n",
    "plt.axvline(x=100000000, color='red',linestyle='--')\n",
    "plt.title('Warner Bros',fontsize=25)"
   ]
  },
  {
   "cell_type": "code",
   "execution_count": 29,
   "metadata": {},
   "outputs": [
    {
     "data": {
      "text/html": [
       "<div>\n",
       "<style scoped>\n",
       "    .dataframe tbody tr th:only-of-type {\n",
       "        vertical-align: middle;\n",
       "    }\n",
       "\n",
       "    .dataframe tbody tr th {\n",
       "        vertical-align: top;\n",
       "    }\n",
       "\n",
       "    .dataframe thead th {\n",
       "        text-align: right;\n",
       "    }\n",
       "</style>\n",
       "<table border=\"1\" class=\"dataframe\">\n",
       "  <thead>\n",
       "    <tr style=\"text-align: right;\">\n",
       "      <th></th>\n",
       "      <th>budget</th>\n",
       "      <th>vote_average</th>\n",
       "      <th>name</th>\n",
       "      <th>label</th>\n",
       "    </tr>\n",
       "  </thead>\n",
       "  <tbody>\n",
       "    <tr>\n",
       "      <th>412</th>\n",
       "      <td>58000000</td>\n",
       "      <td>6.2</td>\n",
       "      <td>Paramount Pictures</td>\n",
       "      <td>0</td>\n",
       "    </tr>\n",
       "    <tr>\n",
       "      <th>413</th>\n",
       "      <td>12000000</td>\n",
       "      <td>6.9</td>\n",
       "      <td>Paramount Pictures</td>\n",
       "      <td>0</td>\n",
       "    </tr>\n",
       "    <tr>\n",
       "      <th>414</th>\n",
       "      <td>45000000</td>\n",
       "      <td>5.9</td>\n",
       "      <td>Paramount Pictures</td>\n",
       "      <td>0</td>\n",
       "    </tr>\n",
       "    <tr>\n",
       "      <th>415</th>\n",
       "      <td>20000000</td>\n",
       "      <td>5.8</td>\n",
       "      <td>Paramount Pictures</td>\n",
       "      <td>0</td>\n",
       "    </tr>\n",
       "    <tr>\n",
       "      <th>416</th>\n",
       "      <td>8169363</td>\n",
       "      <td>6.1</td>\n",
       "      <td>Paramount Pictures</td>\n",
       "      <td>0</td>\n",
       "    </tr>\n",
       "    <tr>\n",
       "      <th>...</th>\n",
       "      <td>...</td>\n",
       "      <td>...</td>\n",
       "      <td>...</td>\n",
       "      <td>...</td>\n",
       "    </tr>\n",
       "    <tr>\n",
       "      <th>747</th>\n",
       "      <td>85000000</td>\n",
       "      <td>5.5</td>\n",
       "      <td>Paramount Pictures</td>\n",
       "      <td>0</td>\n",
       "    </tr>\n",
       "    <tr>\n",
       "      <th>748</th>\n",
       "      <td>25000000</td>\n",
       "      <td>4.8</td>\n",
       "      <td>Paramount Pictures</td>\n",
       "      <td>0</td>\n",
       "    </tr>\n",
       "    <tr>\n",
       "      <th>749</th>\n",
       "      <td>110000000</td>\n",
       "      <td>5.9</td>\n",
       "      <td>Paramount Pictures</td>\n",
       "      <td>0</td>\n",
       "    </tr>\n",
       "    <tr>\n",
       "      <th>750</th>\n",
       "      <td>69000000</td>\n",
       "      <td>6.1</td>\n",
       "      <td>Paramount Pictures</td>\n",
       "      <td>0</td>\n",
       "    </tr>\n",
       "    <tr>\n",
       "      <th>751</th>\n",
       "      <td>260000000</td>\n",
       "      <td>6.2</td>\n",
       "      <td>Paramount Pictures</td>\n",
       "      <td>0</td>\n",
       "    </tr>\n",
       "  </tbody>\n",
       "</table>\n",
       "<p>340 rows × 4 columns</p>\n",
       "</div>"
      ],
      "text/plain": [
       "        budget  vote_average                name  label\n",
       "412   58000000           6.2  Paramount Pictures      0\n",
       "413   12000000           6.9  Paramount Pictures      0\n",
       "414   45000000           5.9  Paramount Pictures      0\n",
       "415   20000000           5.8  Paramount Pictures      0\n",
       "416    8169363           6.1  Paramount Pictures      0\n",
       "..         ...           ...                 ...    ...\n",
       "747   85000000           5.5  Paramount Pictures      0\n",
       "748   25000000           4.8  Paramount Pictures      0\n",
       "749  110000000           5.9  Paramount Pictures      0\n",
       "750   69000000           6.1  Paramount Pictures      0\n",
       "751  260000000           6.2  Paramount Pictures      0\n",
       "\n",
       "[340 rows x 4 columns]"
      ]
     },
     "execution_count": 29,
     "metadata": {},
     "output_type": "execute_result"
    }
   ],
   "source": [
    "data2=df_H[df_H['production_companies'] == 4]\n",
    "data2=data2[['budget','vote_average','name', 'label']]\n",
    "data2"
   ]
  },
  {
   "cell_type": "code",
   "execution_count": 30,
   "metadata": {},
   "outputs": [],
   "source": [
    "#METTENDO LA SOGLIA DI UN BUDGET ALTO A PIù DI 100M VEDIAMO CHE PER LA PARAMOUNT PICTURES ABBIAMO CHE \n",
    "#la possibilità di produrre UN FILM BELLO AVENDO A DISPOSIZIONE UN BUDGET MINORE è maggiore\n",
    "test2_low =  data2.loc[data2['budget'] < 100000000\t ]\n",
    "t2_low = test2_low.loc[test2_low['label']==1]\n",
    "test2_high =  data2.loc[data2['budget'] >= 100000000\t ]\n",
    "t2_high = test2_high.loc[test2_high['label']== 1]\n"
   ]
  },
  {
   "cell_type": "code",
   "execution_count": 31,
   "metadata": {},
   "outputs": [
    {
     "data": {
      "text/plain": [
       "10.774410774410773"
      ]
     },
     "execution_count": 31,
     "metadata": {},
     "output_type": "execute_result"
    }
   ],
   "source": [
    "#PERCENTUALE DI TROVARE UN FILM CON VALUTAZIONE ALTA AVENDO UN BUDGET  BASSO\n",
    "low2_budget = (t2_low.shape[0]/test2_low.shape[0])*100\n",
    "low2_budget"
   ]
  },
  {
   "cell_type": "code",
   "execution_count": 32,
   "metadata": {},
   "outputs": [
    {
     "data": {
      "text/plain": [
       "6.976744186046512"
      ]
     },
     "execution_count": 32,
     "metadata": {},
     "output_type": "execute_result"
    }
   ],
   "source": [
    "#PERCENTUALE DI TROVARE UN FILM CON VALUTAZIONE ALTA AVENDO UN BUDGET  ALTO\n",
    "high2_budget = (t2_high.shape[0]/test2_high.shape[0])*100\n",
    "high2_budget"
   ]
  },
  {
   "cell_type": "code",
   "execution_count": 43,
   "metadata": {},
   "outputs": [
    {
     "data": {
      "text/plain": [
       "Text(0.5, 1.0, 'Paramount Pictures')"
      ]
     },
     "execution_count": 43,
     "metadata": {},
     "output_type": "execute_result"
    },
    {
     "data": {
      "image/png": "[encoded data removed]",
      "text/plain": [
       "<Figure size 1440x648 with 1 Axes>"
      ]
     },
     "metadata": {
      "needs_background": "light"
     },
     "output_type": "display_data"
    }
   ],
   "source": [
    "fig = plt.figure(figsize=(20,9))\n",
    "plt.grid()\n",
    "sns.scatterplot(data=data2, x=\"budget\", y=\"vote_average\", hue= data2.label.tolist())\n",
    "plt.axvline(x=100000000, color='red',linestyle='--')\n",
    "plt.title('Paramount Pictures',fontsize=25)\n"
   ]
  },
  {
   "cell_type": "code",
   "execution_count": 34,
   "metadata": {},
   "outputs": [],
   "source": [
    "#LA WARNER BROS è LA COMPAGNIA DI PRODUZIONE APPARENTEMENTE MIGLIORE, POICHè GARSNTISCE FILM DI QUALITà SIA AD ALTO CHE BASSO BUDGET SPESO"
   ]
  }
 ],
 "metadata": {
  "kernelspec": {
   "display_name": "Python 3",
   "language": "python",
   "name": "python3"
  },
  "language_info": {
   "codemirror_mode": {
    "name": "ipython",
    "version": 3
   },
   "file_extension": ".py",
   "mimetype": "text/x-python",
   "name": "python",
   "nbconvert_exporter": "python",
   "pygments_lexer": "ipython3",
   "version": "3.7.9"
  }
 },
 "nbformat": 4,
 "nbformat_minor": 4
}
