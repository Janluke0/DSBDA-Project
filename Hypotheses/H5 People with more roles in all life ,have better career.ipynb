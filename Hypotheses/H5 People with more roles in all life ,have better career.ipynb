{
 "cells": [
  {
   "cell_type": "code",
   "execution_count": 166,
   "metadata": {},
   "outputs": [],
   "source": [
    "#importo e librerie che mi serviranno\n",
    "import pymongo\n",
    "import matplotlib.pyplot as plt \n",
    "import pandas as pd\n",
    "import seaborn as sns\n",
    "\n",
    "URI = \"mongodb://127.0.0.1:27017/?readPreference=primary&ssl=false\"\n",
    "client = pymongo.MongoClient(URI)\n",
    "db = client['movie_dataset']\n",
    "\n"
   ]
  },
  {
   "cell_type": "markdown",
   "metadata": {},
   "source": [
    "# Preparazione dei dati"
   ]
  },
  {
   "cell_type": "code",
   "execution_count": 167,
   "metadata": {
    "scrolled": true
   },
   "outputs": [
    {
     "data": {
      "text/html": [
       "<div>\n",
       "<style scoped>\n",
       "    .dataframe tbody tr th:only-of-type {\n",
       "        vertical-align: middle;\n",
       "    }\n",
       "\n",
       "    .dataframe tbody tr th {\n",
       "        vertical-align: top;\n",
       "    }\n",
       "\n",
       "    .dataframe thead th {\n",
       "        text-align: right;\n",
       "    }\n",
       "</style>\n",
       "<table border=\"1\" class=\"dataframe\">\n",
       "  <thead>\n",
       "    <tr style=\"text-align: right;\">\n",
       "      <th></th>\n",
       "      <th>_id</th>\n",
       "      <th>name</th>\n",
       "      <th>gender</th>\n",
       "    </tr>\n",
       "  </thead>\n",
       "  <tbody>\n",
       "    <tr>\n",
       "      <th>0</th>\n",
       "      <td>15111</td>\n",
       "      <td>Jean-Claude Van Damme</td>\n",
       "      <td>2</td>\n",
       "    </tr>\n",
       "    <tr>\n",
       "      <th>1</th>\n",
       "      <td>14639</td>\n",
       "      <td>Mel Brooks</td>\n",
       "      <td>2</td>\n",
       "    </tr>\n",
       "    <tr>\n",
       "      <th>2</th>\n",
       "      <td>138</td>\n",
       "      <td>Quentin Tarantino</td>\n",
       "      <td>2</td>\n",
       "    </tr>\n",
       "    <tr>\n",
       "      <th>3</th>\n",
       "      <td>776</td>\n",
       "      <td>Eddie Murphy</td>\n",
       "      <td>2</td>\n",
       "    </tr>\n",
       "    <tr>\n",
       "      <th>4</th>\n",
       "      <td>1032</td>\n",
       "      <td>Martin Scorsese</td>\n",
       "      <td>2</td>\n",
       "    </tr>\n",
       "  </tbody>\n",
       "</table>\n",
       "</div>"
      ],
      "text/plain": [
       "     _id                   name  gender\n",
       "0  15111  Jean-Claude Van Damme       2\n",
       "1  14639             Mel Brooks       2\n",
       "2    138      Quentin Tarantino       2\n",
       "3    776           Eddie Murphy       2\n",
       "4   1032        Martin Scorsese       2"
      ]
     },
     "execution_count": 167,
     "metadata": {},
     "output_type": "execute_result"
    }
   ],
   "source": [
    "#attori  con più di 8 ruoli che hanno eseguito nella loro carriera\n",
    "df= pd.DataFrame( db.people.aggregate([{\"$match\" : {\"jobs.8\":{\"$exists\" : True}}}, {'$project': {'name': 1, 'gender': 1}\n",
    "    }]))\n",
    "df.head()"
   ]
  },
  {
   "cell_type": "code",
   "execution_count": 168,
   "metadata": {},
   "outputs": [
    {
     "data": {
      "text/html": [
       "<div>\n",
       "<style scoped>\n",
       "    .dataframe tbody tr th:only-of-type {\n",
       "        vertical-align: middle;\n",
       "    }\n",
       "\n",
       "    .dataframe tbody tr th {\n",
       "        vertical-align: top;\n",
       "    }\n",
       "\n",
       "    .dataframe thead th {\n",
       "        text-align: right;\n",
       "    }\n",
       "</style>\n",
       "<table border=\"1\" class=\"dataframe\">\n",
       "  <thead>\n",
       "    <tr style=\"text-align: right;\">\n",
       "      <th></th>\n",
       "      <th>_id</th>\n",
       "      <th>name</th>\n",
       "      <th>gender</th>\n",
       "    </tr>\n",
       "  </thead>\n",
       "  <tbody>\n",
       "    <tr>\n",
       "      <th>0</th>\n",
       "      <td>12899</td>\n",
       "      <td>Jim Varney</td>\n",
       "      <td>2</td>\n",
       "    </tr>\n",
       "    <tr>\n",
       "      <th>1</th>\n",
       "      <td>12900</td>\n",
       "      <td>Wallace Shawn</td>\n",
       "      <td>2</td>\n",
       "    </tr>\n",
       "    <tr>\n",
       "      <th>2</th>\n",
       "      <td>58563</td>\n",
       "      <td>David Alan Grier</td>\n",
       "      <td>2</td>\n",
       "    </tr>\n",
       "    <tr>\n",
       "      <th>3</th>\n",
       "      <td>8851</td>\n",
       "      <td>Whitney Houston</td>\n",
       "      <td>1</td>\n",
       "    </tr>\n",
       "    <tr>\n",
       "      <th>4</th>\n",
       "      <td>9780</td>\n",
       "      <td>Angela Bassett</td>\n",
       "      <td>1</td>\n",
       "    </tr>\n",
       "  </tbody>\n",
       "</table>\n",
       "</div>"
      ],
      "text/plain": [
       "     _id              name  gender\n",
       "0  12899        Jim Varney       2\n",
       "1  12900     Wallace Shawn       2\n",
       "2  58563  David Alan Grier       2\n",
       "3   8851   Whitney Houston       1\n",
       "4   9780    Angela Bassett       1"
      ]
     },
     "execution_count": 168,
     "metadata": {},
     "output_type": "execute_result"
    }
   ],
   "source": [
    "#attori  con solo 2 ruoli  nella loro carriera\n",
    "dfless= pd.DataFrame( db.people.aggregate([{ '$match': {'jobs': {'$size': 2}}},{'$project': {'name': 1, 'gender': 1}\n",
    "    }]))\n",
    "dfless.head()"
   ]
  },
  {
   "cell_type": "code",
   "execution_count": 169,
   "metadata": {},
   "outputs": [],
   "source": [
    "#lista dei film\n",
    "df_film = pd.DataFrame(db.metadata.find({}, {'_id':1, 'vote_average':1 , 'vote_count':1 }))\n",
    "\n"
   ]
  },
  {
   "cell_type": "code",
   "execution_count": 170,
   "metadata": {},
   "outputs": [
    {
     "data": {
      "text/plain": [
       "(45433, 3)"
      ]
     },
     "execution_count": 170,
     "metadata": {},
     "output_type": "execute_result"
    }
   ],
   "source": [
    "df_film.shape"
   ]
  },
  {
   "cell_type": "code",
   "execution_count": 171,
   "metadata": {},
   "outputs": [],
   "source": [
    "#rinomino la colonna _id in movie_id\n",
    "df_film =  df_film.rename(columns = {'_id' : 'movie_id'})"
   ]
  },
  {
   "cell_type": "code",
   "execution_count": 172,
   "metadata": {},
   "outputs": [
    {
     "data": {
      "text/html": [
       "<div>\n",
       "<style scoped>\n",
       "    .dataframe tbody tr th:only-of-type {\n",
       "        vertical-align: middle;\n",
       "    }\n",
       "\n",
       "    .dataframe tbody tr th {\n",
       "        vertical-align: top;\n",
       "    }\n",
       "\n",
       "    .dataframe thead th {\n",
       "        text-align: right;\n",
       "    }\n",
       "</style>\n",
       "<table border=\"1\" class=\"dataframe\">\n",
       "  <thead>\n",
       "    <tr style=\"text-align: right;\">\n",
       "      <th></th>\n",
       "      <th>department</th>\n",
       "      <th>person_id</th>\n",
       "      <th>movie_id</th>\n",
       "    </tr>\n",
       "  </thead>\n",
       "  <tbody>\n",
       "    <tr>\n",
       "      <th>0</th>\n",
       "      <td>Directing</td>\n",
       "      <td>7879</td>\n",
       "      <td>862</td>\n",
       "    </tr>\n",
       "    <tr>\n",
       "      <th>1</th>\n",
       "      <td>Writing</td>\n",
       "      <td>12891</td>\n",
       "      <td>862</td>\n",
       "    </tr>\n",
       "    <tr>\n",
       "      <th>2</th>\n",
       "      <td>Writing</td>\n",
       "      <td>7</td>\n",
       "      <td>862</td>\n",
       "    </tr>\n",
       "    <tr>\n",
       "      <th>3</th>\n",
       "      <td>Writing</td>\n",
       "      <td>12892</td>\n",
       "      <td>862</td>\n",
       "    </tr>\n",
       "    <tr>\n",
       "      <th>4</th>\n",
       "      <td>Writing</td>\n",
       "      <td>12893</td>\n",
       "      <td>862</td>\n",
       "    </tr>\n",
       "    <tr>\n",
       "      <th>...</th>\n",
       "      <td>...</td>\n",
       "      <td>...</td>\n",
       "      <td>...</td>\n",
       "    </tr>\n",
       "    <tr>\n",
       "      <th>464309</th>\n",
       "      <td>Sound</td>\n",
       "      <td>549356</td>\n",
       "      <td>67758</td>\n",
       "    </tr>\n",
       "    <tr>\n",
       "      <th>464310</th>\n",
       "      <td>Camera</td>\n",
       "      <td>58818</td>\n",
       "      <td>67758</td>\n",
       "    </tr>\n",
       "    <tr>\n",
       "      <th>464311</th>\n",
       "      <td>Directing</td>\n",
       "      <td>1085341</td>\n",
       "      <td>227506</td>\n",
       "    </tr>\n",
       "    <tr>\n",
       "      <th>464312</th>\n",
       "      <td>Production</td>\n",
       "      <td>1195656</td>\n",
       "      <td>227506</td>\n",
       "    </tr>\n",
       "    <tr>\n",
       "      <th>464313</th>\n",
       "      <td>Directing</td>\n",
       "      <td>1344495</td>\n",
       "      <td>461257</td>\n",
       "    </tr>\n",
       "  </tbody>\n",
       "</table>\n",
       "<p>464314 rows × 3 columns</p>\n",
       "</div>"
      ],
      "text/plain": [
       "        department  person_id  movie_id\n",
       "0        Directing       7879       862\n",
       "1          Writing      12891       862\n",
       "2          Writing          7       862\n",
       "3          Writing      12892       862\n",
       "4          Writing      12893       862\n",
       "...            ...        ...       ...\n",
       "464309       Sound     549356     67758\n",
       "464310      Camera      58818     67758\n",
       "464311   Directing    1085341    227506\n",
       "464312  Production    1195656    227506\n",
       "464313   Directing    1344495    461257\n",
       "\n",
       "[464314 rows x 3 columns]"
      ]
     },
     "execution_count": 172,
     "metadata": {},
     "output_type": "execute_result"
    }
   ],
   "source": [
    "#Lista crew\n",
    "#prendo dalla collection crew l' id della persona del film e il ruolo svolto\n",
    "df_crew = pd.DataFrame(db.crew.find({}, {'person_id':1, 'movie_id':1,'_id':0,'department':1})).astype({'movie_id': 'int32','person_id': 'int32'})\n",
    "\n",
    "df_crew"
   ]
  },
  {
   "cell_type": "code",
   "execution_count": 173,
   "metadata": {},
   "outputs": [
    {
     "data": {
      "text/plain": [
       "department    object\n",
       "person_id      int32\n",
       "movie_id       int32\n",
       "dtype: object"
      ]
     },
     "execution_count": 173,
     "metadata": {},
     "output_type": "execute_result"
    }
   ],
   "source": [
    "df_crew.dtypes"
   ]
  },
  {
   "cell_type": "code",
   "execution_count": 174,
   "metadata": {},
   "outputs": [
    {
     "data": {
      "text/html": [
       "<div>\n",
       "<style scoped>\n",
       "    .dataframe tbody tr th:only-of-type {\n",
       "        vertical-align: middle;\n",
       "    }\n",
       "\n",
       "    .dataframe tbody tr th {\n",
       "        vertical-align: top;\n",
       "    }\n",
       "\n",
       "    .dataframe thead th {\n",
       "        text-align: right;\n",
       "    }\n",
       "</style>\n",
       "<table border=\"1\" class=\"dataframe\">\n",
       "  <thead>\n",
       "    <tr style=\"text-align: right;\">\n",
       "      <th></th>\n",
       "      <th>department</th>\n",
       "      <th>_id</th>\n",
       "      <th>movie_id</th>\n",
       "    </tr>\n",
       "  </thead>\n",
       "  <tbody>\n",
       "    <tr>\n",
       "      <th>0</th>\n",
       "      <td>Directing</td>\n",
       "      <td>7879</td>\n",
       "      <td>862</td>\n",
       "    </tr>\n",
       "    <tr>\n",
       "      <th>1</th>\n",
       "      <td>Writing</td>\n",
       "      <td>12891</td>\n",
       "      <td>862</td>\n",
       "    </tr>\n",
       "    <tr>\n",
       "      <th>2</th>\n",
       "      <td>Writing</td>\n",
       "      <td>7</td>\n",
       "      <td>862</td>\n",
       "    </tr>\n",
       "    <tr>\n",
       "      <th>3</th>\n",
       "      <td>Writing</td>\n",
       "      <td>12892</td>\n",
       "      <td>862</td>\n",
       "    </tr>\n",
       "    <tr>\n",
       "      <th>4</th>\n",
       "      <td>Writing</td>\n",
       "      <td>12893</td>\n",
       "      <td>862</td>\n",
       "    </tr>\n",
       "  </tbody>\n",
       "</table>\n",
       "</div>"
      ],
      "text/plain": [
       "  department    _id  movie_id\n",
       "0  Directing   7879       862\n",
       "1    Writing  12891       862\n",
       "2    Writing      7       862\n",
       "3    Writing  12892       862\n",
       "4    Writing  12893       862"
      ]
     },
     "execution_count": 174,
     "metadata": {},
     "output_type": "execute_result"
    }
   ],
   "source": [
    "#rinomino l' id delle persone da person_id a _id\n",
    "df_crew =  df_crew.rename(columns = {'person_id' : '_id'})\n",
    "df_crew.head()\n"
   ]
  },
  {
   "cell_type": "code",
   "execution_count": 175,
   "metadata": {},
   "outputs": [
    {
     "data": {
      "text/html": [
       "<div>\n",
       "<style scoped>\n",
       "    .dataframe tbody tr th:only-of-type {\n",
       "        vertical-align: middle;\n",
       "    }\n",
       "\n",
       "    .dataframe tbody tr th {\n",
       "        vertical-align: top;\n",
       "    }\n",
       "\n",
       "    .dataframe thead th {\n",
       "        text-align: right;\n",
       "    }\n",
       "</style>\n",
       "<table border=\"1\" class=\"dataframe\">\n",
       "  <thead>\n",
       "    <tr style=\"text-align: right;\">\n",
       "      <th></th>\n",
       "      <th>person_id</th>\n",
       "      <th>movie_id</th>\n",
       "      <th>department</th>\n",
       "    </tr>\n",
       "  </thead>\n",
       "  <tbody>\n",
       "    <tr>\n",
       "      <th>0</th>\n",
       "      <td>31</td>\n",
       "      <td>862</td>\n",
       "      <td>Actor</td>\n",
       "    </tr>\n",
       "    <tr>\n",
       "      <th>1</th>\n",
       "      <td>12898</td>\n",
       "      <td>862</td>\n",
       "      <td>Actor</td>\n",
       "    </tr>\n",
       "    <tr>\n",
       "      <th>2</th>\n",
       "      <td>7167</td>\n",
       "      <td>862</td>\n",
       "      <td>Actor</td>\n",
       "    </tr>\n",
       "    <tr>\n",
       "      <th>3</th>\n",
       "      <td>12899</td>\n",
       "      <td>862</td>\n",
       "      <td>Actor</td>\n",
       "    </tr>\n",
       "    <tr>\n",
       "      <th>4</th>\n",
       "      <td>12900</td>\n",
       "      <td>862</td>\n",
       "      <td>Actor</td>\n",
       "    </tr>\n",
       "  </tbody>\n",
       "</table>\n",
       "</div>"
      ],
      "text/plain": [
       "   person_id  movie_id department\n",
       "0         31       862      Actor\n",
       "1      12898       862      Actor\n",
       "2       7167       862      Actor\n",
       "3      12899       862      Actor\n",
       "4      12900       862      Actor"
      ]
     },
     "execution_count": 175,
     "metadata": {},
     "output_type": "execute_result"
    }
   ],
   "source": [
    "#Lista cast\n",
    "#prendo dalla collection cast l' id della persona del film e come ruolo svolto metto attore, mi servirà quando andrò a fare la concat\n",
    "df_cast = pd.DataFrame(db.cast.find({}, {'person_id':1, 'movie_id':1,'_id':0})).astype({'movie_id': 'int32','person_id': 'int32'})\n",
    "\n",
    "df_cast['department'] = \"Actor\"\n",
    "df_cast.head()"
   ]
  },
  {
   "cell_type": "code",
   "execution_count": 176,
   "metadata": {},
   "outputs": [],
   "source": [
    "#rinomino l' id delle persone da person_id a _id\n",
    "df_cast =  df_cast.rename(columns = {'person_id' : '_id'})"
   ]
  },
  {
   "cell_type": "code",
   "execution_count": 177,
   "metadata": {},
   "outputs": [
    {
     "data": {
      "text/html": [
       "<div>\n",
       "<style scoped>\n",
       "    .dataframe tbody tr th:only-of-type {\n",
       "        vertical-align: middle;\n",
       "    }\n",
       "\n",
       "    .dataframe tbody tr th {\n",
       "        vertical-align: top;\n",
       "    }\n",
       "\n",
       "    .dataframe thead th {\n",
       "        text-align: right;\n",
       "    }\n",
       "</style>\n",
       "<table border=\"1\" class=\"dataframe\">\n",
       "  <thead>\n",
       "    <tr style=\"text-align: right;\">\n",
       "      <th></th>\n",
       "      <th>department</th>\n",
       "      <th>_id</th>\n",
       "      <th>movie_id</th>\n",
       "    </tr>\n",
       "  </thead>\n",
       "  <tbody>\n",
       "    <tr>\n",
       "      <th>0</th>\n",
       "      <td>Directing</td>\n",
       "      <td>7879</td>\n",
       "      <td>862</td>\n",
       "    </tr>\n",
       "    <tr>\n",
       "      <th>1</th>\n",
       "      <td>Writing</td>\n",
       "      <td>12891</td>\n",
       "      <td>862</td>\n",
       "    </tr>\n",
       "    <tr>\n",
       "      <th>2</th>\n",
       "      <td>Writing</td>\n",
       "      <td>7</td>\n",
       "      <td>862</td>\n",
       "    </tr>\n",
       "    <tr>\n",
       "      <th>3</th>\n",
       "      <td>Writing</td>\n",
       "      <td>12892</td>\n",
       "      <td>862</td>\n",
       "    </tr>\n",
       "    <tr>\n",
       "      <th>4</th>\n",
       "      <td>Writing</td>\n",
       "      <td>12893</td>\n",
       "      <td>862</td>\n",
       "    </tr>\n",
       "    <tr>\n",
       "      <th>...</th>\n",
       "      <td>...</td>\n",
       "      <td>...</td>\n",
       "      <td>...</td>\n",
       "    </tr>\n",
       "    <tr>\n",
       "      <th>1026783</th>\n",
       "      <td>Actor</td>\n",
       "      <td>544742</td>\n",
       "      <td>227506</td>\n",
       "    </tr>\n",
       "    <tr>\n",
       "      <th>1026784</th>\n",
       "      <td>Actor</td>\n",
       "      <td>1090923</td>\n",
       "      <td>227506</td>\n",
       "    </tr>\n",
       "    <tr>\n",
       "      <th>1026785</th>\n",
       "      <td>Actor</td>\n",
       "      <td>1136422</td>\n",
       "      <td>227506</td>\n",
       "    </tr>\n",
       "    <tr>\n",
       "      <th>1026786</th>\n",
       "      <td>Actor</td>\n",
       "      <td>1261758</td>\n",
       "      <td>227506</td>\n",
       "    </tr>\n",
       "    <tr>\n",
       "      <th>1026787</th>\n",
       "      <td>Actor</td>\n",
       "      <td>29199</td>\n",
       "      <td>227506</td>\n",
       "    </tr>\n",
       "  </tbody>\n",
       "</table>\n",
       "<p>1026788 rows × 3 columns</p>\n",
       "</div>"
      ],
      "text/plain": [
       "        department      _id  movie_id\n",
       "0        Directing     7879       862\n",
       "1          Writing    12891       862\n",
       "2          Writing        7       862\n",
       "3          Writing    12892       862\n",
       "4          Writing    12893       862\n",
       "...            ...      ...       ...\n",
       "1026783      Actor   544742    227506\n",
       "1026784      Actor  1090923    227506\n",
       "1026785      Actor  1136422    227506\n",
       "1026786      Actor  1261758    227506\n",
       "1026787      Actor    29199    227506\n",
       "\n",
       "[1026788 rows x 3 columns]"
      ]
     },
     "execution_count": 177,
     "metadata": {},
     "output_type": "execute_result"
    }
   ],
   "source": [
    "#concateno i due dataframe così ho tutti i ruoli che una persona ha svolto\n",
    "df_crew = pd.concat([df_crew,df_cast],ignore_index=True)\n",
    "df_crew"
   ]
  },
  {
   "cell_type": "code",
   "execution_count": 178,
   "metadata": {},
   "outputs": [
    {
     "data": {
      "text/html": [
       "<div>\n",
       "<style scoped>\n",
       "    .dataframe tbody tr th:only-of-type {\n",
       "        vertical-align: middle;\n",
       "    }\n",
       "\n",
       "    .dataframe tbody tr th {\n",
       "        vertical-align: top;\n",
       "    }\n",
       "\n",
       "    .dataframe thead th {\n",
       "        text-align: right;\n",
       "    }\n",
       "</style>\n",
       "<table border=\"1\" class=\"dataframe\">\n",
       "  <thead>\n",
       "    <tr style=\"text-align: right;\">\n",
       "      <th></th>\n",
       "      <th>_id</th>\n",
       "      <th>name</th>\n",
       "      <th>gender</th>\n",
       "      <th>department</th>\n",
       "      <th>movie_id</th>\n",
       "    </tr>\n",
       "  </thead>\n",
       "  <tbody>\n",
       "    <tr>\n",
       "      <th>0</th>\n",
       "      <td>15111</td>\n",
       "      <td>Jean-Claude Van Damme</td>\n",
       "      <td>2</td>\n",
       "      <td>Writing</td>\n",
       "      <td>9103</td>\n",
       "    </tr>\n",
       "    <tr>\n",
       "      <th>1</th>\n",
       "      <td>15111</td>\n",
       "      <td>Jean-Claude Van Damme</td>\n",
       "      <td>2</td>\n",
       "      <td>Directing</td>\n",
       "      <td>9103</td>\n",
       "    </tr>\n",
       "    <tr>\n",
       "      <th>2</th>\n",
       "      <td>15111</td>\n",
       "      <td>Jean-Claude Van Damme</td>\n",
       "      <td>2</td>\n",
       "      <td>Production</td>\n",
       "      <td>10366</td>\n",
       "    </tr>\n",
       "    <tr>\n",
       "      <th>3</th>\n",
       "      <td>15111</td>\n",
       "      <td>Jean-Claude Van Damme</td>\n",
       "      <td>2</td>\n",
       "      <td>Writing</td>\n",
       "      <td>9594</td>\n",
       "    </tr>\n",
       "    <tr>\n",
       "      <th>4</th>\n",
       "      <td>15111</td>\n",
       "      <td>Jean-Claude Van Damme</td>\n",
       "      <td>2</td>\n",
       "      <td>Production</td>\n",
       "      <td>9594</td>\n",
       "    </tr>\n",
       "    <tr>\n",
       "      <th>...</th>\n",
       "      <td>...</td>\n",
       "      <td>...</td>\n",
       "      <td>...</td>\n",
       "      <td>...</td>\n",
       "      <td>...</td>\n",
       "    </tr>\n",
       "    <tr>\n",
       "      <th>8375</th>\n",
       "      <td>87550</td>\n",
       "      <td>Vishal Bhardwaj</td>\n",
       "      <td>2</td>\n",
       "      <td>Sound</td>\n",
       "      <td>64109</td>\n",
       "    </tr>\n",
       "    <tr>\n",
       "      <th>8376</th>\n",
       "      <td>87550</td>\n",
       "      <td>Vishal Bhardwaj</td>\n",
       "      <td>2</td>\n",
       "      <td>Directing</td>\n",
       "      <td>392271</td>\n",
       "    </tr>\n",
       "    <tr>\n",
       "      <th>8377</th>\n",
       "      <td>87550</td>\n",
       "      <td>Vishal Bhardwaj</td>\n",
       "      <td>2</td>\n",
       "      <td>Writing</td>\n",
       "      <td>392271</td>\n",
       "    </tr>\n",
       "    <tr>\n",
       "      <th>8378</th>\n",
       "      <td>87550</td>\n",
       "      <td>Vishal Bhardwaj</td>\n",
       "      <td>2</td>\n",
       "      <td>Sound</td>\n",
       "      <td>392271</td>\n",
       "    </tr>\n",
       "    <tr>\n",
       "      <th>8379</th>\n",
       "      <td>87550</td>\n",
       "      <td>Vishal Bhardwaj</td>\n",
       "      <td>2</td>\n",
       "      <td>Production</td>\n",
       "      <td>392271</td>\n",
       "    </tr>\n",
       "  </tbody>\n",
       "</table>\n",
       "<p>8380 rows × 5 columns</p>\n",
       "</div>"
      ],
      "text/plain": [
       "        _id                   name  gender  department  movie_id\n",
       "0     15111  Jean-Claude Van Damme       2     Writing      9103\n",
       "1     15111  Jean-Claude Van Damme       2   Directing      9103\n",
       "2     15111  Jean-Claude Van Damme       2  Production     10366\n",
       "3     15111  Jean-Claude Van Damme       2     Writing      9594\n",
       "4     15111  Jean-Claude Van Damme       2  Production      9594\n",
       "...     ...                    ...     ...         ...       ...\n",
       "8375  87550        Vishal Bhardwaj       2       Sound     64109\n",
       "8376  87550        Vishal Bhardwaj       2   Directing    392271\n",
       "8377  87550        Vishal Bhardwaj       2     Writing    392271\n",
       "8378  87550        Vishal Bhardwaj       2       Sound    392271\n",
       "8379  87550        Vishal Bhardwaj       2  Production    392271\n",
       "\n",
       "[8380 rows x 5 columns]"
      ]
     },
     "execution_count": 178,
     "metadata": {},
     "output_type": "execute_result"
    }
   ],
   "source": [
    "#join tra il dataframe contenente le persone che hanno svolto più ruoli e df_crew che contiene i vari ruoli eseguiti e il movie_id\n",
    "df_firstmerge = pd.merge(df, df_crew, on='_id')\n",
    "df_firstmerge"
   ]
  },
  {
   "cell_type": "code",
   "execution_count": 179,
   "metadata": {},
   "outputs": [
    {
     "data": {
      "text/plain": [
       "8380"
      ]
     },
     "execution_count": 179,
     "metadata": {},
     "output_type": "execute_result"
    }
   ],
   "source": [
    "df_firstmerge.shape[0]"
   ]
  },
  {
   "cell_type": "code",
   "execution_count": 180,
   "metadata": {},
   "outputs": [],
   "source": [
    "#data_it=df_firstmerge[df_firstmerge['department'] == 'Actor']\n",
    "#data_it\n",
    "#chi ha da 8 in su ruoli non ha mai fatto l' attore"
   ]
  },
  {
   "cell_type": "code",
   "execution_count": 181,
   "metadata": {},
   "outputs": [
    {
     "data": {
      "text/html": [
       "<div>\n",
       "<style scoped>\n",
       "    .dataframe tbody tr th:only-of-type {\n",
       "        vertical-align: middle;\n",
       "    }\n",
       "\n",
       "    .dataframe tbody tr th {\n",
       "        vertical-align: top;\n",
       "    }\n",
       "\n",
       "    .dataframe thead th {\n",
       "        text-align: right;\n",
       "    }\n",
       "</style>\n",
       "<table border=\"1\" class=\"dataframe\">\n",
       "  <thead>\n",
       "    <tr style=\"text-align: right;\">\n",
       "      <th></th>\n",
       "      <th>_id</th>\n",
       "      <th>name</th>\n",
       "      <th>gender</th>\n",
       "      <th>department</th>\n",
       "      <th>movie_id</th>\n",
       "    </tr>\n",
       "  </thead>\n",
       "  <tbody>\n",
       "    <tr>\n",
       "      <th>0</th>\n",
       "      <td>12899</td>\n",
       "      <td>Jim Varney</td>\n",
       "      <td>2</td>\n",
       "      <td>Crew</td>\n",
       "      <td>10865</td>\n",
       "    </tr>\n",
       "    <tr>\n",
       "      <th>1</th>\n",
       "      <td>12899</td>\n",
       "      <td>Jim Varney</td>\n",
       "      <td>2</td>\n",
       "      <td>Actor</td>\n",
       "      <td>862</td>\n",
       "    </tr>\n",
       "    <tr>\n",
       "      <th>2</th>\n",
       "      <td>12899</td>\n",
       "      <td>Jim Varney</td>\n",
       "      <td>2</td>\n",
       "      <td>Actor</td>\n",
       "      <td>11041</td>\n",
       "    </tr>\n",
       "    <tr>\n",
       "      <th>3</th>\n",
       "      <td>12899</td>\n",
       "      <td>Jim Varney</td>\n",
       "      <td>2</td>\n",
       "      <td>Actor</td>\n",
       "      <td>32302</td>\n",
       "    </tr>\n",
       "    <tr>\n",
       "      <th>4</th>\n",
       "      <td>12899</td>\n",
       "      <td>Jim Varney</td>\n",
       "      <td>2</td>\n",
       "      <td>Actor</td>\n",
       "      <td>863</td>\n",
       "    </tr>\n",
       "    <tr>\n",
       "      <th>...</th>\n",
       "      <td>...</td>\n",
       "      <td>...</td>\n",
       "      <td>...</td>\n",
       "      <td>...</td>\n",
       "      <td>...</td>\n",
       "    </tr>\n",
       "    <tr>\n",
       "      <th>158251</th>\n",
       "      <td>1599742</td>\n",
       "      <td>Hillary Wallace</td>\n",
       "      <td>0</td>\n",
       "      <td>Costume &amp; Make-Up</td>\n",
       "      <td>390959</td>\n",
       "    </tr>\n",
       "    <tr>\n",
       "      <th>158252</th>\n",
       "      <td>1471628</td>\n",
       "      <td>Sam Resnick</td>\n",
       "      <td>0</td>\n",
       "      <td>Writing</td>\n",
       "      <td>30840</td>\n",
       "    </tr>\n",
       "    <tr>\n",
       "      <th>158253</th>\n",
       "      <td>1471628</td>\n",
       "      <td>Sam Resnick</td>\n",
       "      <td>0</td>\n",
       "      <td>Writing</td>\n",
       "      <td>30840</td>\n",
       "    </tr>\n",
       "    <tr>\n",
       "      <th>158254</th>\n",
       "      <td>1182809</td>\n",
       "      <td>Hamid Nematollah</td>\n",
       "      <td>0</td>\n",
       "      <td>Directing</td>\n",
       "      <td>439050</td>\n",
       "    </tr>\n",
       "    <tr>\n",
       "      <th>158255</th>\n",
       "      <td>1182809</td>\n",
       "      <td>Hamid Nematollah</td>\n",
       "      <td>0</td>\n",
       "      <td>Production</td>\n",
       "      <td>439050</td>\n",
       "    </tr>\n",
       "  </tbody>\n",
       "</table>\n",
       "<p>158256 rows × 5 columns</p>\n",
       "</div>"
      ],
      "text/plain": [
       "            _id              name  gender         department  movie_id\n",
       "0         12899        Jim Varney       2               Crew     10865\n",
       "1         12899        Jim Varney       2              Actor       862\n",
       "2         12899        Jim Varney       2              Actor     11041\n",
       "3         12899        Jim Varney       2              Actor     32302\n",
       "4         12899        Jim Varney       2              Actor       863\n",
       "...         ...               ...     ...                ...       ...\n",
       "158251  1599742   Hillary Wallace       0  Costume & Make-Up    390959\n",
       "158252  1471628       Sam Resnick       0            Writing     30840\n",
       "158253  1471628       Sam Resnick       0            Writing     30840\n",
       "158254  1182809  Hamid Nematollah       0          Directing    439050\n",
       "158255  1182809  Hamid Nematollah       0         Production    439050\n",
       "\n",
       "[158256 rows x 5 columns]"
      ]
     },
     "execution_count": 181,
     "metadata": {},
     "output_type": "execute_result"
    }
   ],
   "source": [
    "#persone che hanno fatto solo 2 ruoli\n",
    "df_lessmerge = pd.merge(dfless, df_crew, on='_id')\n",
    "df_lessmerge"
   ]
  },
  {
   "cell_type": "code",
   "execution_count": 182,
   "metadata": {},
   "outputs": [],
   "source": [
    "#capire quale raw mi dava problemi perché non rieco a fare join con la collezione metadata\n",
    "#for i in range(df2.shape[0]):\n",
    "  #  try:\n",
    "     #   df2.movie_id[i] = int(df2.movie_id[i])\n",
    "    \n",
    "   # except ValueError:\n",
    "     #  print(\"String is not Numaric: \", i )"
   ]
  },
  {
   "cell_type": "code",
   "execution_count": 183,
   "metadata": {},
   "outputs": [],
   "source": [
    "#converto i vari id del dataframe da oggetti a int\n",
    "df_film.movie_id = df_film.movie_id.astype(str).astype(int)"
   ]
  },
  {
   "cell_type": "code",
   "execution_count": 184,
   "metadata": {},
   "outputs": [
    {
     "data": {
      "text/plain": [
       "movie_id          int32\n",
       "vote_average    float64\n",
       "vote_count      float64\n",
       "dtype: object"
      ]
     },
     "execution_count": 184,
     "metadata": {},
     "output_type": "execute_result"
    }
   ],
   "source": [
    "df_film.dtypes"
   ]
  },
  {
   "cell_type": "code",
   "execution_count": 185,
   "metadata": {},
   "outputs": [],
   "source": [
    "#faccio il join tra il dataframe contenente le varie persone che hanno svolto da 8 ruoli in su, con i film da loro svolti\n",
    "df_secondmerge = pd.merge(df_firstmerge, df_film, on='movie_id')\n"
   ]
  },
  {
   "cell_type": "code",
   "execution_count": 186,
   "metadata": {},
   "outputs": [
    {
     "data": {
      "text/html": [
       "<div>\n",
       "<style scoped>\n",
       "    .dataframe tbody tr th:only-of-type {\n",
       "        vertical-align: middle;\n",
       "    }\n",
       "\n",
       "    .dataframe tbody tr th {\n",
       "        vertical-align: top;\n",
       "    }\n",
       "\n",
       "    .dataframe thead th {\n",
       "        text-align: right;\n",
       "    }\n",
       "</style>\n",
       "<table border=\"1\" class=\"dataframe\">\n",
       "  <thead>\n",
       "    <tr style=\"text-align: right;\">\n",
       "      <th></th>\n",
       "      <th>_id</th>\n",
       "      <th>name</th>\n",
       "      <th>gender</th>\n",
       "      <th>department</th>\n",
       "      <th>movie_id</th>\n",
       "      <th>vote_average</th>\n",
       "      <th>vote_count</th>\n",
       "    </tr>\n",
       "  </thead>\n",
       "  <tbody>\n",
       "    <tr>\n",
       "      <th>0</th>\n",
       "      <td>15111</td>\n",
       "      <td>Jean-Claude Van Damme</td>\n",
       "      <td>2</td>\n",
       "      <td>Writing</td>\n",
       "      <td>9103</td>\n",
       "      <td>5.3</td>\n",
       "      <td>126.0</td>\n",
       "    </tr>\n",
       "    <tr>\n",
       "      <th>1</th>\n",
       "      <td>15111</td>\n",
       "      <td>Jean-Claude Van Damme</td>\n",
       "      <td>2</td>\n",
       "      <td>Directing</td>\n",
       "      <td>9103</td>\n",
       "      <td>5.3</td>\n",
       "      <td>126.0</td>\n",
       "    </tr>\n",
       "    <tr>\n",
       "      <th>2</th>\n",
       "      <td>15111</td>\n",
       "      <td>Jean-Claude Van Damme</td>\n",
       "      <td>2</td>\n",
       "      <td>Actor</td>\n",
       "      <td>9103</td>\n",
       "      <td>5.3</td>\n",
       "      <td>126.0</td>\n",
       "    </tr>\n",
       "    <tr>\n",
       "      <th>3</th>\n",
       "      <td>15111</td>\n",
       "      <td>Jean-Claude Van Damme</td>\n",
       "      <td>2</td>\n",
       "      <td>Production</td>\n",
       "      <td>10366</td>\n",
       "      <td>4.2</td>\n",
       "      <td>138.0</td>\n",
       "    </tr>\n",
       "    <tr>\n",
       "      <th>4</th>\n",
       "      <td>15111</td>\n",
       "      <td>Jean-Claude Van Damme</td>\n",
       "      <td>2</td>\n",
       "      <td>Actor</td>\n",
       "      <td>10366</td>\n",
       "      <td>4.2</td>\n",
       "      <td>138.0</td>\n",
       "    </tr>\n",
       "    <tr>\n",
       "      <th>...</th>\n",
       "      <td>...</td>\n",
       "      <td>...</td>\n",
       "      <td>...</td>\n",
       "      <td>...</td>\n",
       "      <td>...</td>\n",
       "      <td>...</td>\n",
       "      <td>...</td>\n",
       "    </tr>\n",
       "    <tr>\n",
       "      <th>8375</th>\n",
       "      <td>87550</td>\n",
       "      <td>Vishal Bhardwaj</td>\n",
       "      <td>2</td>\n",
       "      <td>Writing</td>\n",
       "      <td>139521</td>\n",
       "      <td>5.6</td>\n",
       "      <td>21.0</td>\n",
       "    </tr>\n",
       "    <tr>\n",
       "      <th>8376</th>\n",
       "      <td>87550</td>\n",
       "      <td>Vishal Bhardwaj</td>\n",
       "      <td>2</td>\n",
       "      <td>Directing</td>\n",
       "      <td>392271</td>\n",
       "      <td>7.0</td>\n",
       "      <td>10.0</td>\n",
       "    </tr>\n",
       "    <tr>\n",
       "      <th>8377</th>\n",
       "      <td>87550</td>\n",
       "      <td>Vishal Bhardwaj</td>\n",
       "      <td>2</td>\n",
       "      <td>Writing</td>\n",
       "      <td>392271</td>\n",
       "      <td>7.0</td>\n",
       "      <td>10.0</td>\n",
       "    </tr>\n",
       "    <tr>\n",
       "      <th>8378</th>\n",
       "      <td>87550</td>\n",
       "      <td>Vishal Bhardwaj</td>\n",
       "      <td>2</td>\n",
       "      <td>Sound</td>\n",
       "      <td>392271</td>\n",
       "      <td>7.0</td>\n",
       "      <td>10.0</td>\n",
       "    </tr>\n",
       "    <tr>\n",
       "      <th>8379</th>\n",
       "      <td>87550</td>\n",
       "      <td>Vishal Bhardwaj</td>\n",
       "      <td>2</td>\n",
       "      <td>Production</td>\n",
       "      <td>392271</td>\n",
       "      <td>7.0</td>\n",
       "      <td>10.0</td>\n",
       "    </tr>\n",
       "  </tbody>\n",
       "</table>\n",
       "<p>8380 rows × 7 columns</p>\n",
       "</div>"
      ],
      "text/plain": [
       "        _id                   name  gender  department  movie_id  \\\n",
       "0     15111  Jean-Claude Van Damme       2     Writing      9103   \n",
       "1     15111  Jean-Claude Van Damme       2   Directing      9103   \n",
       "2     15111  Jean-Claude Van Damme       2       Actor      9103   \n",
       "3     15111  Jean-Claude Van Damme       2  Production     10366   \n",
       "4     15111  Jean-Claude Van Damme       2       Actor     10366   \n",
       "...     ...                    ...     ...         ...       ...   \n",
       "8375  87550        Vishal Bhardwaj       2     Writing    139521   \n",
       "8376  87550        Vishal Bhardwaj       2   Directing    392271   \n",
       "8377  87550        Vishal Bhardwaj       2     Writing    392271   \n",
       "8378  87550        Vishal Bhardwaj       2       Sound    392271   \n",
       "8379  87550        Vishal Bhardwaj       2  Production    392271   \n",
       "\n",
       "      vote_average  vote_count  \n",
       "0              5.3       126.0  \n",
       "1              5.3       126.0  \n",
       "2              5.3       126.0  \n",
       "3              4.2       138.0  \n",
       "4              4.2       138.0  \n",
       "...            ...         ...  \n",
       "8375           5.6        21.0  \n",
       "8376           7.0        10.0  \n",
       "8377           7.0        10.0  \n",
       "8378           7.0        10.0  \n",
       "8379           7.0        10.0  \n",
       "\n",
       "[8380 rows x 7 columns]"
      ]
     },
     "execution_count": 186,
     "metadata": {},
     "output_type": "execute_result"
    }
   ],
   "source": [
    "df_secondmerge"
   ]
  },
  {
   "cell_type": "code",
   "execution_count": 187,
   "metadata": {},
   "outputs": [
    {
     "data": {
      "text/html": [
       "<div>\n",
       "<style scoped>\n",
       "    .dataframe tbody tr th:only-of-type {\n",
       "        vertical-align: middle;\n",
       "    }\n",
       "\n",
       "    .dataframe tbody tr th {\n",
       "        vertical-align: top;\n",
       "    }\n",
       "\n",
       "    .dataframe thead th {\n",
       "        text-align: right;\n",
       "    }\n",
       "</style>\n",
       "<table border=\"1\" class=\"dataframe\">\n",
       "  <thead>\n",
       "    <tr style=\"text-align: right;\">\n",
       "      <th></th>\n",
       "      <th>_id</th>\n",
       "      <th>count</th>\n",
       "    </tr>\n",
       "  </thead>\n",
       "  <tbody>\n",
       "    <tr>\n",
       "      <th>0</th>\n",
       "      <td>1</td>\n",
       "      <td>50</td>\n",
       "    </tr>\n",
       "    <tr>\n",
       "      <th>1</th>\n",
       "      <td>7</td>\n",
       "      <td>22</td>\n",
       "    </tr>\n",
       "    <tr>\n",
       "      <th>2</th>\n",
       "      <td>8</td>\n",
       "      <td>8</td>\n",
       "    </tr>\n",
       "    <tr>\n",
       "      <th>3</th>\n",
       "      <td>40</td>\n",
       "      <td>69</td>\n",
       "    </tr>\n",
       "    <tr>\n",
       "      <th>4</th>\n",
       "      <td>42</td>\n",
       "      <td>28</td>\n",
       "    </tr>\n",
       "    <tr>\n",
       "      <th>...</th>\n",
       "      <td>...</td>\n",
       "      <td>...</td>\n",
       "    </tr>\n",
       "    <tr>\n",
       "      <th>163</th>\n",
       "      <td>211962</td>\n",
       "      <td>12</td>\n",
       "    </tr>\n",
       "    <tr>\n",
       "      <th>164</th>\n",
       "      <td>220691</td>\n",
       "      <td>6</td>\n",
       "    </tr>\n",
       "    <tr>\n",
       "      <th>165</th>\n",
       "      <td>1012097</td>\n",
       "      <td>5</td>\n",
       "    </tr>\n",
       "    <tr>\n",
       "      <th>166</th>\n",
       "      <td>1395269</td>\n",
       "      <td>26</td>\n",
       "    </tr>\n",
       "    <tr>\n",
       "      <th>168</th>\n",
       "      <td>1447503</td>\n",
       "      <td>22</td>\n",
       "    </tr>\n",
       "  </tbody>\n",
       "</table>\n",
       "<p>163 rows × 2 columns</p>\n",
       "</div>"
      ],
      "text/plain": [
       "         _id  count\n",
       "0          1     50\n",
       "1          7     22\n",
       "2          8      8\n",
       "3         40     69\n",
       "4         42     28\n",
       "..       ...    ...\n",
       "163   211962     12\n",
       "164   220691      6\n",
       "165  1012097      5\n",
       "166  1395269     26\n",
       "168  1447503     22\n",
       "\n",
       "[163 rows x 2 columns]"
      ]
     },
     "execution_count": 187,
     "metadata": {},
     "output_type": "execute_result"
    }
   ],
   "source": [
    "#prendo solo chi ha effettuato almeno 5 film\n",
    "prova = df_secondmerge.groupby(['_id', 'movie_id']).count()\n",
    "prova.reset_index(inplace=True)\n",
    "prova = prova.groupby('_id').count()\n",
    "prova =  prova.rename(columns = {'name' : 'count'})\n",
    "prova.reset_index(inplace=True)\n",
    "prova = prova.drop(['movie_id','vote_average','gender','vote_count','department'], axis=1)\n",
    "prova =  prova.loc[prova['count'] >= 5]\n",
    "prova"
   ]
  },
  {
   "cell_type": "code",
   "execution_count": 188,
   "metadata": {},
   "outputs": [],
   "source": [
    "df_secondmerge = pd.merge(df_secondmerge, prova, on='_id')\n",
    "d_secstat = df_secondmerge"
   ]
  },
  {
   "cell_type": "code",
   "execution_count": 189,
   "metadata": {},
   "outputs": [],
   "source": [
    "df_secondmerge = df_secondmerge.drop_duplicates(subset=['_id', 'movie_id', 'vote_average'])\n"
   ]
  },
  {
   "cell_type": "code",
   "execution_count": 190,
   "metadata": {},
   "outputs": [],
   "source": [
    "#prendo la dimensione delle righe di questo dataframe\n",
    "dfshape1  = df_secondmerge.shape[0]"
   ]
  },
  {
   "cell_type": "code",
   "execution_count": 191,
   "metadata": {},
   "outputs": [],
   "source": [
    "#applico lo stesso procedimento per le persone che hanno svolto solo due ruoli\n",
    "df_less_secondmerge = pd.merge(df_lessmerge, df_film, on='movie_id')\n",
    "d_lesstat = df_less_secondmerge"
   ]
  },
  {
   "cell_type": "code",
   "execution_count": null,
   "metadata": {},
   "outputs": [],
   "source": []
  },
  {
   "cell_type": "code",
   "execution_count": 192,
   "metadata": {},
   "outputs": [
    {
     "data": {
      "text/html": [
       "<div>\n",
       "<style scoped>\n",
       "    .dataframe tbody tr th:only-of-type {\n",
       "        vertical-align: middle;\n",
       "    }\n",
       "\n",
       "    .dataframe tbody tr th {\n",
       "        vertical-align: top;\n",
       "    }\n",
       "\n",
       "    .dataframe thead th {\n",
       "        text-align: right;\n",
       "    }\n",
       "</style>\n",
       "<table border=\"1\" class=\"dataframe\">\n",
       "  <thead>\n",
       "    <tr style=\"text-align: right;\">\n",
       "      <th></th>\n",
       "      <th>_id</th>\n",
       "      <th>count</th>\n",
       "    </tr>\n",
       "  </thead>\n",
       "  <tbody>\n",
       "    <tr>\n",
       "      <th>0</th>\n",
       "      <td>2</td>\n",
       "      <td>47</td>\n",
       "    </tr>\n",
       "    <tr>\n",
       "      <th>1</th>\n",
       "      <td>3</td>\n",
       "      <td>57</td>\n",
       "    </tr>\n",
       "    <tr>\n",
       "      <th>3</th>\n",
       "      <td>14</td>\n",
       "      <td>11</td>\n",
       "    </tr>\n",
       "    <tr>\n",
       "      <th>4</th>\n",
       "      <td>22</td>\n",
       "      <td>18</td>\n",
       "    </tr>\n",
       "    <tr>\n",
       "      <th>5</th>\n",
       "      <td>32</td>\n",
       "      <td>37</td>\n",
       "    </tr>\n",
       "    <tr>\n",
       "      <th>...</th>\n",
       "      <td>...</td>\n",
       "      <td>...</td>\n",
       "    </tr>\n",
       "    <tr>\n",
       "      <th>33991</th>\n",
       "      <td>1813644</td>\n",
       "      <td>33</td>\n",
       "    </tr>\n",
       "    <tr>\n",
       "      <th>34109</th>\n",
       "      <td>1835498</td>\n",
       "      <td>7</td>\n",
       "    </tr>\n",
       "    <tr>\n",
       "      <th>34292</th>\n",
       "      <td>1902347</td>\n",
       "      <td>5</td>\n",
       "    </tr>\n",
       "    <tr>\n",
       "      <th>34299</th>\n",
       "      <td>1904075</td>\n",
       "      <td>5</td>\n",
       "    </tr>\n",
       "    <tr>\n",
       "      <th>34307</th>\n",
       "      <td>1907337</td>\n",
       "      <td>7</td>\n",
       "    </tr>\n",
       "  </tbody>\n",
       "</table>\n",
       "<p>7780 rows × 2 columns</p>\n",
       "</div>"
      ],
      "text/plain": [
       "           _id  count\n",
       "0            2     47\n",
       "1            3     57\n",
       "3           14     11\n",
       "4           22     18\n",
       "5           32     37\n",
       "...        ...    ...\n",
       "33991  1813644     33\n",
       "34109  1835498      7\n",
       "34292  1902347      5\n",
       "34299  1904075      5\n",
       "34307  1907337      7\n",
       "\n",
       "[7780 rows x 2 columns]"
      ]
     },
     "execution_count": 192,
     "metadata": {},
     "output_type": "execute_result"
    }
   ],
   "source": [
    "#prendo solo chi ha effettuato almeno 5 film\n",
    "prova = df_less_secondmerge.groupby(['_id', 'movie_id']).count()\n",
    "prova.reset_index(inplace=True)\n",
    "prova = prova.groupby('_id').count()\n",
    "prova =  prova.rename(columns = {'name' : 'count'})\n",
    "prova.reset_index(inplace=True)\n",
    "prova = prova.drop(['movie_id','vote_average','gender','vote_count','department'], axis=1)\n",
    "prova =  prova.loc[prova['count'] >= 5]\n",
    "prova"
   ]
  },
  {
   "cell_type": "code",
   "execution_count": 193,
   "metadata": {},
   "outputs": [],
   "source": [
    "df_less_secondmerge = pd.merge(df_less_secondmerge,prova, on='_id')"
   ]
  },
  {
   "cell_type": "code",
   "execution_count": 194,
   "metadata": {},
   "outputs": [],
   "source": [
    "df_less_secondmerge = df_less_secondmerge.drop_duplicates(subset=['_id', 'movie_id', 'vote_average'])\n",
    "dfshape2 = df_less_secondmerge.shape[0]"
   ]
  },
  {
   "cell_type": "code",
   "execution_count": 195,
   "metadata": {},
   "outputs": [],
   "source": [
    "df_8 = df_secondmerge.loc[df_secondmerge['vote_average'] >= 7.5]\n",
    "df_2 = df_less_secondmerge.loc[df_less_secondmerge['vote_average'] >= 7.5]"
   ]
  },
  {
   "cell_type": "code",
   "execution_count": 196,
   "metadata": {},
   "outputs": [
    {
     "data": {
      "text/plain": [
       "14.867404468573813"
      ]
     },
     "execution_count": 196,
     "metadata": {},
     "output_type": "execute_result"
    }
   ],
   "source": [
    "#la proporzione dei film con votazione maggiore di 7.5 tra tutti i film eseguiti da persone con 8 e più ruoli, \n",
    "#chi ha fatto più ruoli è più probabile che partecipi ad un film bello\n",
    "t1 = (df_8.shape[0]/dfshape1)*100\n",
    "t1"
   ]
  },
  {
   "cell_type": "code",
   "execution_count": 197,
   "metadata": {},
   "outputs": [
    {
     "data": {
      "text/plain": [
       "8.042320803548016"
      ]
     },
     "execution_count": 197,
     "metadata": {},
     "output_type": "execute_result"
    }
   ],
   "source": [
    "#la proporzione dei film con votazione maggiore di 7.5 tra tutti i film eseguiti da persone con 2 ruoli\n",
    "t2 = (df_2.shape[0]/dfshape2)*100\n",
    "t2"
   ]
  },
  {
   "cell_type": "code",
   "execution_count": 198,
   "metadata": {},
   "outputs": [],
   "source": [
    "#analizzo la carriere per queste due tipologie di persone"
   ]
  },
  {
   "cell_type": "code",
   "execution_count": 199,
   "metadata": {},
   "outputs": [
    {
     "data": {
      "text/html": [
       "<div>\n",
       "<style scoped>\n",
       "    .dataframe tbody tr th:only-of-type {\n",
       "        vertical-align: middle;\n",
       "    }\n",
       "\n",
       "    .dataframe tbody tr th {\n",
       "        vertical-align: top;\n",
       "    }\n",
       "\n",
       "    .dataframe thead th {\n",
       "        text-align: right;\n",
       "    }\n",
       "</style>\n",
       "<table border=\"1\" class=\"dataframe\">\n",
       "  <thead>\n",
       "    <tr style=\"text-align: right;\">\n",
       "      <th></th>\n",
       "      <th>_id</th>\n",
       "      <th>vote_average</th>\n",
       "    </tr>\n",
       "  </thead>\n",
       "  <tbody>\n",
       "    <tr>\n",
       "      <th>0</th>\n",
       "      <td>2</td>\n",
       "      <td>6.170213</td>\n",
       "    </tr>\n",
       "    <tr>\n",
       "      <th>1</th>\n",
       "      <td>3</td>\n",
       "      <td>6.349123</td>\n",
       "    </tr>\n",
       "    <tr>\n",
       "      <th>2</th>\n",
       "      <td>14</td>\n",
       "      <td>5.881818</td>\n",
       "    </tr>\n",
       "    <tr>\n",
       "      <th>3</th>\n",
       "      <td>22</td>\n",
       "      <td>4.894444</td>\n",
       "    </tr>\n",
       "    <tr>\n",
       "      <th>4</th>\n",
       "      <td>32</td>\n",
       "      <td>6.175676</td>\n",
       "    </tr>\n",
       "    <tr>\n",
       "      <th>...</th>\n",
       "      <td>...</td>\n",
       "      <td>...</td>\n",
       "    </tr>\n",
       "    <tr>\n",
       "      <th>7775</th>\n",
       "      <td>1813644</td>\n",
       "      <td>5.881818</td>\n",
       "    </tr>\n",
       "    <tr>\n",
       "      <th>7776</th>\n",
       "      <td>1835498</td>\n",
       "      <td>6.657143</td>\n",
       "    </tr>\n",
       "    <tr>\n",
       "      <th>7777</th>\n",
       "      <td>1902347</td>\n",
       "      <td>6.880000</td>\n",
       "    </tr>\n",
       "    <tr>\n",
       "      <th>7778</th>\n",
       "      <td>1904075</td>\n",
       "      <td>6.240000</td>\n",
       "    </tr>\n",
       "    <tr>\n",
       "      <th>7779</th>\n",
       "      <td>1907337</td>\n",
       "      <td>6.114286</td>\n",
       "    </tr>\n",
       "  </tbody>\n",
       "</table>\n",
       "<p>7780 rows × 2 columns</p>\n",
       "</div>"
      ],
      "text/plain": [
       "          _id  vote_average\n",
       "0           2      6.170213\n",
       "1           3      6.349123\n",
       "2          14      5.881818\n",
       "3          22      4.894444\n",
       "4          32      6.175676\n",
       "...       ...           ...\n",
       "7775  1813644      5.881818\n",
       "7776  1835498      6.657143\n",
       "7777  1902347      6.880000\n",
       "7778  1904075      6.240000\n",
       "7779  1907337      6.114286\n",
       "\n",
       "[7780 rows x 2 columns]"
      ]
     },
     "execution_count": 199,
     "metadata": {},
     "output_type": "execute_result"
    }
   ],
   "source": [
    "df_role2 = df_less_secondmerge.groupby(\"_id\").agg({'vote_average':'mean'})\n",
    "df_role2.reset_index(inplace=True)\n",
    "df_role2"
   ]
  },
  {
   "cell_type": "code",
   "execution_count": 200,
   "metadata": {},
   "outputs": [
    {
     "data": {
      "text/plain": [
       "(7780, 2)"
      ]
     },
     "execution_count": 200,
     "metadata": {},
     "output_type": "execute_result"
    }
   ],
   "source": [
    "df_role2.shape"
   ]
  },
  {
   "cell_type": "code",
   "execution_count": 201,
   "metadata": {},
   "outputs": [
    {
     "data": {
      "text/html": [
       "<div>\n",
       "<style scoped>\n",
       "    .dataframe tbody tr th:only-of-type {\n",
       "        vertical-align: middle;\n",
       "    }\n",
       "\n",
       "    .dataframe tbody tr th {\n",
       "        vertical-align: top;\n",
       "    }\n",
       "\n",
       "    .dataframe thead th {\n",
       "        text-align: right;\n",
       "    }\n",
       "</style>\n",
       "<table border=\"1\" class=\"dataframe\">\n",
       "  <thead>\n",
       "    <tr style=\"text-align: right;\">\n",
       "      <th></th>\n",
       "      <th>_id</th>\n",
       "      <th>vote_average</th>\n",
       "    </tr>\n",
       "  </thead>\n",
       "  <tbody>\n",
       "    <tr>\n",
       "      <th>0</th>\n",
       "      <td>1</td>\n",
       "      <td>6.562000</td>\n",
       "    </tr>\n",
       "    <tr>\n",
       "      <th>1</th>\n",
       "      <td>7</td>\n",
       "      <td>7.459091</td>\n",
       "    </tr>\n",
       "    <tr>\n",
       "      <th>2</th>\n",
       "      <td>8</td>\n",
       "      <td>7.437500</td>\n",
       "    </tr>\n",
       "    <tr>\n",
       "      <th>3</th>\n",
       "      <td>40</td>\n",
       "      <td>6.285507</td>\n",
       "    </tr>\n",
       "    <tr>\n",
       "      <th>4</th>\n",
       "      <td>42</td>\n",
       "      <td>6.460714</td>\n",
       "    </tr>\n",
       "    <tr>\n",
       "      <th>...</th>\n",
       "      <td>...</td>\n",
       "      <td>...</td>\n",
       "    </tr>\n",
       "    <tr>\n",
       "      <th>158</th>\n",
       "      <td>211962</td>\n",
       "      <td>5.808333</td>\n",
       "    </tr>\n",
       "    <tr>\n",
       "      <th>159</th>\n",
       "      <td>220691</td>\n",
       "      <td>5.616667</td>\n",
       "    </tr>\n",
       "    <tr>\n",
       "      <th>160</th>\n",
       "      <td>1012097</td>\n",
       "      <td>2.700000</td>\n",
       "    </tr>\n",
       "    <tr>\n",
       "      <th>161</th>\n",
       "      <td>1395269</td>\n",
       "      <td>5.992308</td>\n",
       "    </tr>\n",
       "    <tr>\n",
       "      <th>162</th>\n",
       "      <td>1447503</td>\n",
       "      <td>6.595455</td>\n",
       "    </tr>\n",
       "  </tbody>\n",
       "</table>\n",
       "<p>163 rows × 2 columns</p>\n",
       "</div>"
      ],
      "text/plain": [
       "         _id  vote_average\n",
       "0          1      6.562000\n",
       "1          7      7.459091\n",
       "2          8      7.437500\n",
       "3         40      6.285507\n",
       "4         42      6.460714\n",
       "..       ...           ...\n",
       "158   211962      5.808333\n",
       "159   220691      5.616667\n",
       "160  1012097      2.700000\n",
       "161  1395269      5.992308\n",
       "162  1447503      6.595455\n",
       "\n",
       "[163 rows x 2 columns]"
      ]
     },
     "execution_count": 201,
     "metadata": {},
     "output_type": "execute_result"
    }
   ],
   "source": [
    "df_role8 = df_secondmerge.groupby(\"_id\").agg({'vote_average':'mean'})\n",
    "df_role8.reset_index(inplace=True)\n",
    "df_role8"
   ]
  },
  {
   "cell_type": "code",
   "execution_count": 202,
   "metadata": {},
   "outputs": [
    {
     "data": {
      "text/plain": [
       "(163, 2)"
      ]
     },
     "execution_count": 202,
     "metadata": {},
     "output_type": "execute_result"
    }
   ],
   "source": [
    "df_role8.shape"
   ]
  },
  {
   "cell_type": "code",
   "execution_count": 203,
   "metadata": {},
   "outputs": [],
   "source": [
    "target2 = df_role2.shape[0]\n",
    "target1 = df_role8.shape[0]"
   ]
  },
  {
   "cell_type": "code",
   "execution_count": 217,
   "metadata": {},
   "outputs": [],
   "source": [
    "#ORA ANALIZZO LE CARRIERE DELLE DUE TIPOLOGIE DI PERSONE DA UN LATO QUELLI CON 2 RUOLI DALL' ALTRO QUELLI CON MINIMO 8\n",
    "df_role8 = df_role8.loc[df_role8['vote_average'] >= 7.6]\n",
    "df_role2 = df_role2.loc[df_role2['vote_average'] >= 7.6]"
   ]
  },
  {
   "cell_type": "code",
   "execution_count": 218,
   "metadata": {},
   "outputs": [
    {
     "data": {
      "text/plain": [
       "0.0"
      ]
     },
     "execution_count": 218,
     "metadata": {},
     "output_type": "execute_result"
    }
   ],
   "source": [
    "#la percentuale di avere una media dei voti dell' intera carriera superiore al 7.5 in persone che hanno avuto più di 8 ruoli\n",
    "proporzione1 = (df_role8.shape[0]/target1)*100\n",
    "proporzione1"
   ]
  },
  {
   "cell_type": "code",
   "execution_count": 219,
   "metadata": {},
   "outputs": [
    {
     "data": {
      "text/plain": [
       "0.33419023136246784"
      ]
     },
     "execution_count": 219,
     "metadata": {},
     "output_type": "execute_result"
    }
   ],
   "source": [
    "#la percentuale di avere una media dei voti dell' intera carriera superiore al 7.5 in persone che hanno avuto 2 ruoli\n",
    "proporzione2 = (df_role2.shape[0]/target2)*100\n",
    "proporzione2"
   ]
  },
  {
   "cell_type": "code",
   "execution_count": 220,
   "metadata": {},
   "outputs": [
    {
     "data": {
      "text/html": [
       "<div>\n",
       "<style scoped>\n",
       "    .dataframe tbody tr th:only-of-type {\n",
       "        vertical-align: middle;\n",
       "    }\n",
       "\n",
       "    .dataframe tbody tr th {\n",
       "        vertical-align: top;\n",
       "    }\n",
       "\n",
       "    .dataframe thead th {\n",
       "        text-align: right;\n",
       "    }\n",
       "</style>\n",
       "<table border=\"1\" class=\"dataframe\">\n",
       "  <thead>\n",
       "    <tr style=\"text-align: right;\">\n",
       "      <th></th>\n",
       "      <th>_id</th>\n",
       "      <th>vote_average</th>\n",
       "    </tr>\n",
       "  </thead>\n",
       "  <tbody>\n",
       "    <tr>\n",
       "      <th>count</th>\n",
       "      <td>2.600000e+01</td>\n",
       "      <td>26.000000</td>\n",
       "    </tr>\n",
       "    <tr>\n",
       "      <th>mean</th>\n",
       "      <td>4.674093e+05</td>\n",
       "      <td>7.763494</td>\n",
       "    </tr>\n",
       "    <tr>\n",
       "      <th>std</th>\n",
       "      <td>6.077716e+05</td>\n",
       "      <td>0.186298</td>\n",
       "    </tr>\n",
       "    <tr>\n",
       "      <th>min</th>\n",
       "      <td>7.100000e+01</td>\n",
       "      <td>7.600000</td>\n",
       "    </tr>\n",
       "    <tr>\n",
       "      <th>25%</th>\n",
       "      <td>8.105500e+03</td>\n",
       "      <td>7.622143</td>\n",
       "    </tr>\n",
       "    <tr>\n",
       "      <th>50%</th>\n",
       "      <td>8.038450e+04</td>\n",
       "      <td>7.697500</td>\n",
       "    </tr>\n",
       "    <tr>\n",
       "      <th>75%</th>\n",
       "      <td>9.899748e+05</td>\n",
       "      <td>7.821429</td>\n",
       "    </tr>\n",
       "    <tr>\n",
       "      <th>max</th>\n",
       "      <td>1.551974e+06</td>\n",
       "      <td>8.285714</td>\n",
       "    </tr>\n",
       "  </tbody>\n",
       "</table>\n",
       "</div>"
      ],
      "text/plain": [
       "                _id  vote_average\n",
       "count  2.600000e+01     26.000000\n",
       "mean   4.674093e+05      7.763494\n",
       "std    6.077716e+05      0.186298\n",
       "min    7.100000e+01      7.600000\n",
       "25%    8.105500e+03      7.622143\n",
       "50%    8.038450e+04      7.697500\n",
       "75%    9.899748e+05      7.821429\n",
       "max    1.551974e+06      8.285714"
      ]
     },
     "execution_count": 220,
     "metadata": {},
     "output_type": "execute_result"
    }
   ],
   "source": [
    "df_role2.describe()"
   ]
  },
  {
   "cell_type": "code",
   "execution_count": 221,
   "metadata": {},
   "outputs": [
    {
     "data": {
      "text/html": [
       "<div>\n",
       "<style scoped>\n",
       "    .dataframe tbody tr th:only-of-type {\n",
       "        vertical-align: middle;\n",
       "    }\n",
       "\n",
       "    .dataframe tbody tr th {\n",
       "        vertical-align: top;\n",
       "    }\n",
       "\n",
       "    .dataframe thead th {\n",
       "        text-align: right;\n",
       "    }\n",
       "</style>\n",
       "<table border=\"1\" class=\"dataframe\">\n",
       "  <thead>\n",
       "    <tr style=\"text-align: right;\">\n",
       "      <th></th>\n",
       "      <th>_id</th>\n",
       "      <th>vote_average</th>\n",
       "    </tr>\n",
       "  </thead>\n",
       "  <tbody>\n",
       "    <tr>\n",
       "      <th>count</th>\n",
       "      <td>0.0</td>\n",
       "      <td>0.0</td>\n",
       "    </tr>\n",
       "    <tr>\n",
       "      <th>mean</th>\n",
       "      <td>NaN</td>\n",
       "      <td>NaN</td>\n",
       "    </tr>\n",
       "    <tr>\n",
       "      <th>std</th>\n",
       "      <td>NaN</td>\n",
       "      <td>NaN</td>\n",
       "    </tr>\n",
       "    <tr>\n",
       "      <th>min</th>\n",
       "      <td>NaN</td>\n",
       "      <td>NaN</td>\n",
       "    </tr>\n",
       "    <tr>\n",
       "      <th>25%</th>\n",
       "      <td>NaN</td>\n",
       "      <td>NaN</td>\n",
       "    </tr>\n",
       "    <tr>\n",
       "      <th>50%</th>\n",
       "      <td>NaN</td>\n",
       "      <td>NaN</td>\n",
       "    </tr>\n",
       "    <tr>\n",
       "      <th>75%</th>\n",
       "      <td>NaN</td>\n",
       "      <td>NaN</td>\n",
       "    </tr>\n",
       "    <tr>\n",
       "      <th>max</th>\n",
       "      <td>NaN</td>\n",
       "      <td>NaN</td>\n",
       "    </tr>\n",
       "  </tbody>\n",
       "</table>\n",
       "</div>"
      ],
      "text/plain": [
       "       _id  vote_average\n",
       "count  0.0           0.0\n",
       "mean   NaN           NaN\n",
       "std    NaN           NaN\n",
       "min    NaN           NaN\n",
       "25%    NaN           NaN\n",
       "50%    NaN           NaN\n",
       "75%    NaN           NaN\n",
       "max    NaN           NaN"
      ]
     },
     "execution_count": 221,
     "metadata": {},
     "output_type": "execute_result"
    }
   ],
   "source": [
    "df_role8.describe()"
   ]
  },
  {
   "cell_type": "code",
   "execution_count": 222,
   "metadata": {},
   "outputs": [
    {
     "data": {
      "text/plain": [
       "0"
      ]
     },
     "execution_count": 222,
     "metadata": {},
     "output_type": "execute_result"
    }
   ],
   "source": [
    "df_role8.shape[0]"
   ]
  },
  {
   "cell_type": "markdown",
   "metadata": {},
   "source": [
    "# Grafici"
   ]
  },
  {
   "cell_type": "code",
   "execution_count": 223,
   "metadata": {},
   "outputs": [
    {
     "data": {
      "text/plain": [
       "<matplotlib.legend.Legend at 0x1e4be913048>"
      ]
     },
     "execution_count": 223,
     "metadata": {},
     "output_type": "execute_result"
    },
    {
     "data": {
      "image/png": "[encoded data removed]",
      "text/plain": [
       "<Figure size 1440x504 with 1 Axes>"
      ]
     },
     "metadata": {
      "needs_background": "light"
     },
     "output_type": "display_data"
    }
   ],
   "source": [
    "#analizzo la distribuzione di voti nei due casi analizzati\n",
    "#devo cambiare grafico qua\n",
    "fig = plt.figure(figsize=(20,7))\n",
    "sns.distplot(df_less_secondmerge['vote_average'], color='#388E3C')\n",
    "sns.distplot(df_secondmerge['vote_average'])\n",
    "plt.title('Distribuzione media', fontsize=18)\n",
    "fig.legend(labels=['2 ruoli','+ 8 ruoli'])"
   ]
  },
  {
   "cell_type": "code",
   "execution_count": 224,
   "metadata": {},
   "outputs": [],
   "source": [
    "#QUELLI CHE HANNO FATTO PIù RUOLI IN GENERE TENDONO AD AVER PARTECIPATO A FILM CON VOTI PIù ALTI"
   ]
  },
  {
   "cell_type": "code",
   "execution_count": 225,
   "metadata": {},
   "outputs": [
    {
     "name": "stderr",
     "output_type": "stream",
     "text": [
      "C:\\Users\\monob\\anaconda3\\envs\\py37\\lib\\site-packages\\seaborn\\distributions.py:198: RuntimeWarning: Mean of empty slice.\n",
      "  line, = ax.plot(a.mean(), 0)\n",
      "C:\\Users\\monob\\anaconda3\\envs\\py37\\lib\\site-packages\\numpy\\core\\_methods.py:170: RuntimeWarning: invalid value encountered in double_scalars\n",
      "  ret = ret.dtype.type(ret / rcount)\n",
      "C:\\Users\\monob\\anaconda3\\envs\\py37\\lib\\site-packages\\numpy\\lib\\histograms.py:905: RuntimeWarning: invalid value encountered in true_divide\n",
      "  return n/db/n.sum(), bin_edges\n"
     ]
    },
    {
     "data": {
      "text/plain": [
       "<matplotlib.legend.Legend at 0x1e4c2a87ac8>"
      ]
     },
     "execution_count": 225,
     "metadata": {},
     "output_type": "execute_result"
    },
    {
     "data": {
      "image/png": "[encoded data removed]",
      "text/plain": [
       "<Figure size 1440x432 with 1 Axes>"
      ]
     },
     "metadata": {
      "needs_background": "light"
     },
     "output_type": "display_data"
    }
   ],
   "source": [
    "#analizzo la distribuzione di voti nei due casi analizzati\n",
    "fig = plt.figure(figsize=(20,6))\n",
    "sns.distplot(df_role2['vote_average'], color='#388E3C')\n",
    "sns.distplot(df_role8['vote_average'])\n",
    "plt.title('Votazione carriera', fontsize=18)\n",
    "fig.legend(labels=['2 ruoli','+ 8 ruoli'])"
   ]
  },
  {
   "cell_type": "code",
   "execution_count": 226,
   "metadata": {},
   "outputs": [],
   "source": [
    "#possiamo notare che effettivamente chi ha svolto più ruoli a partecipato a film con votazione più alta"
   ]
  },
  {
   "cell_type": "code",
   "execution_count": 230,
   "metadata": {},
   "outputs": [],
   "source": [
    "d_secstat = d_secstat.loc[d_secstat['vote_average'] >= 7.6]\n",
    "#df_secondmerge.head()"
   ]
  },
  {
   "cell_type": "code",
   "execution_count": 231,
   "metadata": {},
   "outputs": [
    {
     "data": {
      "text/html": [
       "<div>\n",
       "<style scoped>\n",
       "    .dataframe tbody tr th:only-of-type {\n",
       "        vertical-align: middle;\n",
       "    }\n",
       "\n",
       "    .dataframe tbody tr th {\n",
       "        vertical-align: top;\n",
       "    }\n",
       "\n",
       "    .dataframe thead th {\n",
       "        text-align: right;\n",
       "    }\n",
       "</style>\n",
       "<table border=\"1\" class=\"dataframe\">\n",
       "  <thead>\n",
       "    <tr style=\"text-align: right;\">\n",
       "      <th></th>\n",
       "      <th>department</th>\n",
       "      <th>count</th>\n",
       "    </tr>\n",
       "  </thead>\n",
       "  <tbody>\n",
       "    <tr>\n",
       "      <th>0</th>\n",
       "      <td>Actor</td>\n",
       "      <td>100</td>\n",
       "    </tr>\n",
       "    <tr>\n",
       "      <th>1</th>\n",
       "      <td>Art</td>\n",
       "      <td>7</td>\n",
       "    </tr>\n",
       "    <tr>\n",
       "      <th>2</th>\n",
       "      <td>Camera</td>\n",
       "      <td>4</td>\n",
       "    </tr>\n",
       "    <tr>\n",
       "      <th>3</th>\n",
       "      <td>Crew</td>\n",
       "      <td>17</td>\n",
       "    </tr>\n",
       "    <tr>\n",
       "      <th>4</th>\n",
       "      <td>Directing</td>\n",
       "      <td>91</td>\n",
       "    </tr>\n",
       "    <tr>\n",
       "      <th>5</th>\n",
       "      <td>Editing</td>\n",
       "      <td>18</td>\n",
       "    </tr>\n",
       "    <tr>\n",
       "      <th>6</th>\n",
       "      <td>Production</td>\n",
       "      <td>71</td>\n",
       "    </tr>\n",
       "    <tr>\n",
       "      <th>7</th>\n",
       "      <td>Sound</td>\n",
       "      <td>8</td>\n",
       "    </tr>\n",
       "    <tr>\n",
       "      <th>8</th>\n",
       "      <td>Visual Effects</td>\n",
       "      <td>3</td>\n",
       "    </tr>\n",
       "    <tr>\n",
       "      <th>9</th>\n",
       "      <td>Writing</td>\n",
       "      <td>92</td>\n",
       "    </tr>\n",
       "  </tbody>\n",
       "</table>\n",
       "</div>"
      ],
      "text/plain": [
       "       department  count\n",
       "0           Actor    100\n",
       "1             Art      7\n",
       "2          Camera      4\n",
       "3            Crew     17\n",
       "4       Directing     91\n",
       "5         Editing     18\n",
       "6      Production     71\n",
       "7           Sound      8\n",
       "8  Visual Effects      3\n",
       "9         Writing     92"
      ]
     },
     "execution_count": 231,
     "metadata": {},
     "output_type": "execute_result"
    }
   ],
   "source": [
    "df_statistics  = d_secstat.groupby(\"department\").count()\n",
    "df_statistics.reset_index(inplace=True)\n",
    "df_statistics =  df_statistics.rename(columns = {'name' : 'count'})\n",
    "df_statistics = df_statistics.drop(['_id','movie_id','vote_average','gender','vote_count'], axis=1)\n",
    "df_statistics"
   ]
  },
  {
   "cell_type": "code",
   "execution_count": 232,
   "metadata": {},
   "outputs": [
    {
     "data": {
      "text/plain": [
       "<AxesSubplot:xlabel='department', ylabel='count'>"
      ]
     },
     "execution_count": 232,
     "metadata": {},
     "output_type": "execute_result"
    },
    {
     "data": {
      "image/png": "[encoded data removed]",
      "text/plain": [
       "<Figure size 1440x792 with 1 Axes>"
      ]
     },
     "metadata": {
      "needs_background": "light"
     },
     "output_type": "display_data"
    }
   ],
   "source": [
    "fig = plt.figure(figsize=(20,11))\n",
    "sns.barplot(y=\"count\", x=\"department\",data = df_statistics, palette=\"Blues_d\")\n"
   ]
  },
  {
   "cell_type": "code",
   "execution_count": null,
   "metadata": {},
   "outputs": [],
   "source": []
  }
 ],
 "metadata": {
  "kernelspec": {
   "display_name": "Python 3",
   "language": "python",
   "name": "python3"
  },
  "language_info": {
   "codemirror_mode": {
    "name": "ipython",
    "version": 3
   },
   "file_extension": ".py",
   "mimetype": "text/x-python",
   "name": "python",
   "nbconvert_exporter": "python",
   "pygments_lexer": "ipython3",
   "version": "3.7.9"
  }
 },
 "nbformat": 4,
 "nbformat_minor": 4
}
