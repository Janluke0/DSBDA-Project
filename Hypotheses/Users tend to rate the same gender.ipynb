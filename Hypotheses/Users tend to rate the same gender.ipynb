{
 "cells": [
  {
   "cell_type": "code",
   "execution_count": 1,
   "metadata": {},
   "outputs": [],
   "source": [
    "#importo e librerie che mi serviranno\n",
    "import pymongo\n",
    "import matplotlib.pyplot as plt \n",
    "import pandas as pd\n",
    "import seaborn as sns\n",
    "import json\n",
    "\n",
    "URI = \"mongodb://127.0.0.1:27017/?readPreference=primary&ssl=false\"\n",
    "client = pymongo.MongoClient(URI)\n",
    "db = client['movie_dataset']"
   ]
  },
  {
   "cell_type": "code",
   "execution_count": 2,
   "metadata": {},
   "outputs": [
    {
     "data": {
      "text/html": [
       "<div>\n",
       "<style scoped>\n",
       "    .dataframe tbody tr th:only-of-type {\n",
       "        vertical-align: middle;\n",
       "    }\n",
       "\n",
       "    .dataframe tbody tr th {\n",
       "        vertical-align: top;\n",
       "    }\n",
       "\n",
       "    .dataframe thead th {\n",
       "        text-align: right;\n",
       "    }\n",
       "</style>\n",
       "<table border=\"1\" class=\"dataframe\">\n",
       "  <thead>\n",
       "    <tr style=\"text-align: right;\">\n",
       "      <th></th>\n",
       "      <th>_id</th>\n",
       "      <th>total</th>\n",
       "    </tr>\n",
       "  </thead>\n",
       "  <tbody>\n",
       "    <tr>\n",
       "      <th>0</th>\n",
       "      <td>45811</td>\n",
       "      <td>18276</td>\n",
       "    </tr>\n",
       "    <tr>\n",
       "      <th>1</th>\n",
       "      <td>8659</td>\n",
       "      <td>9279</td>\n",
       "    </tr>\n",
       "    <tr>\n",
       "      <th>2</th>\n",
       "      <td>270123</td>\n",
       "      <td>7638</td>\n",
       "    </tr>\n",
       "    <tr>\n",
       "      <th>3</th>\n",
       "      <td>179792</td>\n",
       "      <td>7515</td>\n",
       "    </tr>\n",
       "    <tr>\n",
       "      <th>4</th>\n",
       "      <td>228291</td>\n",
       "      <td>7410</td>\n",
       "    </tr>\n",
       "  </tbody>\n",
       "</table>\n",
       "</div>"
      ],
      "text/plain": [
       "      _id  total\n",
       "0   45811  18276\n",
       "1    8659   9279\n",
       "2  270123   7638\n",
       "3  179792   7515\n",
       "4  228291   7410"
      ]
     },
     "execution_count": 2,
     "metadata": {},
     "output_type": "execute_result"
    }
   ],
   "source": [
    "#cerco chi sono gli utenti che hanno votato di più\n",
    "df= pd.DataFrame( db.ratings.aggregate([{'$group': {'_id': '$userId','total': {'$sum': 1}}},{'$sort':{'total': -1}},{'$limit': 10}\n",
    "]))\n",
    "df.head()"
   ]
  },
  {
   "cell_type": "code",
   "execution_count": 3,
   "metadata": {},
   "outputs": [
    {
     "data": {
      "text/html": [
       "<div>\n",
       "<style scoped>\n",
       "    .dataframe tbody tr th:only-of-type {\n",
       "        vertical-align: middle;\n",
       "    }\n",
       "\n",
       "    .dataframe tbody tr th {\n",
       "        vertical-align: top;\n",
       "    }\n",
       "\n",
       "    .dataframe thead th {\n",
       "        text-align: right;\n",
       "    }\n",
       "</style>\n",
       "<table border=\"1\" class=\"dataframe\">\n",
       "  <thead>\n",
       "    <tr style=\"text-align: right;\">\n",
       "      <th></th>\n",
       "      <th>_id</th>\n",
       "      <th>userId</th>\n",
       "      <th>movieId</th>\n",
       "      <th>rating</th>\n",
       "      <th>timestamp</th>\n",
       "    </tr>\n",
       "  </thead>\n",
       "  <tbody>\n",
       "    <tr>\n",
       "      <th>0</th>\n",
       "      <td>5f662fdf1d75e6a75f7b4119</td>\n",
       "      <td>8659</td>\n",
       "      <td>1</td>\n",
       "      <td>4.0</td>\n",
       "      <td>997044423</td>\n",
       "    </tr>\n",
       "    <tr>\n",
       "      <th>1</th>\n",
       "      <td>5f662fdf1d75e6a75f7b411a</td>\n",
       "      <td>8659</td>\n",
       "      <td>2</td>\n",
       "      <td>4.0</td>\n",
       "      <td>997144402</td>\n",
       "    </tr>\n",
       "    <tr>\n",
       "      <th>2</th>\n",
       "      <td>5f662fdf1d75e6a75f7b411b</td>\n",
       "      <td>8659</td>\n",
       "      <td>3</td>\n",
       "      <td>3.0</td>\n",
       "      <td>997144734</td>\n",
       "    </tr>\n",
       "    <tr>\n",
       "      <th>3</th>\n",
       "      <td>5f662fdf1d75e6a75f7b411c</td>\n",
       "      <td>8659</td>\n",
       "      <td>4</td>\n",
       "      <td>3.0</td>\n",
       "      <td>997146175</td>\n",
       "    </tr>\n",
       "    <tr>\n",
       "      <th>4</th>\n",
       "      <td>5f662fdf1d75e6a75f7b411d</td>\n",
       "      <td>8659</td>\n",
       "      <td>5</td>\n",
       "      <td>3.0</td>\n",
       "      <td>997145617</td>\n",
       "    </tr>\n",
       "  </tbody>\n",
       "</table>\n",
       "</div>"
      ],
      "text/plain": [
       "                        _id  userId  movieId  rating  timestamp\n",
       "0  5f662fdf1d75e6a75f7b4119    8659        1     4.0  997044423\n",
       "1  5f662fdf1d75e6a75f7b411a    8659        2     4.0  997144402\n",
       "2  5f662fdf1d75e6a75f7b411b    8659        3     3.0  997144734\n",
       "3  5f662fdf1d75e6a75f7b411c    8659        4     3.0  997146175\n",
       "4  5f662fdf1d75e6a75f7b411d    8659        5     3.0  997145617"
      ]
     },
     "execution_count": 3,
     "metadata": {},
     "output_type": "execute_result"
    }
   ],
   "source": [
    "#una volta trovati prelevo le loro votazioni dalla collezione rating\n",
    "df_ratings = pd.DataFrame(db.ratings.find({\"$or\": [{'userId':45811},{'userId':8659},{'userId':270123}, {'userId':179792}, {'userId':228291}, {'userId':243443}, {'userId':98415}, {'userId':229879}, {'userId':98787}, {'userId':172224}]}))\n",
    "df_ratings.head()\n"
   ]
  },
  {
   "cell_type": "code",
   "execution_count": 4,
   "metadata": {},
   "outputs": [
    {
     "data": {
      "text/plain": [
       "45811     18276\n",
       "8659       9279\n",
       "270123     7638\n",
       "179792     7515\n",
       "228291     7410\n",
       "243443     6320\n",
       "98415      6094\n",
       "229879     6024\n",
       "98787      5814\n",
       "172224     5701\n",
       "Name: userId, dtype: int64"
      ]
     },
     "execution_count": 4,
     "metadata": {},
     "output_type": "execute_result"
    }
   ],
   "source": [
    "df_ratings.userId.value_counts()"
   ]
  },
  {
   "cell_type": "code",
   "execution_count": 5,
   "metadata": {},
   "outputs": [
    {
     "data": {
      "text/html": [
       "<div>\n",
       "<style scoped>\n",
       "    .dataframe tbody tr th:only-of-type {\n",
       "        vertical-align: middle;\n",
       "    }\n",
       "\n",
       "    .dataframe tbody tr th {\n",
       "        vertical-align: top;\n",
       "    }\n",
       "\n",
       "    .dataframe thead th {\n",
       "        text-align: right;\n",
       "    }\n",
       "</style>\n",
       "<table border=\"1\" class=\"dataframe\">\n",
       "  <thead>\n",
       "    <tr style=\"text-align: right;\">\n",
       "      <th></th>\n",
       "      <th>userId</th>\n",
       "      <th>movieId</th>\n",
       "      <th>rating</th>\n",
       "      <th>timestamp</th>\n",
       "    </tr>\n",
       "  </thead>\n",
       "  <tbody>\n",
       "    <tr>\n",
       "      <th>28471</th>\n",
       "      <td>98415</td>\n",
       "      <td>2177</td>\n",
       "      <td>2.5</td>\n",
       "      <td>1200630772</td>\n",
       "    </tr>\n",
       "    <tr>\n",
       "      <th>48681</th>\n",
       "      <td>179792</td>\n",
       "      <td>5042</td>\n",
       "      <td>1.0</td>\n",
       "      <td>1171888702</td>\n",
       "    </tr>\n",
       "    <tr>\n",
       "      <th>50660</th>\n",
       "      <td>179792</td>\n",
       "      <td>8662</td>\n",
       "      <td>3.0</td>\n",
       "      <td>1191291771</td>\n",
       "    </tr>\n",
       "    <tr>\n",
       "      <th>48741</th>\n",
       "      <td>179792</td>\n",
       "      <td>5135</td>\n",
       "      <td>4.0</td>\n",
       "      <td>1169861691</td>\n",
       "    </tr>\n",
       "    <tr>\n",
       "      <th>38034</th>\n",
       "      <td>98787</td>\n",
       "      <td>87483</td>\n",
       "      <td>0.5</td>\n",
       "      <td>1466837065</td>\n",
       "    </tr>\n",
       "  </tbody>\n",
       "</table>\n",
       "</div>"
      ],
      "text/plain": [
       "       userId  movieId  rating   timestamp\n",
       "28471   98415     2177     2.5  1200630772\n",
       "48681  179792     5042     1.0  1171888702\n",
       "50660  179792     8662     3.0  1191291771\n",
       "48741  179792     5135     4.0  1169861691\n",
       "38034   98787    87483     0.5  1466837065"
      ]
     },
     "execution_count": 5,
     "metadata": {},
     "output_type": "execute_result"
    }
   ],
   "source": [
    "#elimino colonna _id\n",
    "df_ratings.drop(\"_id\",axis='columns', inplace=True)\n",
    "df_ratings.sample(5)"
   ]
  },
  {
   "cell_type": "code",
   "execution_count": 6,
   "metadata": {
    "scrolled": true
   },
   "outputs": [
    {
     "data": {
      "text/html": [
       "<div>\n",
       "<style scoped>\n",
       "    .dataframe tbody tr th:only-of-type {\n",
       "        vertical-align: middle;\n",
       "    }\n",
       "\n",
       "    .dataframe tbody tr th {\n",
       "        vertical-align: top;\n",
       "    }\n",
       "\n",
       "    .dataframe thead th {\n",
       "        text-align: right;\n",
       "    }\n",
       "</style>\n",
       "<table border=\"1\" class=\"dataframe\">\n",
       "  <thead>\n",
       "    <tr style=\"text-align: right;\">\n",
       "      <th></th>\n",
       "      <th>_id</th>\n",
       "      <th>genres</th>\n",
       "    </tr>\n",
       "  </thead>\n",
       "  <tbody>\n",
       "    <tr>\n",
       "      <th>0</th>\n",
       "      <td>862</td>\n",
       "      <td>[16, 35, 10751]</td>\n",
       "    </tr>\n",
       "    <tr>\n",
       "      <th>1</th>\n",
       "      <td>8844</td>\n",
       "      <td>[12, 14, 10751]</td>\n",
       "    </tr>\n",
       "    <tr>\n",
       "      <th>2</th>\n",
       "      <td>15602</td>\n",
       "      <td>[10749, 35]</td>\n",
       "    </tr>\n",
       "    <tr>\n",
       "      <th>3</th>\n",
       "      <td>31357</td>\n",
       "      <td>[35, 18, 10749]</td>\n",
       "    </tr>\n",
       "    <tr>\n",
       "      <th>4</th>\n",
       "      <td>11862</td>\n",
       "      <td>[35]</td>\n",
       "    </tr>\n",
       "    <tr>\n",
       "      <th>...</th>\n",
       "      <td>...</td>\n",
       "      <td>...</td>\n",
       "    </tr>\n",
       "    <tr>\n",
       "      <th>45428</th>\n",
       "      <td>439050</td>\n",
       "      <td>[18, 10751]</td>\n",
       "    </tr>\n",
       "    <tr>\n",
       "      <th>45429</th>\n",
       "      <td>111109</td>\n",
       "      <td>[18]</td>\n",
       "    </tr>\n",
       "    <tr>\n",
       "      <th>45430</th>\n",
       "      <td>67758</td>\n",
       "      <td>[28, 18, 53]</td>\n",
       "    </tr>\n",
       "    <tr>\n",
       "      <th>45431</th>\n",
       "      <td>227506</td>\n",
       "      <td>[]</td>\n",
       "    </tr>\n",
       "    <tr>\n",
       "      <th>45432</th>\n",
       "      <td>461257</td>\n",
       "      <td>[]</td>\n",
       "    </tr>\n",
       "  </tbody>\n",
       "</table>\n",
       "<p>45433 rows × 2 columns</p>\n",
       "</div>"
      ],
      "text/plain": [
       "          _id           genres\n",
       "0         862  [16, 35, 10751]\n",
       "1        8844  [12, 14, 10751]\n",
       "2       15602      [10749, 35]\n",
       "3       31357  [35, 18, 10749]\n",
       "4       11862             [35]\n",
       "...       ...              ...\n",
       "45428  439050      [18, 10751]\n",
       "45429  111109             [18]\n",
       "45430   67758     [28, 18, 53]\n",
       "45431  227506               []\n",
       "45432  461257               []\n",
       "\n",
       "[45433 rows x 2 columns]"
      ]
     },
     "execution_count": 6,
     "metadata": {},
     "output_type": "execute_result"
    }
   ],
   "source": [
    "#lista dei film, nella collezione metadata\n",
    "df_film = pd.DataFrame(db.metadata.find({}, {'_id':1, 'genres':1}))\n",
    "df_film"
   ]
  },
  {
   "cell_type": "code",
   "execution_count": 7,
   "metadata": {},
   "outputs": [],
   "source": [
    "#rinomino la colonna _id in movie_id\n",
    "df_film =  df_film.rename(columns = {'_id' : 'movieId'})"
   ]
  },
  {
   "cell_type": "code",
   "execution_count": 8,
   "metadata": {},
   "outputs": [],
   "source": [
    "#converto i vari id del dataframe da oggetti a int\n",
    "df_film.movieId = df_film.movieId.astype(str).astype(int)"
   ]
  },
  {
   "cell_type": "code",
   "execution_count": 9,
   "metadata": {},
   "outputs": [],
   "source": [
    "#utilizzo funzione explode, per creare nuove righe dagli elementi dell' array presenti nella colonna genres\n",
    "df_film = df_film.explode('genres')\n",
    "df_film.explode('genres')\n",
    "df_film = df_film.drop_duplicates(subset =\"movieId\") \n",
    "  \n"
   ]
  },
  {
   "cell_type": "code",
   "execution_count": 10,
   "metadata": {},
   "outputs": [
    {
     "data": {
      "text/html": [
       "<div>\n",
       "<style scoped>\n",
       "    .dataframe tbody tr th:only-of-type {\n",
       "        vertical-align: middle;\n",
       "    }\n",
       "\n",
       "    .dataframe tbody tr th {\n",
       "        vertical-align: top;\n",
       "    }\n",
       "\n",
       "    .dataframe thead th {\n",
       "        text-align: right;\n",
       "    }\n",
       "</style>\n",
       "<table border=\"1\" class=\"dataframe\">\n",
       "  <thead>\n",
       "    <tr style=\"text-align: right;\">\n",
       "      <th></th>\n",
       "      <th>movieId</th>\n",
       "      <th>genres</th>\n",
       "    </tr>\n",
       "  </thead>\n",
       "  <tbody>\n",
       "    <tr>\n",
       "      <th>0</th>\n",
       "      <td>862</td>\n",
       "      <td>16</td>\n",
       "    </tr>\n",
       "    <tr>\n",
       "      <th>1</th>\n",
       "      <td>8844</td>\n",
       "      <td>12</td>\n",
       "    </tr>\n",
       "    <tr>\n",
       "      <th>2</th>\n",
       "      <td>15602</td>\n",
       "      <td>10749</td>\n",
       "    </tr>\n",
       "    <tr>\n",
       "      <th>3</th>\n",
       "      <td>31357</td>\n",
       "      <td>35</td>\n",
       "    </tr>\n",
       "    <tr>\n",
       "      <th>4</th>\n",
       "      <td>11862</td>\n",
       "      <td>35</td>\n",
       "    </tr>\n",
       "  </tbody>\n",
       "</table>\n",
       "</div>"
      ],
      "text/plain": [
       "   movieId genres\n",
       "0      862     16\n",
       "1     8844     12\n",
       "2    15602  10749\n",
       "3    31357     35\n",
       "4    11862     35"
      ]
     },
     "execution_count": 10,
     "metadata": {},
     "output_type": "execute_result"
    }
   ],
   "source": [
    "df_film.head()"
   ]
  },
  {
   "cell_type": "code",
   "execution_count": 11,
   "metadata": {},
   "outputs": [
    {
     "data": {
      "text/plain": [
       "movieId       0\n",
       "genres     2442\n",
       "dtype: int64"
      ]
     },
     "execution_count": 11,
     "metadata": {},
     "output_type": "execute_result"
    }
   ],
   "source": [
    "#vedo quanti na ci sono \n",
    "df_film.isna().sum()"
   ]
  },
  {
   "cell_type": "code",
   "execution_count": 12,
   "metadata": {},
   "outputs": [],
   "source": [
    "#prendo solo le righe dove non ci sono na\n",
    "df_film = df_film[df_film['genres'].notna()]\n"
   ]
  },
  {
   "cell_type": "code",
   "execution_count": 13,
   "metadata": {},
   "outputs": [
    {
     "data": {
      "text/plain": [
       "movieId    0\n",
       "genres     0\n",
       "dtype: int64"
      ]
     },
     "execution_count": 13,
     "metadata": {},
     "output_type": "execute_result"
    }
   ],
   "source": [
    "#check per controllare se ci sono ancora na\n",
    "df_film.isna().sum()"
   ]
  },
  {
   "cell_type": "code",
   "execution_count": 14,
   "metadata": {},
   "outputs": [
    {
     "data": {
      "text/plain": [
       "(42991, 2)"
      ]
     },
     "execution_count": 14,
     "metadata": {},
     "output_type": "execute_result"
    }
   ],
   "source": [
    "df_film.shape"
   ]
  },
  {
   "cell_type": "code",
   "execution_count": 15,
   "metadata": {},
   "outputs": [
    {
     "data": {
      "text/html": [
       "<div>\n",
       "<style scoped>\n",
       "    .dataframe tbody tr th:only-of-type {\n",
       "        vertical-align: middle;\n",
       "    }\n",
       "\n",
       "    .dataframe tbody tr th {\n",
       "        vertical-align: top;\n",
       "    }\n",
       "\n",
       "    .dataframe thead th {\n",
       "        text-align: right;\n",
       "    }\n",
       "</style>\n",
       "<table border=\"1\" class=\"dataframe\">\n",
       "  <thead>\n",
       "    <tr style=\"text-align: right;\">\n",
       "      <th></th>\n",
       "      <th>_id</th>\n",
       "      <th>name</th>\n",
       "    </tr>\n",
       "  </thead>\n",
       "  <tbody>\n",
       "    <tr>\n",
       "      <th>0</th>\n",
       "      <td>16</td>\n",
       "      <td>Animation</td>\n",
       "    </tr>\n",
       "    <tr>\n",
       "      <th>1</th>\n",
       "      <td>35</td>\n",
       "      <td>Comedy</td>\n",
       "    </tr>\n",
       "    <tr>\n",
       "      <th>2</th>\n",
       "      <td>10751</td>\n",
       "      <td>Family</td>\n",
       "    </tr>\n",
       "    <tr>\n",
       "      <th>3</th>\n",
       "      <td>12</td>\n",
       "      <td>Adventure</td>\n",
       "    </tr>\n",
       "    <tr>\n",
       "      <th>4</th>\n",
       "      <td>14</td>\n",
       "      <td>Fantasy</td>\n",
       "    </tr>\n",
       "  </tbody>\n",
       "</table>\n",
       "</div>"
      ],
      "text/plain": [
       "     _id       name\n",
       "0     16  Animation\n",
       "1     35     Comedy\n",
       "2  10751     Family\n",
       "3     12  Adventure\n",
       "4     14    Fantasy"
      ]
     },
     "execution_count": 15,
     "metadata": {},
     "output_type": "execute_result"
    }
   ],
   "source": [
    "#prendo i generi nella collezione genres\n",
    "df_genres = pd.DataFrame(db.genres.find({}))\n",
    "df_genres.head()"
   ]
  },
  {
   "cell_type": "code",
   "execution_count": 16,
   "metadata": {},
   "outputs": [],
   "source": [
    "#rinomino la colonna _id in movie_id\n",
    "df_genres =  df_genres.rename(columns = {'_id' : 'genres'})"
   ]
  },
  {
   "cell_type": "code",
   "execution_count": 17,
   "metadata": {},
   "outputs": [
    {
     "data": {
      "text/html": [
       "<div>\n",
       "<style scoped>\n",
       "    .dataframe tbody tr th:only-of-type {\n",
       "        vertical-align: middle;\n",
       "    }\n",
       "\n",
       "    .dataframe tbody tr th {\n",
       "        vertical-align: top;\n",
       "    }\n",
       "\n",
       "    .dataframe thead th {\n",
       "        text-align: right;\n",
       "    }\n",
       "</style>\n",
       "<table border=\"1\" class=\"dataframe\">\n",
       "  <thead>\n",
       "    <tr style=\"text-align: right;\">\n",
       "      <th></th>\n",
       "      <th>genres</th>\n",
       "      <th>name</th>\n",
       "    </tr>\n",
       "  </thead>\n",
       "  <tbody>\n",
       "    <tr>\n",
       "      <th>0</th>\n",
       "      <td>16</td>\n",
       "      <td>Animation</td>\n",
       "    </tr>\n",
       "    <tr>\n",
       "      <th>1</th>\n",
       "      <td>35</td>\n",
       "      <td>Comedy</td>\n",
       "    </tr>\n",
       "  </tbody>\n",
       "</table>\n",
       "</div>"
      ],
      "text/plain": [
       "   genres       name\n",
       "0      16  Animation\n",
       "1      35     Comedy"
      ]
     },
     "execution_count": 17,
     "metadata": {},
     "output_type": "execute_result"
    }
   ],
   "source": [
    "df_genres.head(2)"
   ]
  },
  {
   "cell_type": "code",
   "execution_count": 18,
   "metadata": {},
   "outputs": [
    {
     "data": {
      "text/html": [
       "<div>\n",
       "<style scoped>\n",
       "    .dataframe tbody tr th:only-of-type {\n",
       "        vertical-align: middle;\n",
       "    }\n",
       "\n",
       "    .dataframe tbody tr th {\n",
       "        vertical-align: top;\n",
       "    }\n",
       "\n",
       "    .dataframe thead th {\n",
       "        text-align: right;\n",
       "    }\n",
       "</style>\n",
       "<table border=\"1\" class=\"dataframe\">\n",
       "  <thead>\n",
       "    <tr style=\"text-align: right;\">\n",
       "      <th></th>\n",
       "      <th>genres</th>\n",
       "      <th>name</th>\n",
       "      <th>movieId</th>\n",
       "    </tr>\n",
       "  </thead>\n",
       "  <tbody>\n",
       "    <tr>\n",
       "      <th>0</th>\n",
       "      <td>16</td>\n",
       "      <td>Animation</td>\n",
       "      <td>862</td>\n",
       "    </tr>\n",
       "    <tr>\n",
       "      <th>1</th>\n",
       "      <td>16</td>\n",
       "      <td>Animation</td>\n",
       "      <td>22586</td>\n",
       "    </tr>\n",
       "  </tbody>\n",
       "</table>\n",
       "</div>"
      ],
      "text/plain": [
       "  genres       name  movieId\n",
       "0     16  Animation      862\n",
       "1     16  Animation    22586"
      ]
     },
     "execution_count": 18,
     "metadata": {},
     "output_type": "execute_result"
    }
   ],
   "source": [
    "#join con il dataframe contenente i vari id dei film\n",
    "df_merge = pd.merge(df_genres, df_film, on='genres')\n",
    "df_merge.head(2)"
   ]
  },
  {
   "cell_type": "code",
   "execution_count": 19,
   "metadata": {},
   "outputs": [
    {
     "data": {
      "text/plain": [
       "(42991, 3)"
      ]
     },
     "execution_count": 19,
     "metadata": {},
     "output_type": "execute_result"
    }
   ],
   "source": [
    "df_merge.shape"
   ]
  },
  {
   "cell_type": "code",
   "execution_count": 20,
   "metadata": {},
   "outputs": [
    {
     "data": {
      "text/html": [
       "<div>\n",
       "<style scoped>\n",
       "    .dataframe tbody tr th:only-of-type {\n",
       "        vertical-align: middle;\n",
       "    }\n",
       "\n",
       "    .dataframe tbody tr th {\n",
       "        vertical-align: top;\n",
       "    }\n",
       "\n",
       "    .dataframe thead th {\n",
       "        text-align: right;\n",
       "    }\n",
       "</style>\n",
       "<table border=\"1\" class=\"dataframe\">\n",
       "  <thead>\n",
       "    <tr style=\"text-align: right;\">\n",
       "      <th></th>\n",
       "      <th>userId</th>\n",
       "      <th>movieId</th>\n",
       "      <th>rating</th>\n",
       "      <th>timestamp</th>\n",
       "      <th>genres</th>\n",
       "      <th>name</th>\n",
       "    </tr>\n",
       "  </thead>\n",
       "  <tbody>\n",
       "    <tr>\n",
       "      <th>0</th>\n",
       "      <td>8659</td>\n",
       "      <td>2</td>\n",
       "      <td>4.0</td>\n",
       "      <td>997144402</td>\n",
       "      <td>18</td>\n",
       "      <td>Drama</td>\n",
       "    </tr>\n",
       "    <tr>\n",
       "      <th>1</th>\n",
       "      <td>45811</td>\n",
       "      <td>2</td>\n",
       "      <td>3.0</td>\n",
       "      <td>1473241811</td>\n",
       "      <td>18</td>\n",
       "      <td>Drama</td>\n",
       "    </tr>\n",
       "    <tr>\n",
       "      <th>2</th>\n",
       "      <td>98415</td>\n",
       "      <td>2</td>\n",
       "      <td>3.0</td>\n",
       "      <td>1025857792</td>\n",
       "      <td>18</td>\n",
       "      <td>Drama</td>\n",
       "    </tr>\n",
       "    <tr>\n",
       "      <th>3</th>\n",
       "      <td>98787</td>\n",
       "      <td>2</td>\n",
       "      <td>3.5</td>\n",
       "      <td>1467005014</td>\n",
       "      <td>18</td>\n",
       "      <td>Drama</td>\n",
       "    </tr>\n",
       "    <tr>\n",
       "      <th>4</th>\n",
       "      <td>172224</td>\n",
       "      <td>2</td>\n",
       "      <td>4.0</td>\n",
       "      <td>966422244</td>\n",
       "      <td>18</td>\n",
       "      <td>Drama</td>\n",
       "    </tr>\n",
       "    <tr>\n",
       "      <th>...</th>\n",
       "      <td>...</td>\n",
       "      <td>...</td>\n",
       "      <td>...</td>\n",
       "      <td>...</td>\n",
       "      <td>...</td>\n",
       "      <td>...</td>\n",
       "    </tr>\n",
       "    <tr>\n",
       "      <th>21856</th>\n",
       "      <td>270123</td>\n",
       "      <td>144560</td>\n",
       "      <td>3.0</td>\n",
       "      <td>1452324249</td>\n",
       "      <td>10749</td>\n",
       "      <td>Romance</td>\n",
       "    </tr>\n",
       "    <tr>\n",
       "      <th>21857</th>\n",
       "      <td>270123</td>\n",
       "      <td>145162</td>\n",
       "      <td>1.0</td>\n",
       "      <td>1498259026</td>\n",
       "      <td>80</td>\n",
       "      <td>Crime</td>\n",
       "    </tr>\n",
       "    <tr>\n",
       "      <th>21858</th>\n",
       "      <td>270123</td>\n",
       "      <td>151509</td>\n",
       "      <td>3.0</td>\n",
       "      <td>1453527817</td>\n",
       "      <td>35</td>\n",
       "      <td>Comedy</td>\n",
       "    </tr>\n",
       "    <tr>\n",
       "      <th>21859</th>\n",
       "      <td>270123</td>\n",
       "      <td>159109</td>\n",
       "      <td>1.5</td>\n",
       "      <td>1465361347</td>\n",
       "      <td>35</td>\n",
       "      <td>Comedy</td>\n",
       "    </tr>\n",
       "    <tr>\n",
       "      <th>21860</th>\n",
       "      <td>270123</td>\n",
       "      <td>169842</td>\n",
       "      <td>0.5</td>\n",
       "      <td>1501719326</td>\n",
       "      <td>18</td>\n",
       "      <td>Drama</td>\n",
       "    </tr>\n",
       "  </tbody>\n",
       "</table>\n",
       "<p>21861 rows × 6 columns</p>\n",
       "</div>"
      ],
      "text/plain": [
       "       userId  movieId  rating   timestamp genres     name\n",
       "0        8659        2     4.0   997144402     18    Drama\n",
       "1       45811        2     3.0  1473241811     18    Drama\n",
       "2       98415        2     3.0  1025857792     18    Drama\n",
       "3       98787        2     3.5  1467005014     18    Drama\n",
       "4      172224        2     4.0   966422244     18    Drama\n",
       "...       ...      ...     ...         ...    ...      ...\n",
       "21856  270123   144560     3.0  1452324249  10749  Romance\n",
       "21857  270123   145162     1.0  1498259026     80    Crime\n",
       "21858  270123   151509     3.0  1453527817     35   Comedy\n",
       "21859  270123   159109     1.5  1465361347     35   Comedy\n",
       "21860  270123   169842     0.5  1501719326     18    Drama\n",
       "\n",
       "[21861 rows x 6 columns]"
      ]
     },
     "execution_count": 20,
     "metadata": {},
     "output_type": "execute_result"
    }
   ],
   "source": [
    "#join con il dataframe contenente i 5 utenti scelti dalla collezione ratings\n",
    "df_secondmerge = pd.merge(df_ratings, df_merge, on='movieId')\n",
    "df_secondmerge"
   ]
  },
  {
   "cell_type": "code",
   "execution_count": 21,
   "metadata": {},
   "outputs": [],
   "source": [
    "prova = df_secondmerge.groupby(['userId', 'name']).count()\n",
    "prova.reset_index(inplace=True)\n",
    "prova = prova.drop(['movieId','rating','genres'], axis=1)\n",
    "prova =  prova.rename(columns = {'timestamp' : 'count'})\n"
   ]
  },
  {
   "cell_type": "code",
   "execution_count": 22,
   "metadata": {},
   "outputs": [],
   "source": [
    "k = prova.groupby('userId')['count'].sum().reset_index()\n",
    "k =  k.rename(columns = {'count' : 'sum'})"
   ]
  },
  {
   "cell_type": "code",
   "execution_count": 23,
   "metadata": {},
   "outputs": [
    {
     "data": {
      "text/html": [
       "<div>\n",
       "<style scoped>\n",
       "    .dataframe tbody tr th:only-of-type {\n",
       "        vertical-align: middle;\n",
       "    }\n",
       "\n",
       "    .dataframe tbody tr th {\n",
       "        vertical-align: top;\n",
       "    }\n",
       "\n",
       "    .dataframe thead th {\n",
       "        text-align: right;\n",
       "    }\n",
       "</style>\n",
       "<table border=\"1\" class=\"dataframe\">\n",
       "  <thead>\n",
       "    <tr style=\"text-align: right;\">\n",
       "      <th></th>\n",
       "      <th>userId</th>\n",
       "      <th>sum</th>\n",
       "      <th>name</th>\n",
       "      <th>count</th>\n",
       "    </tr>\n",
       "  </thead>\n",
       "  <tbody>\n",
       "    <tr>\n",
       "      <th>0</th>\n",
       "      <td>8659</td>\n",
       "      <td>3002</td>\n",
       "      <td>Action</td>\n",
       "      <td>386</td>\n",
       "    </tr>\n",
       "    <tr>\n",
       "      <th>1</th>\n",
       "      <td>8659</td>\n",
       "      <td>3002</td>\n",
       "      <td>Adventure</td>\n",
       "      <td>177</td>\n",
       "    </tr>\n",
       "    <tr>\n",
       "      <th>2</th>\n",
       "      <td>8659</td>\n",
       "      <td>3002</td>\n",
       "      <td>Animation</td>\n",
       "      <td>50</td>\n",
       "    </tr>\n",
       "    <tr>\n",
       "      <th>3</th>\n",
       "      <td>8659</td>\n",
       "      <td>3002</td>\n",
       "      <td>Comedy</td>\n",
       "      <td>578</td>\n",
       "    </tr>\n",
       "    <tr>\n",
       "      <th>4</th>\n",
       "      <td>8659</td>\n",
       "      <td>3002</td>\n",
       "      <td>Crime</td>\n",
       "      <td>169</td>\n",
       "    </tr>\n",
       "    <tr>\n",
       "      <th>...</th>\n",
       "      <td>...</td>\n",
       "      <td>...</td>\n",
       "      <td>...</td>\n",
       "      <td>...</td>\n",
       "    </tr>\n",
       "    <tr>\n",
       "      <th>195</th>\n",
       "      <td>270123</td>\n",
       "      <td>2008</td>\n",
       "      <td>Science Fiction</td>\n",
       "      <td>40</td>\n",
       "    </tr>\n",
       "    <tr>\n",
       "      <th>196</th>\n",
       "      <td>270123</td>\n",
       "      <td>2008</td>\n",
       "      <td>TV Movie</td>\n",
       "      <td>10</td>\n",
       "    </tr>\n",
       "    <tr>\n",
       "      <th>197</th>\n",
       "      <td>270123</td>\n",
       "      <td>2008</td>\n",
       "      <td>Thriller</td>\n",
       "      <td>70</td>\n",
       "    </tr>\n",
       "    <tr>\n",
       "      <th>198</th>\n",
       "      <td>270123</td>\n",
       "      <td>2008</td>\n",
       "      <td>War</td>\n",
       "      <td>17</td>\n",
       "    </tr>\n",
       "    <tr>\n",
       "      <th>199</th>\n",
       "      <td>270123</td>\n",
       "      <td>2008</td>\n",
       "      <td>Western</td>\n",
       "      <td>15</td>\n",
       "    </tr>\n",
       "  </tbody>\n",
       "</table>\n",
       "<p>200 rows × 4 columns</p>\n",
       "</div>"
      ],
      "text/plain": [
       "     userId   sum             name  count\n",
       "0      8659  3002           Action    386\n",
       "1      8659  3002        Adventure    177\n",
       "2      8659  3002        Animation     50\n",
       "3      8659  3002           Comedy    578\n",
       "4      8659  3002            Crime    169\n",
       "..      ...   ...              ...    ...\n",
       "195  270123  2008  Science Fiction     40\n",
       "196  270123  2008         TV Movie     10\n",
       "197  270123  2008         Thriller     70\n",
       "198  270123  2008              War     17\n",
       "199  270123  2008          Western     15\n",
       "\n",
       "[200 rows x 4 columns]"
      ]
     },
     "execution_count": 23,
     "metadata": {},
     "output_type": "execute_result"
    }
   ],
   "source": [
    "#VEDO PER OGNI UTENTE QUANTI VOLTE HA VOTATO PER OGNI GENERE E IN TOTALE\n",
    "df_H = pd.merge(k, prova, on='userId')\n",
    "df_H"
   ]
  },
  {
   "cell_type": "code",
   "execution_count": 24,
   "metadata": {},
   "outputs": [],
   "source": [
    "#CALCOLO LA PERCENTUALE\n",
    "df_H['Percentage'] = (df_H['count']/df_H['sum'])*100\n",
    "df_H['Percentage'] =  df_H['Percentage'].round(decimals=2)"
   ]
  },
  {
   "cell_type": "code",
   "execution_count": 25,
   "metadata": {},
   "outputs": [
    {
     "data": {
      "text/html": [
       "<div>\n",
       "<style scoped>\n",
       "    .dataframe tbody tr th:only-of-type {\n",
       "        vertical-align: middle;\n",
       "    }\n",
       "\n",
       "    .dataframe tbody tr th {\n",
       "        vertical-align: top;\n",
       "    }\n",
       "\n",
       "    .dataframe thead th {\n",
       "        text-align: right;\n",
       "    }\n",
       "</style>\n",
       "<table border=\"1\" class=\"dataframe\">\n",
       "  <thead>\n",
       "    <tr style=\"text-align: right;\">\n",
       "      <th></th>\n",
       "      <th>userId</th>\n",
       "      <th>sum</th>\n",
       "      <th>name</th>\n",
       "      <th>count</th>\n",
       "      <th>Percentage</th>\n",
       "    </tr>\n",
       "  </thead>\n",
       "  <tbody>\n",
       "    <tr>\n",
       "      <th>0</th>\n",
       "      <td>8659</td>\n",
       "      <td>3002</td>\n",
       "      <td>Action</td>\n",
       "      <td>386</td>\n",
       "      <td>12.86</td>\n",
       "    </tr>\n",
       "    <tr>\n",
       "      <th>1</th>\n",
       "      <td>8659</td>\n",
       "      <td>3002</td>\n",
       "      <td>Adventure</td>\n",
       "      <td>177</td>\n",
       "      <td>5.90</td>\n",
       "    </tr>\n",
       "    <tr>\n",
       "      <th>2</th>\n",
       "      <td>8659</td>\n",
       "      <td>3002</td>\n",
       "      <td>Animation</td>\n",
       "      <td>50</td>\n",
       "      <td>1.67</td>\n",
       "    </tr>\n",
       "    <tr>\n",
       "      <th>3</th>\n",
       "      <td>8659</td>\n",
       "      <td>3002</td>\n",
       "      <td>Comedy</td>\n",
       "      <td>578</td>\n",
       "      <td>19.25</td>\n",
       "    </tr>\n",
       "    <tr>\n",
       "      <th>4</th>\n",
       "      <td>8659</td>\n",
       "      <td>3002</td>\n",
       "      <td>Crime</td>\n",
       "      <td>169</td>\n",
       "      <td>5.63</td>\n",
       "    </tr>\n",
       "    <tr>\n",
       "      <th>...</th>\n",
       "      <td>...</td>\n",
       "      <td>...</td>\n",
       "      <td>...</td>\n",
       "      <td>...</td>\n",
       "      <td>...</td>\n",
       "    </tr>\n",
       "    <tr>\n",
       "      <th>195</th>\n",
       "      <td>270123</td>\n",
       "      <td>2008</td>\n",
       "      <td>Science Fiction</td>\n",
       "      <td>40</td>\n",
       "      <td>1.99</td>\n",
       "    </tr>\n",
       "    <tr>\n",
       "      <th>196</th>\n",
       "      <td>270123</td>\n",
       "      <td>2008</td>\n",
       "      <td>TV Movie</td>\n",
       "      <td>10</td>\n",
       "      <td>0.50</td>\n",
       "    </tr>\n",
       "    <tr>\n",
       "      <th>197</th>\n",
       "      <td>270123</td>\n",
       "      <td>2008</td>\n",
       "      <td>Thriller</td>\n",
       "      <td>70</td>\n",
       "      <td>3.49</td>\n",
       "    </tr>\n",
       "    <tr>\n",
       "      <th>198</th>\n",
       "      <td>270123</td>\n",
       "      <td>2008</td>\n",
       "      <td>War</td>\n",
       "      <td>17</td>\n",
       "      <td>0.85</td>\n",
       "    </tr>\n",
       "    <tr>\n",
       "      <th>199</th>\n",
       "      <td>270123</td>\n",
       "      <td>2008</td>\n",
       "      <td>Western</td>\n",
       "      <td>15</td>\n",
       "      <td>0.75</td>\n",
       "    </tr>\n",
       "  </tbody>\n",
       "</table>\n",
       "<p>200 rows × 5 columns</p>\n",
       "</div>"
      ],
      "text/plain": [
       "     userId   sum             name  count  Percentage\n",
       "0      8659  3002           Action    386       12.86\n",
       "1      8659  3002        Adventure    177        5.90\n",
       "2      8659  3002        Animation     50        1.67\n",
       "3      8659  3002           Comedy    578       19.25\n",
       "4      8659  3002            Crime    169        5.63\n",
       "..      ...   ...              ...    ...         ...\n",
       "195  270123  2008  Science Fiction     40        1.99\n",
       "196  270123  2008         TV Movie     10        0.50\n",
       "197  270123  2008         Thriller     70        3.49\n",
       "198  270123  2008              War     17        0.85\n",
       "199  270123  2008          Western     15        0.75\n",
       "\n",
       "[200 rows x 5 columns]"
      ]
     },
     "execution_count": 25,
     "metadata": {},
     "output_type": "execute_result"
    }
   ],
   "source": [
    "df_H"
   ]
  },
  {
   "cell_type": "code",
   "execution_count": 26,
   "metadata": {},
   "outputs": [],
   "source": [
    "s = df_H.userId.unique()"
   ]
  },
  {
   "cell_type": "code",
   "execution_count": 27,
   "metadata": {},
   "outputs": [
    {
     "data": {
      "image/png": "[encoded data removed]",
      "text/plain": [
       "<Figure size 1584x504 with 1 Axes>"
      ]
     },
     "metadata": {
      "needs_background": "light"
     },
     "output_type": "display_data"
    },
    {
     "data": {
      "image/png": "[encoded data removed]",
      "text/plain": [
       "<Figure size 1584x504 with 1 Axes>"
      ]
     },
     "metadata": {
      "needs_background": "light"
     },
     "output_type": "display_data"
    },
    {
     "data": {
      "image/png": "[encoded data removed]",
      "text/plain": [
       "<Figure size 1584x504 with 1 Axes>"
      ]
     },
     "metadata": {
      "needs_background": "light"
     },
     "output_type": "display_data"
    },
    {
     "data": {
      "image/png": "[encoded data removed]",
      "text/plain": [
       "<Figure size 1584x504 with 1 Axes>"
      ]
     },
     "metadata": {
      "needs_background": "light"
     },
     "output_type": "display_data"
    },
    {
     "data": {
      "image/png": "[encoded data removed]",
      "text/plain": [
       "<Figure size 1584x504 with 1 Axes>"
      ]
     },
     "metadata": {
      "needs_background": "light"
     },
     "output_type": "display_data"
    },
    {
     "data": {
      "image/png": "[encoded data removed]",
      "text/plain": [
       "<Figure size 1584x504 with 1 Axes>"
      ]
     },
     "metadata": {
      "needs_background": "light"
     },
     "output_type": "display_data"
    },
    {
     "data": {
      "image/png": "[encoded data removed]",
      "text/plain": [
       "<Figure size 1584x504 with 1 Axes>"
      ]
     },
     "metadata": {
      "needs_background": "light"
     },
     "output_type": "display_data"
    },
    {
     "data": {
      "image/png": "[encoded data removed]",
      "text/plain": [
       "<Figure size 1584x504 with 1 Axes>"
      ]
     },
     "metadata": {
      "needs_background": "light"
     },
     "output_type": "display_data"
    },
    {
     "data": {
      "image/png": "[encoded data removed]",
      "text/plain": [
       "<Figure size 1584x504 with 1 Axes>"
      ]
     },
     "metadata": {
      "needs_background": "light"
     },
     "output_type": "display_data"
    },
    {
     "data": {
      "image/png": "[encoded data removed]",
      "text/plain": [
       "<Figure size 1584x504 with 1 Axes>"
      ]
     },
     "metadata": {
      "needs_background": "light"
     },
     "output_type": "display_data"
    }
   ],
   "source": [
    "#FACCIO I GRAFICI\n",
    "for p in range(len(s)):\n",
    "    df_t=df_H[df_H['userId'] == s[p]]\n",
    "    fig = plt.figure(figsize=(22,7))\n",
    "    splot = sns.barplot(y=\"Percentage\", x=\"name\",data = df_t, palette=\"Blues_d\")\n",
    " \n",
    "    plt.title(f'Utente {s[p]}',fontsize=20)\n",
    "    for p in splot.patches:\n",
    "             splot.annotate(format(p.get_height(), '.0f'), \n",
    "                   (p.get_x() + p.get_width() / 2., p.get_height()), \n",
    "                   ha = 'center', va = 'center', \n",
    "                   size=15, color = 'white',\n",
    "                   xytext = (0, -12), \n",
    "                   textcoords = 'offset points')"
   ]
  },
  {
   "cell_type": "code",
   "execution_count": 28,
   "metadata": {},
   "outputs": [],
   "source": [
    "#SEMBRA CHE VI SIA UNA PREVALENZA DI UN GENERE NEGLI UTENTI SELEZIONATI(IN QUESTO CASO DRAMA)"
   ]
  }
 ],
 "metadata": {
  "kernelspec": {
   "display_name": "Python 3",
   "language": "python",
   "name": "python3"
  },
  "language_info": {
   "codemirror_mode": {
    "name": "ipython",
    "version": 3
   },
   "file_extension": ".py",
   "mimetype": "text/x-python",
   "name": "python",
   "nbconvert_exporter": "python",
   "pygments_lexer": "ipython3",
   "version": "3.7.9"
  }
 },
 "nbformat": 4,
 "nbformat_minor": 4
}
