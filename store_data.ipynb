{
 "metadata": {
  "language_info": {
   "codemirror_mode": {
    "name": "ipython",
    "version": 3
   },
   "file_extension": ".py",
   "mimetype": "text/x-python",
   "name": "python",
   "nbconvert_exporter": "python",
   "pygments_lexer": "ipython3",
   "version": "3.7.5-final"
  },
  "orig_nbformat": 2,
  "kernelspec": {
   "name": "python3",
   "display_name": "Python 3"
  }
 },
 "nbformat": 4,
 "nbformat_minor": 2,
 "cells": [
  {
   "cell_type": "code",
   "execution_count": 1,
   "metadata": {},
   "outputs": [],
   "source": [
    "# import data\n",
    "MPST_FILE = \"data/mpst/mpst_full_data.csv\"\n",
    "MD_DIR = \"data/movie_dataset\"\n",
    "OSCAR_FILE = \"data/the_oscar_award.csv\""
   ]
  },
  {
   "cell_type": "code",
   "execution_count": 2,
   "metadata": {},
   "outputs": [],
   "source": [
    "import pymongo\n",
    "import json \n",
    "import pandas as pd"
   ]
  },
  {
   "cell_type": "code",
   "execution_count": 3,
   "metadata": {},
   "outputs": [],
   "source": [
    "URI = \"mongodb://127.0.0.1:27017/?readPreference=primary&ssl=false\"\n",
    "client = pymongo.MongoClient(URI)"
   ]
  },
  {
   "cell_type": "code",
   "execution_count": 29,
   "metadata": {},
   "outputs": [
    {
     "output_type": "execute_result",
     "data": {
      "text/plain": "                                                   title  \\\n_id                                                        \ntt0057603                        I tre volti della paura   \ntt1733125  Dungeons & Dragons: The Book of Vile Darkness   \ntt0033045                     The Shop Around the Corner   \ntt0113862                             Mr. Holland's Opus   \ntt0086250                                       Scarface   \n\n                                               plot_synopsis  \\\n_id                                                            \ntt0057603  Note: this synopsis is for the orginal Italian...   \ntt1733125  Two thousand years ago, Nhagruul the Foul, a s...   \ntt0033045  Matuschek's, a gift store in Budapest, is the ...   \ntt0113862  Glenn Holland, not a morning person by anyone'...   \ntt0086250  In May 1980, a Cuban man named Tony Montana (A...   \n\n                                                        tags  split  \\\n_id                                                                   \ntt0057603          cult, horror, gothic, murder, atmospheric  train   \ntt1733125                                           violence  train   \ntt0033045                                           romantic   test   \ntt0113862             inspiring, romantic, stupid, feel-good  train   \ntt0086250  cruelty, murder, dramatic, cult, violence, atm...    val   \n\n          synopsis_source  \n_id                        \ntt0057603            imdb  \ntt1733125            imdb  \ntt0033045            imdb  \ntt0113862            imdb  \ntt0086250            imdb  ",
      "text/html": "<div>\n<style scoped>\n    .dataframe tbody tr th:only-of-type {\n        vertical-align: middle;\n    }\n\n    .dataframe tbody tr th {\n        vertical-align: top;\n    }\n\n    .dataframe thead th {\n        text-align: right;\n    }\n</style>\n<table border=\"1\" class=\"dataframe\">\n  <thead>\n    <tr style=\"text-align: right;\">\n      <th></th>\n      <th>title</th>\n      <th>plot_synopsis</th>\n      <th>tags</th>\n      <th>split</th>\n      <th>synopsis_source</th>\n    </tr>\n    <tr>\n      <th>_id</th>\n      <th></th>\n      <th></th>\n      <th></th>\n      <th></th>\n      <th></th>\n    </tr>\n  </thead>\n  <tbody>\n    <tr>\n      <th>tt0057603</th>\n      <td>I tre volti della paura</td>\n      <td>Note: this synopsis is for the orginal Italian...</td>\n      <td>cult, horror, gothic, murder, atmospheric</td>\n      <td>train</td>\n      <td>imdb</td>\n    </tr>\n    <tr>\n      <th>tt1733125</th>\n      <td>Dungeons &amp; Dragons: The Book of Vile Darkness</td>\n      <td>Two thousand years ago, Nhagruul the Foul, a s...</td>\n      <td>violence</td>\n      <td>train</td>\n      <td>imdb</td>\n    </tr>\n    <tr>\n      <th>tt0033045</th>\n      <td>The Shop Around the Corner</td>\n      <td>Matuschek's, a gift store in Budapest, is the ...</td>\n      <td>romantic</td>\n      <td>test</td>\n      <td>imdb</td>\n    </tr>\n    <tr>\n      <th>tt0113862</th>\n      <td>Mr. Holland's Opus</td>\n      <td>Glenn Holland, not a morning person by anyone'...</td>\n      <td>inspiring, romantic, stupid, feel-good</td>\n      <td>train</td>\n      <td>imdb</td>\n    </tr>\n    <tr>\n      <th>tt0086250</th>\n      <td>Scarface</td>\n      <td>In May 1980, a Cuban man named Tony Montana (A...</td>\n      <td>cruelty, murder, dramatic, cult, violence, atm...</td>\n      <td>val</td>\n      <td>imdb</td>\n    </tr>\n  </tbody>\n</table>\n</div>"
     },
     "metadata": {},
     "execution_count": 29
    }
   ],
   "source": [
    "mpst_df = pd.read_csv(MPST_FILE)\n",
    "mpst_df = mpst_df.rename(columns={\"imdb_id\":\"_id\"})#for mongo\n",
    "mpst_df[mpst_df._id.duplicated()]#no duplicated ids\n",
    "mpst_df = mpst_df.set_index(\"_id\")\n",
    "mpst_df.head()"
   ]
  },
  {
   "cell_type": "code",
   "execution_count": 30,
   "metadata": {},
   "outputs": [],
   "source": [
    "#separate tags\n",
    "tags_df = mpst_df[[\"tags\"]].reset_index()\n",
    "#separate metadata\n",
    "meta_df = mpst_df[[\"split\",\"synopsis_source\"]].reset_index()\n",
    "mpst_df = mpst_df.drop(columns=[\"split\",\"synopsis_source\",\"tags\"]).reset_index()"
   ]
  },
  {
   "cell_type": "code",
   "execution_count": 31,
   "metadata": {},
   "outputs": [
    {
     "output_type": "execute_result",
     "data": {
      "text/plain": "<pymongo.results.InsertManyResult at 0x26011728188>"
     },
     "metadata": {},
     "execution_count": 31
    }
   ],
   "source": [
    "#create db for the data set\n",
    "db = client['MPST']\n",
    "db['plots'].insert_many(mpst_df.to_dict(\"records\"))\n",
    "db['tags'].insert_many(tags_df.to_dict(\"records\"))\n",
    "db['metadata'].insert_many(meta_df.to_dict(\"records\"))"
   ]
  },
  {
   "cell_type": "code",
   "execution_count": 32,
   "metadata": {},
   "outputs": [],
   "source": [
    "## MOvie dataset"
   ]
  },
  {
   "cell_type": "code",
   "execution_count": 4,
   "metadata": {
    "tags": []
   },
   "outputs": [],
   "source": [
    "import os \n",
    "data = {}\n",
    "for f in os.listdir(MD_DIR):\n",
    "    name = f.split(\".\")[0]\n",
    "    if \"small\" not in name: #load full dataset\n",
    "        path = os.path.join(MD_DIR,f)\n",
    "        data[name] = pd.read_csv(path)"
   ]
  },
  {
   "cell_type": "code",
   "execution_count": 5,
   "metadata": {},
   "outputs": [
    {
     "output_type": "execute_result",
     "data": {
      "text/plain": "dict_keys(['credits', 'keywords', 'links', 'movies_metadata', 'ratings'])"
     },
     "metadata": {},
     "execution_count": 5
    }
   ],
   "source": [
    "data.keys()"
   ]
  },
  {
   "cell_type": "code",
   "execution_count": 6,
   "metadata": {},
   "outputs": [
    {
     "output_type": "execute_result",
     "data": {
      "text/plain": "   adult                              belongs_to_collection    budget  \\\n0  False  {'id': 10194, 'name': 'Toy Story Collection', ...  30000000   \n1  False                                                NaN  65000000   \n2  False  {'id': 119050, 'name': 'Grumpy Old Men Collect...         0   \n3  False                                                NaN  16000000   \n4  False  {'id': 96871, 'name': 'Father of the Bride Col...         0   \n\n                                              genres     id original_language  \\\n0  [{'id': 16, 'name': 'Animation'}, {'id': 35, '...    862                en   \n1  [{'id': 12, 'name': 'Adventure'}, {'id': 14, '...   8844                en   \n2  [{'id': 10749, 'name': 'Romance'}, {'id': 35, ...  15602                en   \n3  [{'id': 35, 'name': 'Comedy'}, {'id': 18, 'nam...  31357                en   \n4                     [{'id': 35, 'name': 'Comedy'}]  11862                en   \n\n                original_title  \\\n0                    Toy Story   \n1                      Jumanji   \n2             Grumpier Old Men   \n3            Waiting to Exhale   \n4  Father of the Bride Part II   \n\n                                            overview popularity  \\\n0  Led by Woody, Andy's toys live happily in his ...    21.9469   \n1  When siblings Judy and Peter discover an encha...    17.0155   \n2  A family wedding reignites the ancient feud be...    11.7129   \n3  Cheated on, mistreated and stepped on, the wom...    3.85949   \n4  Just when George Banks has recovered from his ...    8.38752   \n\n                        poster_path  ... release_date      revenue runtime  \\\n0  /rhIRbceoE9lR4veEXuwCC2wARtG.jpg  ...   1995-10-30  373554033.0    81.0   \n1  /vzmL6fP7aPKNKPRTFnZmiUfciyV.jpg  ...   1995-12-15  262797249.0   104.0   \n2  /6ksm1sjKMFLbO7UY2i6G1ju9SML.jpg  ...   1995-12-22          0.0   101.0   \n3  /16XOMpEaLWkrcPqSQqhTmeJuqQl.jpg  ...   1995-12-22   81452156.0   127.0   \n4  /e64sOI48hQXyru7naBFyssKFxVd.jpg  ...   1995-02-10   76578911.0   106.0   \n\n                                    spoken_languages    status  \\\n0           [{'iso_639_1': 'en', 'name': 'English'}]  Released   \n1  [{'iso_639_1': 'en', 'name': 'English'}, {'iso...  Released   \n2           [{'iso_639_1': 'en', 'name': 'English'}]  Released   \n3           [{'iso_639_1': 'en', 'name': 'English'}]  Released   \n4           [{'iso_639_1': 'en', 'name': 'English'}]  Released   \n\n                                             tagline  \\\n0                                                NaN   \n1          Roll the dice and unleash the excitement!   \n2  Still Yelling. Still Fighting. Still Ready for...   \n3  Friends are the people who let you be yourself...   \n4  Just When His World Is Back To Normal... He's ...   \n\n                         title  video vote_average vote_count  \n0                    Toy Story  False          7.7     5415.0  \n1                      Jumanji  False          6.9     2413.0  \n2             Grumpier Old Men  False          6.5       92.0  \n3            Waiting to Exhale  False          6.1       34.0  \n4  Father of the Bride Part II  False          5.7      173.0  \n\n[5 rows x 22 columns]",
      "text/html": "<div>\n<style scoped>\n    .dataframe tbody tr th:only-of-type {\n        vertical-align: middle;\n    }\n\n    .dataframe tbody tr th {\n        vertical-align: top;\n    }\n\n    .dataframe thead th {\n        text-align: right;\n    }\n</style>\n<table border=\"1\" class=\"dataframe\">\n  <thead>\n    <tr style=\"text-align: right;\">\n      <th></th>\n      <th>adult</th>\n      <th>belongs_to_collection</th>\n      <th>budget</th>\n      <th>genres</th>\n      <th>id</th>\n      <th>original_language</th>\n      <th>original_title</th>\n      <th>overview</th>\n      <th>popularity</th>\n      <th>poster_path</th>\n      <th>...</th>\n      <th>release_date</th>\n      <th>revenue</th>\n      <th>runtime</th>\n      <th>spoken_languages</th>\n      <th>status</th>\n      <th>tagline</th>\n      <th>title</th>\n      <th>video</th>\n      <th>vote_average</th>\n      <th>vote_count</th>\n    </tr>\n  </thead>\n  <tbody>\n    <tr>\n      <th>0</th>\n      <td>False</td>\n      <td>{'id': 10194, 'name': 'Toy Story Collection', ...</td>\n      <td>30000000</td>\n      <td>[{'id': 16, 'name': 'Animation'}, {'id': 35, '...</td>\n      <td>862</td>\n      <td>en</td>\n      <td>Toy Story</td>\n      <td>Led by Woody, Andy's toys live happily in his ...</td>\n      <td>21.9469</td>\n      <td>/rhIRbceoE9lR4veEXuwCC2wARtG.jpg</td>\n      <td>...</td>\n      <td>1995-10-30</td>\n      <td>373554033.0</td>\n      <td>81.0</td>\n      <td>[{'iso_639_1': 'en', 'name': 'English'}]</td>\n      <td>Released</td>\n      <td>NaN</td>\n      <td>Toy Story</td>\n      <td>False</td>\n      <td>7.7</td>\n      <td>5415.0</td>\n    </tr>\n    <tr>\n      <th>1</th>\n      <td>False</td>\n      <td>NaN</td>\n      <td>65000000</td>\n      <td>[{'id': 12, 'name': 'Adventure'}, {'id': 14, '...</td>\n      <td>8844</td>\n      <td>en</td>\n      <td>Jumanji</td>\n      <td>When siblings Judy and Peter discover an encha...</td>\n      <td>17.0155</td>\n      <td>/vzmL6fP7aPKNKPRTFnZmiUfciyV.jpg</td>\n      <td>...</td>\n      <td>1995-12-15</td>\n      <td>262797249.0</td>\n      <td>104.0</td>\n      <td>[{'iso_639_1': 'en', 'name': 'English'}, {'iso...</td>\n      <td>Released</td>\n      <td>Roll the dice and unleash the excitement!</td>\n      <td>Jumanji</td>\n      <td>False</td>\n      <td>6.9</td>\n      <td>2413.0</td>\n    </tr>\n    <tr>\n      <th>2</th>\n      <td>False</td>\n      <td>{'id': 119050, 'name': 'Grumpy Old Men Collect...</td>\n      <td>0</td>\n      <td>[{'id': 10749, 'name': 'Romance'}, {'id': 35, ...</td>\n      <td>15602</td>\n      <td>en</td>\n      <td>Grumpier Old Men</td>\n      <td>A family wedding reignites the ancient feud be...</td>\n      <td>11.7129</td>\n      <td>/6ksm1sjKMFLbO7UY2i6G1ju9SML.jpg</td>\n      <td>...</td>\n      <td>1995-12-22</td>\n      <td>0.0</td>\n      <td>101.0</td>\n      <td>[{'iso_639_1': 'en', 'name': 'English'}]</td>\n      <td>Released</td>\n      <td>Still Yelling. Still Fighting. Still Ready for...</td>\n      <td>Grumpier Old Men</td>\n      <td>False</td>\n      <td>6.5</td>\n      <td>92.0</td>\n    </tr>\n    <tr>\n      <th>3</th>\n      <td>False</td>\n      <td>NaN</td>\n      <td>16000000</td>\n      <td>[{'id': 35, 'name': 'Comedy'}, {'id': 18, 'nam...</td>\n      <td>31357</td>\n      <td>en</td>\n      <td>Waiting to Exhale</td>\n      <td>Cheated on, mistreated and stepped on, the wom...</td>\n      <td>3.85949</td>\n      <td>/16XOMpEaLWkrcPqSQqhTmeJuqQl.jpg</td>\n      <td>...</td>\n      <td>1995-12-22</td>\n      <td>81452156.0</td>\n      <td>127.0</td>\n      <td>[{'iso_639_1': 'en', 'name': 'English'}]</td>\n      <td>Released</td>\n      <td>Friends are the people who let you be yourself...</td>\n      <td>Waiting to Exhale</td>\n      <td>False</td>\n      <td>6.1</td>\n      <td>34.0</td>\n    </tr>\n    <tr>\n      <th>4</th>\n      <td>False</td>\n      <td>{'id': 96871, 'name': 'Father of the Bride Col...</td>\n      <td>0</td>\n      <td>[{'id': 35, 'name': 'Comedy'}]</td>\n      <td>11862</td>\n      <td>en</td>\n      <td>Father of the Bride Part II</td>\n      <td>Just when George Banks has recovered from his ...</td>\n      <td>8.38752</td>\n      <td>/e64sOI48hQXyru7naBFyssKFxVd.jpg</td>\n      <td>...</td>\n      <td>1995-02-10</td>\n      <td>76578911.0</td>\n      <td>106.0</td>\n      <td>[{'iso_639_1': 'en', 'name': 'English'}]</td>\n      <td>Released</td>\n      <td>Just When His World Is Back To Normal... He's ...</td>\n      <td>Father of the Bride Part II</td>\n      <td>False</td>\n      <td>5.7</td>\n      <td>173.0</td>\n    </tr>\n  </tbody>\n</table>\n<p>5 rows × 22 columns</p>\n</div>"
     },
     "metadata": {},
     "execution_count": 6
    }
   ],
   "source": [
    "data['movies_metadata'] = data['movies_metadata'].drop(columns=[\"homepage\",\"imdb_id\"])\n",
    "#remove duplicated id\n",
    "data['movies_metadata'] = data['movies_metadata'][~data['movies_metadata'].id.duplicated()]\n",
    "#some id are dates (other fields are wrong too, just remove )\n",
    "data['movies_metadata'] = data['movies_metadata'][~data['movies_metadata'].id.str.contains('-')]\n",
    "data['movies_metadata'].id = data['movies_metadata'].id.astype(int) \n",
    "data['movies_metadata'].head()\n",
    "#make a separate table for genres and keep only id \n",
    "#the same for spoken_languanges and belogns_to_collection"
   ]
  },
  {
   "cell_type": "code",
   "execution_count": 212,
   "metadata": {},
   "outputs": [
    {
     "output_type": "execute_result",
     "data": {
      "text/plain": "     _id       name\n0     16  Animation\n1     35     Comedy\n2  10751     Family\n3     12  Adventure\n4     14    Fantasy",
      "text/html": "<div>\n<style scoped>\n    .dataframe tbody tr th:only-of-type {\n        vertical-align: middle;\n    }\n\n    .dataframe tbody tr th {\n        vertical-align: top;\n    }\n\n    .dataframe thead th {\n        text-align: right;\n    }\n</style>\n<table border=\"1\" class=\"dataframe\">\n  <thead>\n    <tr style=\"text-align: right;\">\n      <th></th>\n      <th>_id</th>\n      <th>name</th>\n    </tr>\n  </thead>\n  <tbody>\n    <tr>\n      <th>0</th>\n      <td>16</td>\n      <td>Animation</td>\n    </tr>\n    <tr>\n      <th>1</th>\n      <td>35</td>\n      <td>Comedy</td>\n    </tr>\n    <tr>\n      <th>2</th>\n      <td>10751</td>\n      <td>Family</td>\n    </tr>\n    <tr>\n      <th>3</th>\n      <td>12</td>\n      <td>Adventure</td>\n    </tr>\n    <tr>\n      <th>4</th>\n      <td>14</td>\n      <td>Fantasy</td>\n    </tr>\n  </tbody>\n</table>\n</div>"
     },
     "metadata": {},
     "execution_count": 212
    }
   ],
   "source": [
    "genres = {}\n",
    "genres_ids = []\n",
    "for l in data['movies_metadata'].genres.values:\n",
    "    l = eval(l)\n",
    "    tmp = []\n",
    "    for g in l:\n",
    "        tmp.append(g['id'])\n",
    "        #TODO: check id univoco\n",
    "        if g['id'] not in genres:\n",
    "            genres[g['id']] = g['name']\n",
    "    genres_ids.append(tmp)\n",
    "data['movies_metadata'].genres = genres_ids\n",
    "genres_df = pd.DataFrame(genres.items(), columns=['_id','name'])\n",
    "genres_df.head()"
   ]
  },
  {
   "cell_type": "code",
   "execution_count": 213,
   "metadata": {
    "tags": []
   },
   "outputs": [],
   "source": [
    "langs = {}\n",
    "langs_ids = []\n",
    "for l in data['movies_metadata'].spoken_languages.values:\n",
    "    if type(l) == str:\n",
    "        l = eval(l)\n",
    "        tmp = []\n",
    "        for g in l:\n",
    "            tmp.append(g['iso_639_1'])\n",
    "            if g['iso_639_1'] not in genres:\n",
    "                langs[g['iso_639_1']] = g['name']\n",
    "    else:\n",
    "        tmp = float(\"nan\")\n",
    "    langs_ids.append(tmp)\n",
    "data['movies_metadata'].spoken_languages = langs_ids\n",
    "#langs_df = pd.DataFrame(langs.items(), columns=['_id','name'])\n",
    "#langs_df.head()"
   ]
  },
  {
   "cell_type": "code",
   "execution_count": 214,
   "metadata": {
    "tags": []
   },
   "outputs": [
    {
     "output_type": "execute_result",
     "data": {
      "text/plain": "      _id                            name\n0   10194            Toy Story Collection\n1  119050       Grumpy Old Men Collection\n2   96871  Father of the Bride Collection\n3     645           James Bond Collection\n4  117693                Balto Collection",
      "text/html": "<div>\n<style scoped>\n    .dataframe tbody tr th:only-of-type {\n        vertical-align: middle;\n    }\n\n    .dataframe tbody tr th {\n        vertical-align: top;\n    }\n\n    .dataframe thead th {\n        text-align: right;\n    }\n</style>\n<table border=\"1\" class=\"dataframe\">\n  <thead>\n    <tr style=\"text-align: right;\">\n      <th></th>\n      <th>_id</th>\n      <th>name</th>\n    </tr>\n  </thead>\n  <tbody>\n    <tr>\n      <th>0</th>\n      <td>10194</td>\n      <td>Toy Story Collection</td>\n    </tr>\n    <tr>\n      <th>1</th>\n      <td>119050</td>\n      <td>Grumpy Old Men Collection</td>\n    </tr>\n    <tr>\n      <th>2</th>\n      <td>96871</td>\n      <td>Father of the Bride Collection</td>\n    </tr>\n    <tr>\n      <th>3</th>\n      <td>645</td>\n      <td>James Bond Collection</td>\n    </tr>\n    <tr>\n      <th>4</th>\n      <td>117693</td>\n      <td>Balto Collection</td>\n    </tr>\n  </tbody>\n</table>\n</div>"
     },
     "metadata": {},
     "execution_count": 214
    }
   ],
   "source": [
    "collections = {}\n",
    "collections_ids = []\n",
    "for l in data['movies_metadata'].belongs_to_collection.values:\n",
    "    tmp = None\n",
    "    #print(type(l))\n",
    "    if type(l) == str:\n",
    "        l = eval(l)\n",
    "        #print(l)\n",
    "        if type(l)==dict:\n",
    "            tmp = int(l['id'])\n",
    "            if tmp not in collections:\n",
    "                collections[tmp] = l['name']\n",
    "\n",
    "    collections_ids.append(tmp)\n",
    "data['movies_metadata'].belongs_to_collection = collections_ids\n",
    "collections_df = pd.DataFrame(collections.items(), columns=['_id','name'])\n",
    "collections_df.head()"
   ]
  },
  {
   "cell_type": "code",
   "execution_count": 215,
   "metadata": {},
   "outputs": [
    {
     "output_type": "execute_result",
     "data": {
      "text/plain": "   adult  belongs_to_collection    budget           genres     id  \\\n0  False                10194.0  30000000  [16, 35, 10751]    862   \n1  False                    NaN  65000000  [12, 14, 10751]   8844   \n2  False               119050.0         0      [10749, 35]  15602   \n3  False                    NaN  16000000  [35, 18, 10749]  31357   \n4  False                96871.0         0             [35]  11862   \n\n  original_language               original_title  \\\n0                en                    Toy Story   \n1                en                      Jumanji   \n2                en             Grumpier Old Men   \n3                en            Waiting to Exhale   \n4                en  Father of the Bride Part II   \n\n                                            overview popularity  \\\n0  Led by Woody, Andy's toys live happily in his ...    21.9469   \n1  When siblings Judy and Peter discover an encha...    17.0155   \n2  A family wedding reignites the ancient feud be...    11.7129   \n3  Cheated on, mistreated and stepped on, the wom...    3.85949   \n4  Just when George Banks has recovered from his ...    8.38752   \n\n                        poster_path  ... release_date      revenue runtime  \\\n0  /rhIRbceoE9lR4veEXuwCC2wARtG.jpg  ...   1995-10-30  373554033.0    81.0   \n1  /vzmL6fP7aPKNKPRTFnZmiUfciyV.jpg  ...   1995-12-15  262797249.0   104.0   \n2  /6ksm1sjKMFLbO7UY2i6G1ju9SML.jpg  ...   1995-12-22          0.0   101.0   \n3  /16XOMpEaLWkrcPqSQqhTmeJuqQl.jpg  ...   1995-12-22   81452156.0   127.0   \n4  /e64sOI48hQXyru7naBFyssKFxVd.jpg  ...   1995-02-10   76578911.0   106.0   \n\n   spoken_languages    status  \\\n0              [en]  Released   \n1          [en, fr]  Released   \n2              [en]  Released   \n3              [en]  Released   \n4              [en]  Released   \n\n                                             tagline  \\\n0                                                NaN   \n1          Roll the dice and unleash the excitement!   \n2  Still Yelling. Still Fighting. Still Ready for...   \n3  Friends are the people who let you be yourself...   \n4  Just When His World Is Back To Normal... He's ...   \n\n                         title  video vote_average vote_count  \n0                    Toy Story  False          7.7     5415.0  \n1                      Jumanji  False          6.9     2413.0  \n2             Grumpier Old Men  False          6.5       92.0  \n3            Waiting to Exhale  False          6.1       34.0  \n4  Father of the Bride Part II  False          5.7      173.0  \n\n[5 rows x 22 columns]",
      "text/html": "<div>\n<style scoped>\n    .dataframe tbody tr th:only-of-type {\n        vertical-align: middle;\n    }\n\n    .dataframe tbody tr th {\n        vertical-align: top;\n    }\n\n    .dataframe thead th {\n        text-align: right;\n    }\n</style>\n<table border=\"1\" class=\"dataframe\">\n  <thead>\n    <tr style=\"text-align: right;\">\n      <th></th>\n      <th>adult</th>\n      <th>belongs_to_collection</th>\n      <th>budget</th>\n      <th>genres</th>\n      <th>id</th>\n      <th>original_language</th>\n      <th>original_title</th>\n      <th>overview</th>\n      <th>popularity</th>\n      <th>poster_path</th>\n      <th>...</th>\n      <th>release_date</th>\n      <th>revenue</th>\n      <th>runtime</th>\n      <th>spoken_languages</th>\n      <th>status</th>\n      <th>tagline</th>\n      <th>title</th>\n      <th>video</th>\n      <th>vote_average</th>\n      <th>vote_count</th>\n    </tr>\n  </thead>\n  <tbody>\n    <tr>\n      <th>0</th>\n      <td>False</td>\n      <td>10194.0</td>\n      <td>30000000</td>\n      <td>[16, 35, 10751]</td>\n      <td>862</td>\n      <td>en</td>\n      <td>Toy Story</td>\n      <td>Led by Woody, Andy's toys live happily in his ...</td>\n      <td>21.9469</td>\n      <td>/rhIRbceoE9lR4veEXuwCC2wARtG.jpg</td>\n      <td>...</td>\n      <td>1995-10-30</td>\n      <td>373554033.0</td>\n      <td>81.0</td>\n      <td>[en]</td>\n      <td>Released</td>\n      <td>NaN</td>\n      <td>Toy Story</td>\n      <td>False</td>\n      <td>7.7</td>\n      <td>5415.0</td>\n    </tr>\n    <tr>\n      <th>1</th>\n      <td>False</td>\n      <td>NaN</td>\n      <td>65000000</td>\n      <td>[12, 14, 10751]</td>\n      <td>8844</td>\n      <td>en</td>\n      <td>Jumanji</td>\n      <td>When siblings Judy and Peter discover an encha...</td>\n      <td>17.0155</td>\n      <td>/vzmL6fP7aPKNKPRTFnZmiUfciyV.jpg</td>\n      <td>...</td>\n      <td>1995-12-15</td>\n      <td>262797249.0</td>\n      <td>104.0</td>\n      <td>[en, fr]</td>\n      <td>Released</td>\n      <td>Roll the dice and unleash the excitement!</td>\n      <td>Jumanji</td>\n      <td>False</td>\n      <td>6.9</td>\n      <td>2413.0</td>\n    </tr>\n    <tr>\n      <th>2</th>\n      <td>False</td>\n      <td>119050.0</td>\n      <td>0</td>\n      <td>[10749, 35]</td>\n      <td>15602</td>\n      <td>en</td>\n      <td>Grumpier Old Men</td>\n      <td>A family wedding reignites the ancient feud be...</td>\n      <td>11.7129</td>\n      <td>/6ksm1sjKMFLbO7UY2i6G1ju9SML.jpg</td>\n      <td>...</td>\n      <td>1995-12-22</td>\n      <td>0.0</td>\n      <td>101.0</td>\n      <td>[en]</td>\n      <td>Released</td>\n      <td>Still Yelling. Still Fighting. Still Ready for...</td>\n      <td>Grumpier Old Men</td>\n      <td>False</td>\n      <td>6.5</td>\n      <td>92.0</td>\n    </tr>\n    <tr>\n      <th>3</th>\n      <td>False</td>\n      <td>NaN</td>\n      <td>16000000</td>\n      <td>[35, 18, 10749]</td>\n      <td>31357</td>\n      <td>en</td>\n      <td>Waiting to Exhale</td>\n      <td>Cheated on, mistreated and stepped on, the wom...</td>\n      <td>3.85949</td>\n      <td>/16XOMpEaLWkrcPqSQqhTmeJuqQl.jpg</td>\n      <td>...</td>\n      <td>1995-12-22</td>\n      <td>81452156.0</td>\n      <td>127.0</td>\n      <td>[en]</td>\n      <td>Released</td>\n      <td>Friends are the people who let you be yourself...</td>\n      <td>Waiting to Exhale</td>\n      <td>False</td>\n      <td>6.1</td>\n      <td>34.0</td>\n    </tr>\n    <tr>\n      <th>4</th>\n      <td>False</td>\n      <td>96871.0</td>\n      <td>0</td>\n      <td>[35]</td>\n      <td>11862</td>\n      <td>en</td>\n      <td>Father of the Bride Part II</td>\n      <td>Just when George Banks has recovered from his ...</td>\n      <td>8.38752</td>\n      <td>/e64sOI48hQXyru7naBFyssKFxVd.jpg</td>\n      <td>...</td>\n      <td>1995-02-10</td>\n      <td>76578911.0</td>\n      <td>106.0</td>\n      <td>[en]</td>\n      <td>Released</td>\n      <td>Just When His World Is Back To Normal... He's ...</td>\n      <td>Father of the Bride Part II</td>\n      <td>False</td>\n      <td>5.7</td>\n      <td>173.0</td>\n    </tr>\n  </tbody>\n</table>\n<p>5 rows × 22 columns</p>\n</div>"
     },
     "metadata": {},
     "execution_count": 215
    }
   ],
   "source": [
    "#data['movies_metadata'] = data['movies_metadata'].rename(columns={'id','_id'})\n",
    "#data['movies_metadata'].id = data['movies_metadata'].id.astype(int)\n",
    "#data['movies_metadata'].adult = data['movies_metadata'].adult.apply(lambda x: x.lower().strip() == \"true\")\n",
    "from collections.abc import Iterable \n",
    "def f(s):\n",
    "    if type(s)!=str:\n",
    "        return None\n",
    "    l = eval(s)\n",
    "    if not isinstance(l, Iterable):\n",
    "        return None\n",
    "    return [c['iso_3166_1'] for c in l]\n",
    "data['movies_metadata'].production_countries = data['movies_metadata'].production_countries.apply(f)\n",
    "data['movies_metadata'].head()"
   ]
  },
  {
   "cell_type": "code",
   "execution_count": 216,
   "metadata": {},
   "outputs": [],
   "source": [
    "#data['movies_metadata'].budget = pd.to_numeric(data['movies_metadata'].budget, errors='coerce' )\n",
    "#data['movies_metadata'].release_date = pd.to_datetime(data['movies_metadata'].release_date, errors='coerce')\n",
    "#data['movies_metadata'].release_date = data['movies_metadata'].release_date.dt.date\n",
    "#data['movies_metadata'].release_date[data['movies_metadata'].release_date.isnull()] = None\n",
    "#data['movies_metadata']\n",
    "#TODO: fix NaT problems with mongo"
   ]
  },
  {
   "cell_type": "code",
   "execution_count": 217,
   "metadata": {
    "tags": []
   },
   "outputs": [
    {
     "output_type": "execute_result",
     "data": {
      "text/plain": "     _id                       name\n0      3    Pixar Animation Studios\n1    559           TriStar Pictures\n2   2550               Teitler Film\n3  10201  Interscope Communications\n4   6194               Warner Bros.",
      "text/html": "<div>\n<style scoped>\n    .dataframe tbody tr th:only-of-type {\n        vertical-align: middle;\n    }\n\n    .dataframe tbody tr th {\n        vertical-align: top;\n    }\n\n    .dataframe thead th {\n        text-align: right;\n    }\n</style>\n<table border=\"1\" class=\"dataframe\">\n  <thead>\n    <tr style=\"text-align: right;\">\n      <th></th>\n      <th>_id</th>\n      <th>name</th>\n    </tr>\n  </thead>\n  <tbody>\n    <tr>\n      <th>0</th>\n      <td>3</td>\n      <td>Pixar Animation Studios</td>\n    </tr>\n    <tr>\n      <th>1</th>\n      <td>559</td>\n      <td>TriStar Pictures</td>\n    </tr>\n    <tr>\n      <th>2</th>\n      <td>2550</td>\n      <td>Teitler Film</td>\n    </tr>\n    <tr>\n      <th>3</th>\n      <td>10201</td>\n      <td>Interscope Communications</td>\n    </tr>\n    <tr>\n      <th>4</th>\n      <td>6194</td>\n      <td>Warner Bros.</td>\n    </tr>\n  </tbody>\n</table>\n</div>"
     },
     "metadata": {},
     "execution_count": 217
    }
   ],
   "source": [
    "comp = {}\n",
    "comp_ids = []\n",
    "for v in data['movies_metadata'].production_companies:\n",
    "    ids = None\n",
    "    if type(v) == str:\n",
    "        prod_comps = eval(v)\n",
    "        if prod_comps:\n",
    "            #print(prod_comps)\n",
    "            ids = []\n",
    "            for pc in prod_comps:\n",
    "                if pc['id'] not in comp:\n",
    "                    comp[pc['id']] = pc['name']\n",
    "                ids.append(pc['id'])\n",
    "    comp_ids.append(ids)\n",
    "data['movies_metadata'].production_companies = comp_ids\n",
    "prod_comp_df = pd.DataFrame(comp.items(), columns=['_id','name'])\n",
    "prod_comp_df.head()"
   ]
  },
  {
   "cell_type": "code",
   "execution_count": 218,
   "metadata": {},
   "outputs": [
    {
     "output_type": "execute_result",
     "data": {
      "text/plain": "   userId  movieId  rating   timestamp\n0       1      110     1.0  1425941529\n1       1      147     4.5  1425942435\n2       1      858     5.0  1425941523\n3       1     1221     5.0  1425941546\n4       1     1246     5.0  1425941556",
      "text/html": "<div>\n<style scoped>\n    .dataframe tbody tr th:only-of-type {\n        vertical-align: middle;\n    }\n\n    .dataframe tbody tr th {\n        vertical-align: top;\n    }\n\n    .dataframe thead th {\n        text-align: right;\n    }\n</style>\n<table border=\"1\" class=\"dataframe\">\n  <thead>\n    <tr style=\"text-align: right;\">\n      <th></th>\n      <th>userId</th>\n      <th>movieId</th>\n      <th>rating</th>\n      <th>timestamp</th>\n    </tr>\n  </thead>\n  <tbody>\n    <tr>\n      <th>0</th>\n      <td>1</td>\n      <td>110</td>\n      <td>1.0</td>\n      <td>1425941529</td>\n    </tr>\n    <tr>\n      <th>1</th>\n      <td>1</td>\n      <td>147</td>\n      <td>4.5</td>\n      <td>1425942435</td>\n    </tr>\n    <tr>\n      <th>2</th>\n      <td>1</td>\n      <td>858</td>\n      <td>5.0</td>\n      <td>1425941523</td>\n    </tr>\n    <tr>\n      <th>3</th>\n      <td>1</td>\n      <td>1221</td>\n      <td>5.0</td>\n      <td>1425941546</td>\n    </tr>\n    <tr>\n      <th>4</th>\n      <td>1</td>\n      <td>1246</td>\n      <td>5.0</td>\n      <td>1425941556</td>\n    </tr>\n  </tbody>\n</table>\n</div>"
     },
     "metadata": {},
     "execution_count": 218
    }
   ],
   "source": [
    "data['ratings'].head()\n",
    "#no unique index. TODO:cast timestamp to datetime\n",
    "#pd.to_datetime(data['ratings'].timestamp"
   ]
  },
  {
   "cell_type": "code",
   "execution_count": 219,
   "metadata": {},
   "outputs": [
    {
     "output_type": "execute_result",
     "data": {
      "text/plain": "   movieId  imdbId   tmdbId\n0        1  114709    862.0\n1        2  113497   8844.0\n2        3  113228  15602.0\n3        4  114885  31357.0\n4        5  113041  11862.0",
      "text/html": "<div>\n<style scoped>\n    .dataframe tbody tr th:only-of-type {\n        vertical-align: middle;\n    }\n\n    .dataframe tbody tr th {\n        vertical-align: top;\n    }\n\n    .dataframe thead th {\n        text-align: right;\n    }\n</style>\n<table border=\"1\" class=\"dataframe\">\n  <thead>\n    <tr style=\"text-align: right;\">\n      <th></th>\n      <th>movieId</th>\n      <th>imdbId</th>\n      <th>tmdbId</th>\n    </tr>\n  </thead>\n  <tbody>\n    <tr>\n      <th>0</th>\n      <td>1</td>\n      <td>114709</td>\n      <td>862.0</td>\n    </tr>\n    <tr>\n      <th>1</th>\n      <td>2</td>\n      <td>113497</td>\n      <td>8844.0</td>\n    </tr>\n    <tr>\n      <th>2</th>\n      <td>3</td>\n      <td>113228</td>\n      <td>15602.0</td>\n    </tr>\n    <tr>\n      <th>3</th>\n      <td>4</td>\n      <td>114885</td>\n      <td>31357.0</td>\n    </tr>\n    <tr>\n      <th>4</th>\n      <td>5</td>\n      <td>113041</td>\n      <td>11862.0</td>\n    </tr>\n  </tbody>\n</table>\n</div>"
     },
     "metadata": {},
     "execution_count": 219
    }
   ],
   "source": [
    "data['links'].head()\n",
    "#the dataset id, internet movies db id, the movie db id\n",
    "#for join other dataset"
   ]
  },
  {
   "cell_type": "code",
   "execution_count": 220,
   "metadata": {},
   "outputs": [
    {
     "output_type": "execute_result",
     "data": {
      "text/plain": "    _id        name                                          movie_ids\n0   931    jealousy  [862, 16420, 35196, 649, 18183, 2307, 888, 275...\n1  4290         toy  [862, 11934, 9279, 9714, 10585, 11597, 1857, 9...\n2  5202         boy  [862, 73067, 10895, 50850, 8838, 24808, 5332, ...\n3  6054  friendship  [862, 902, 400, 8839, 9382, 236, 10464, 888, 1...\n4  9713     friends  [862, 16420, 10474, 8839, 9382, 1024, 48287, 9...",
      "text/html": "<div>\n<style scoped>\n    .dataframe tbody tr th:only-of-type {\n        vertical-align: middle;\n    }\n\n    .dataframe tbody tr th {\n        vertical-align: top;\n    }\n\n    .dataframe thead th {\n        text-align: right;\n    }\n</style>\n<table border=\"1\" class=\"dataframe\">\n  <thead>\n    <tr style=\"text-align: right;\">\n      <th></th>\n      <th>_id</th>\n      <th>name</th>\n      <th>movie_ids</th>\n    </tr>\n  </thead>\n  <tbody>\n    <tr>\n      <th>0</th>\n      <td>931</td>\n      <td>jealousy</td>\n      <td>[862, 16420, 35196, 649, 18183, 2307, 888, 275...</td>\n    </tr>\n    <tr>\n      <th>1</th>\n      <td>4290</td>\n      <td>toy</td>\n      <td>[862, 11934, 9279, 9714, 10585, 11597, 1857, 9...</td>\n    </tr>\n    <tr>\n      <th>2</th>\n      <td>5202</td>\n      <td>boy</td>\n      <td>[862, 73067, 10895, 50850, 8838, 24808, 5332, ...</td>\n    </tr>\n    <tr>\n      <th>3</th>\n      <td>6054</td>\n      <td>friendship</td>\n      <td>[862, 902, 400, 8839, 9382, 236, 10464, 888, 1...</td>\n    </tr>\n    <tr>\n      <th>4</th>\n      <td>9713</td>\n      <td>friends</td>\n      <td>[862, 16420, 10474, 8839, 9382, 1024, 48287, 9...</td>\n    </tr>\n  </tbody>\n</table>\n</div>"
     },
     "metadata": {},
     "execution_count": 220
    }
   ],
   "source": [
    "keywords = {}\n",
    "movies = {}\n",
    "for i,r in data['keywords'].iterrows():\n",
    "    l = []\n",
    "    mv_id = r['id']\n",
    "    for kw in eval(r['keywords']):\n",
    "        if kw['id'] not in keywords:\n",
    "            keywords[kw['id']] = kw['name'], [mv_id]\n",
    "        else:\n",
    "            keywords[kw['id']][1].append(mv_id) \n",
    "    \n",
    "#TODO: join with metadata?\n",
    "kw_df = pd.DataFrame(((a,*b) for a,b in keywords.items()), columns=['_id','name','movie_ids'])\n",
    "kw_df.head()"
   ]
  },
  {
   "cell_type": "code",
   "execution_count": 221,
   "metadata": {},
   "outputs": [],
   "source": [
    "#data['credits'].iloc[0,1]\n",
    "#cast: actor/character\n",
    "#crew: director, producer, interns\n",
    "# -> new collection -> People{_id :int, name :str,gender :int, jobs :List[str]}\n",
    "# nb if person is in cast one job is actor\n",
    "# Credits{\n",
    "#   cast: List[{\n",
    "#               cast_id :int, character :str, credit_id :str, \n",
    "#               order :int, person_id :People._id\n",
    "#         }],\n",
    "#   crew: List[{\n",
    "#               cast_id :int, departement :str, credit_id :str, \n",
    "#               job :str, person_id :People._id\n",
    "#         }],\n",
    "# }"
   ]
  },
  {
   "cell_type": "code",
   "execution_count": 222,
   "metadata": {
    "tags": []
   },
   "outputs": [
    {
     "output_type": "execute_result",
     "data": {
      "text/plain": "     _id           name  gender                      profile_path  \\\n0     31      Tom Hanks       2  /pQFoyx7rp09CJTAb932F2g8Nlho.jpg   \n1  12898      Tim Allen       2  /uX2xVf6pMmPepxnvFWyBtjexzgY.jpg   \n2   7167    Don Rickles       2  /h5BcaDMPRVLHLDzbQavec4xfSdt.jpg   \n3  12899     Jim Varney       2  /eIo2jVVXYgjDtaHoF19Ll9vtW7h.jpg   \n4  12900  Wallace Shawn       2  /oGE6JqPP2xH4tNORKNqxbNPYi7u.jpg   \n\n                                                jobs  \n0  [Actor, Director, Screenplay, Producer, Execut...  \n1                        [Actor, Producer, Director]  \n2                                            [Actor]  \n3                              [Actor, In Memory Of]  \n4                                    [Actor, Writer]  ",
      "text/html": "<div>\n<style scoped>\n    .dataframe tbody tr th:only-of-type {\n        vertical-align: middle;\n    }\n\n    .dataframe tbody tr th {\n        vertical-align: top;\n    }\n\n    .dataframe thead th {\n        text-align: right;\n    }\n</style>\n<table border=\"1\" class=\"dataframe\">\n  <thead>\n    <tr style=\"text-align: right;\">\n      <th></th>\n      <th>_id</th>\n      <th>name</th>\n      <th>gender</th>\n      <th>profile_path</th>\n      <th>jobs</th>\n    </tr>\n  </thead>\n  <tbody>\n    <tr>\n      <th>0</th>\n      <td>31</td>\n      <td>Tom Hanks</td>\n      <td>2</td>\n      <td>/pQFoyx7rp09CJTAb932F2g8Nlho.jpg</td>\n      <td>[Actor, Director, Screenplay, Producer, Execut...</td>\n    </tr>\n    <tr>\n      <th>1</th>\n      <td>12898</td>\n      <td>Tim Allen</td>\n      <td>2</td>\n      <td>/uX2xVf6pMmPepxnvFWyBtjexzgY.jpg</td>\n      <td>[Actor, Producer, Director]</td>\n    </tr>\n    <tr>\n      <th>2</th>\n      <td>7167</td>\n      <td>Don Rickles</td>\n      <td>2</td>\n      <td>/h5BcaDMPRVLHLDzbQavec4xfSdt.jpg</td>\n      <td>[Actor]</td>\n    </tr>\n    <tr>\n      <th>3</th>\n      <td>12899</td>\n      <td>Jim Varney</td>\n      <td>2</td>\n      <td>/eIo2jVVXYgjDtaHoF19Ll9vtW7h.jpg</td>\n      <td>[Actor, In Memory Of]</td>\n    </tr>\n    <tr>\n      <th>4</th>\n      <td>12900</td>\n      <td>Wallace Shawn</td>\n      <td>2</td>\n      <td>/oGE6JqPP2xH4tNORKNqxbNPYi7u.jpg</td>\n      <td>[Actor, Writer]</td>\n    </tr>\n  </tbody>\n</table>\n</div>"
     },
     "metadata": {},
     "execution_count": 222
    }
   ],
   "source": [
    "people = {}\n",
    "cast = []\n",
    "for l in data['credits'].cast.values:\n",
    "    tmp = None\n",
    "    #print(type(l))\n",
    "    if type(l) == str:\n",
    "        l = eval(l)\n",
    "        for p in l:\n",
    "            tmp = int(p['id'])\n",
    "            if tmp not in collections:\n",
    "                people[tmp] = p['name'], p['gender'], p['profile_path'], ['Actor']\n",
    "            \n",
    "            p['person_id'] = p['id']\n",
    "            del p['name'], p['gender'], p['profile_path'], p['id']\n",
    "        cast.append(l)\n",
    "    else:\n",
    "        cast.append(v)\n",
    "\n",
    "crew = []\n",
    "for v in data['credits'].crew.values:\n",
    "    tmp = None\n",
    "    #print(type(l))\n",
    "    if type(v) == str:\n",
    "        l = eval(v)\n",
    "        for p in l:\n",
    "            tmp = int(p['id'])\n",
    "            if tmp not in people:\n",
    "                people[tmp] = p['name'], p['gender'], p['profile_path'], [p['job']]\n",
    "            else:\n",
    "                if p['job'] not in people[tmp][3]:\n",
    "                    people[tmp][3].append(p['job'])\n",
    "            \n",
    "            p['person_id'] = p['id']\n",
    "            del p['name'], p['gender'], p['profile_path'], p['id'], p['job']\n",
    "        crew.append(l)\n",
    "    else:\n",
    "        crew.append(v)\n",
    "    \n",
    "#TODO: remove people info and leave only id inside metadata\n",
    "people_df = pd.DataFrame( ((a,*b) for a,b in people.items()), columns=['_id','name','gender','profile_path','jobs'])\n",
    "people_df.head()\n"
   ]
  },
  {
   "cell_type": "code",
   "execution_count": 223,
   "metadata": {},
   "outputs": [],
   "source": [
    "#create db for the data set\n",
    "db = client['movie_dataset']"
   ]
  },
  {
   "cell_type": "code",
   "execution_count": 224,
   "metadata": {
    "tags": []
   },
   "outputs": [],
   "source": [
    "%timeit\n",
    "crew_df, cast_df = [], []\n",
    "for i, r in data['credits'].iterrows():\n",
    "    df = pd.DataFrame(cast[i])\n",
    "    df['movie_id'] = [r['id']]*len(df)\n",
    "    cast_df.append(df)\n",
    "\n",
    "    df = pd.DataFrame(crew[i])\n",
    "    df['movie_id'] = [r['id']]*len(df)\n",
    "    crew_df.append(df)\n",
    "    if i % 200 == 0: # load every 200 movies -> save memory (hopefully)\n",
    "        crew_df, cast_df = pd.concat(crew_df), pd.concat(cast_df)\n",
    "        db['cast'].insert_many(cast_df.to_dict(\"records\"))\n",
    "        db['crew'].insert_many(crew_df.to_dict(\"records\"))\n",
    "        crew_df, cast_df = [], []\n",
    "\n",
    "if len(crew_df) > 0: \n",
    "    crew_df, cast_df = pd.concat(crew_df), pd.concat(cast_df)\n",
    "    db['cast'].insert_many(cast_df.to_dict(\"records\"))\n",
    "    db['crew'].insert_many(crew_df.to_dict(\"records\"))"
   ]
  },
  {
   "cell_type": "code",
   "execution_count": 225,
   "metadata": {
    "tags": []
   },
   "outputs": [
    {
     "output_type": "stream",
     "name": "stdout",
     "text": "Loading ratings by batches..\n26015000/5203\n"
    },
    {
     "output_type": "execute_result",
     "data": {
      "text/plain": "<pymongo.results.InsertManyResult at 0x260ca611d08>"
     },
     "metadata": {},
     "execution_count": 225
    }
   ],
   "source": [
    "db['ids'].insert_many(data['links'].rename(columns={'movieId':'_id'}).to_dict(\"records\"))\n",
    "db['genres'].insert_many(genres_df.to_dict(\"records\"))\n",
    "db['collections'].insert_many(collections_df.to_dict(\"records\"))\n",
    "db['metadata'].insert_many(data['movies_metadata'].rename(columns={'id':'_id'}).to_dict(\"records\"))\n",
    "db['production_companies'].insert_many(prod_comp_df.to_dict(\"records\"))\n",
    "db['people'].insert_many(people_df.to_dict(\"records\"))\n",
    "db['keywords'].insert_many(kw_df.to_dict(\"records\"))\n",
    "\n",
    "#raise Exception(\"not complete\")\n",
    "\n",
    "#batchs\n",
    "SIZE = 5000\n",
    "limit = len(data['ratings'])\n",
    "print(\"Loading ratings by batches..\")\n",
    "for i in range(0, limit, SIZE):\n",
    "    print(f\"{'x' if i%2==0 else '+' }\", end=\"\\r\")\n",
    "    db['ratings'].insert_many(data['ratings'].iloc[i:i+SIZE].to_dict(\"records\")) #BIG\n",
    "print()\n",
    "db['ratings'].insert_many(data['ratings'].iloc[i+SIZE:].to_dict(\"records\"))"
   ]
  },
  {
   "cell_type": "code",
   "execution_count": null,
   "metadata": {},
   "outputs": [],
   "source": [
    "#OSCARS\n",
    "#TODO: find movie id and person id\n",
    "oscar_df = pd.read_csv(OSCAR_FILE)\n",
    "db['oscar_awards'].insert_many(oscar_df.to_dict(\"records\"))"
   ]
  },
  {
   "cell_type": "code",
   "execution_count": 229,
   "metadata": {},
   "outputs": [],
   "source": [
    "client.close()"
   ]
  }
 ]
}